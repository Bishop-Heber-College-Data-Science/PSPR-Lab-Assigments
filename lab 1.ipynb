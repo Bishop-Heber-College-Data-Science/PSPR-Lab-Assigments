{
 "cells": [
  {
   "cell_type": "markdown",
   "metadata": {},
   "source": [
    "# 1:- write a program in python to input length and breath of rectangle and print area & perimeter of it."
   ]
  },
  {
   "cell_type": "code",
   "execution_count": 3,
   "metadata": {},
   "outputs": [
    {
     "name": "stdout",
     "output_type": "stream",
     "text": [
      "enter the length23\n",
      "enter the breath14\n",
      "perimeter of rectangle is   74\n",
      "area of rectangle is  322\n"
     ]
    }
   ],
   "source": [
    "length=int(input('enter the length  '))\n",
    "breath=int(input('enter the breath  '))\n",
    "perimeter=2*(length+breath)\n",
    "area=length*breath\n",
    "print('perimeter of rectangle is  ',perimeter)\n",
    "print('area of rectangle is ',area)"
   ]
  },
  {
   "cell_type": "markdown",
   "metadata": {},
   "source": [
    "#explaination of prgm 1\n",
    "    #this prgm is to  find the perimeter and area of rectangles \n",
    "    #take the input length and breath from user\n",
    "    #apply the formula to find area and perimeter of rectangle that is 2(l+b) and l*b respectively \n",
    "    #display thr area and perimeter"
   ]
  },
  {
   "cell_type": "markdown",
   "metadata": {},
   "source": [
    "# 2:- write a program to take input as annual basic salary of an employee and calculate as follows\n",
    "#if basic is less than rs150000 then tax =0\n",
    "#if basic is from rs150000 to rs300000 then tax is 20%\n",
    "#if basic is greater than rs300000 than tax is 30%\n",
    "#print name,annual income and tax"
   ]
  },
  {
   "cell_type": "code",
   "execution_count": 6,
   "metadata": {},
   "outputs": [
    {
     "name": "stdout",
     "output_type": "stream",
     "text": [
      "enter the name of employee  Arzoo Sah\n",
      "enter the basic salary of an employee  200000\n",
      "\n",
      "name:  Arzoo Sah \n",
      "basic salary:  200000 \n",
      "Tax:  40000.0\n"
     ]
    }
   ],
   "source": [
    "emp_name=str(input('enter the name of employee  '))\n",
    "bas_sal=int(input('enter the basic salary of an employee  '))\n",
    "if bas_sal < 150000:\n",
    "    tax=0\n",
    "elif bas_sal > 150000 and bas_sal <300000:  \n",
    "    tax=(bas_sal)/5\n",
    "elif bas_sal > 300000:\n",
    "    tax=(3*bas_sal)/10\n",
    "print('\\nname: ',emp_name,'\\nbasic salary: ',bas_sal,'\\nTax: ',tax)    "
   ]
  },
  {
   "cell_type": "markdown",
   "metadata": {},
   "source": [
    "#explaination of prgm2\n",
    "    #this program is to get the name of employee and basic salary from user \n",
    "    #if basic salary is less than 150000 then tax is 0\n",
    "    #if basic salary is more than 150000 and less than 300000 then tax is 20% that is (basic salary*20)/100\n",
    "    #if basic salary is more than 300000 then tax is 30% that is (basic salary * 30)/100\n",
    "    #display name of employee , basic salary and tax in rupees"
   ]
  },
  {
   "cell_type": "markdown",
   "metadata": {},
   "source": [
    "# 3:-write a program to take input of three items and their rate,quantity \n",
    "#calculate amount and discount\n",
    "#If amount > 2000 then discount 20%\n",
    "#If amount > 1500 and amount < 1999 then discount 15%\n",
    "#If amount > 1000 and amount < 1499 then discount 8%\n",
    "#Else discount = 0\n",
    "#display total amount,discount and price to be paid by coustmer"
   ]
  },
  {
   "cell_type": "code",
   "execution_count": 57,
   "metadata": {},
   "outputs": [
    {
     "name": "stdout",
     "output_type": "stream",
     "text": [
      "GROCERY SHOP  \n",
      "\n",
      "enter the item1: soap\n",
      "enter the quantity1: 2\n",
      "enter the rate1: 9\n",
      "\n",
      "enter the item2: oil\n",
      "enter the quantity2: 4\n",
      "enter the rate2: 70\n",
      "\n",
      "enter the item3: ktm\n",
      "enter the quantity3: 4\n",
      "enter the rate3:  78\n",
      "\n",
      "total amount:   610\n",
      "\n",
      "total discount:   0\n",
      "\n",
      "final price to be paid by coustomer:   610\n"
     ]
    }
   ],
   "source": [
    "print(\"GROCERY SHOP  \")\n",
    "name_item1=str(input(\"\\nenter the item1: \"))\n",
    "quantity_1=int(input(\"enter the quantity1: \"))\n",
    "rate_1=int(input(\"enter the rate1: \"))\n",
    "\n",
    "name_item2=str(input(\"\\nenter the item2: \")) \n",
    "quantity_2=int(input(\"enter the quantity2: \"))\n",
    "rate_2=int(input(\"enter the rate2: \"))\n",
    "\n",
    "name_item3=str(input(\"\\nenter the item3: \")) \n",
    "quantity_3=int(input(\"enter the quantity3: \"))\n",
    "rate_3=int(input(\"enter the rate3:  \"))\n",
    "\n",
    "amount=(quantity_1*rate_1)+(quantity_2*rate_2)+(quantity_3*rate_3)\n",
    "price=amount\n",
    "if amount > 2000:\n",
    "    print(\"\\nDISCOUNT 20%....!!\\n\")\n",
    "    discount=amount/5\n",
    "    price -= discount\n",
    "elif amount > 1500 and amount < 1999:\n",
    "    print(\"\\nDISCOUNT 15%.....!!\\n\")\n",
    "    discount = (amount*3)/20\n",
    "    price -= discount\n",
    "elif amount > 1000 and amount < 1499:\n",
    "    print(\"\\nDISCOUNT 8%.....!!\\n\")\n",
    "    discount=(amount*8)/100\n",
    "    price -= discount   \n",
    "else:\n",
    "    discount=0\n",
    "print(\"\\ntotal amount:  \",amount)\n",
    "print(\"\\ntotal discount:  \",discount)\n",
    "print(\"\\nfinal price to be paid by coustomer:  \",price)"
   ]
  },
  {
   "cell_type": "markdown",
   "metadata": {},
   "source": [
    "#explaination of prgm 3\n",
    "#to get the input of three items from user as well as their quantity and rate for each item from user\n",
    "#calculate total amount of all three item by adding the each product of quantity and rate \n",
    "#assign the value of amount to price..\n",
    "#if amount is more than 2000 then discount is 20% that is amount/5 and subtract with assigned price\n",
    "#if amount is more than 1500 and less than 1999 then discount is 15% that is (amount*15)/100 and subtract with assigned price\n",
    "#if amount is more than 1000 and less than 1499 then discount is 8% that is (amount*80)/100 and subract with assigned price\n",
    "#otherwise amount is zero\n",
    "#display total amount , discount and final price to be paid by customer"
   ]
  },
  {
   "cell_type": "markdown",
   "metadata": {},
   "source": [
    "# 4:-Evaluate the expressions"
   ]
  },
  {
   "cell_type": "code",
   "execution_count": 62,
   "metadata": {},
   "outputs": [
    {
     "name": "stdout",
     "output_type": "stream",
     "text": [
      "188.88888888888889\n",
      "7\n"
     ]
    }
   ],
   "source": [
    "x1=(11+31+23+8+7+5)/(1-(1/2)-(1/20))\n",
    "print(x1)\n",
    "x2=(((10*8)+8-((7//5)%(5**4)))&3)|(2<<1)\n",
    "print(x2)"
   ]
  },
  {
   "cell_type": "markdown",
   "metadata": {},
   "source": [
    "#explaintion of prgm 4\n",
    "#x1\n",
    "#division is given more priorty so fist solve num and deno \n",
    "#num is 85 by simply adding all number and deno is 0.45 solve (1/20) and (1/2) then a simply subract all \n",
    "#now x1 is 85 / 0.45\n",
    "#x2\n",
    "#first solve the equation of OR opertor \n",
    "#expr 1 solve the euation of AND opertor \n",
    "#expr 1 solve 10*8 =80 then add 8\n",
    "#solve7//5 is 1 and 5 ** 4 is 625 then 1%625 is 1\n",
    "#therefore 8-1 is 7\n",
    "#then 7&3 is 7\n",
    "#expr 2 (2<<1) is 0\n",
    "#final,7|0 is 7"
   ]
  },
  {
   "cell_type": "markdown",
   "metadata": {},
   "source": [
    "# 5 :- write a program to get name,marks for three subject and find total marks secured , average \n",
    "#class-above 80%\n",
    "#class 60% to 80%\n",
    "#class-40% to 59% \n",
    "#fail otherwise\n",
    "#display congratulation <name> you secured a total of < total marks > and your class is <class>"
   ]
  },
  {
   "cell_type": "code",
   "execution_count": 2,
   "metadata": {},
   "outputs": [
    {
     "name": "stdout",
     "output_type": "stream",
     "text": [
      "STUDENT PERFORMANCE\n",
      "\n",
      "enter the name of the student:-   vaibhav\n",
      "enter the mark 1 50\n",
      "enter the mark 2 40\n",
      "enter the mark 3 60\n",
      "\n",
      "CONGRATULATIONS..... vaibhav \n",
      "You Have Secured a Total Of:-  150 \n",
      "YOUR CLASS IS:-  PASS CLASS\n"
     ]
    }
   ],
   "source": [
    "print('STUDENT PERFORMANCE\\n')\n",
    "name = str(input(\"enter the name of the student:-   \"))\n",
    "mark_1 = int(input(\"enter the mark 1 \"))\n",
    "mark_2 = int(input(\"enter the mark 2 \"))\n",
    "mark_3 = int(input(\"enter the mark 3 \"))\n",
    "total_marks=mark_1+mark_2+mark_3\n",
    "avg=total_marks/3\n",
    "\n",
    "if avg > 80:\n",
    "    division=\"CLASS 1\"\n",
    "elif avg <= 80 and avg >= 60:\n",
    "    division=\"CLASS 2\"\n",
    "elif avg < 60 and avg >= 40:\n",
    "    division=\"PASS CLASS\"\n",
    "else:\n",
    "    division=\"FAILED...!!!\"\n",
    "print(\"\\nCONGRATULATIONS.....\",name,\"\\nYou Have Secured a Total Of:- \",total_marks,\"\\nYOUR CLASS IS:- \",division)"
   ]
  },
  {
   "cell_type": "markdown",
   "metadata": {},
   "source": [
    "#first get the student name and their marks in three subject as input from user\n",
    "#clculate total marks by adding all the three subject marks\n",
    "#take average by dividing total marks by 3\n",
    "#case 1 is if avg is more than 80 then its first class division\n",
    "#case 2 is if avg is between 80  and 60 then its second division\n",
    "#case 3 is if avg is between 60 and 40 then its just pass class\n",
    "#last case its failed\n",
    "#finally,display CONGRATULATION <name> you ahve secured a total of <total marks> your class is <division>"
   ]
  },
  {
   "cell_type": "markdown",
   "metadata": {},
   "source": [
    "# 6:-Get a number print whether it is odd ,even,+ve,-ve or zero\n",
    "#also print ASCII value represent a lowercase , uppercase or digit"
   ]
  },
  {
   "cell_type": "code",
   "execution_count": 1,
   "metadata": {},
   "outputs": [
    {
     "name": "stdout",
     "output_type": "stream",
     "text": [
      "enter the number  \n",
      "111\n",
      "number is POSITIVE \n",
      "\n",
      "number is odd   \n",
      "\n",
      "ASCII values   \n",
      "\n",
      "represents LOWER CASE LETTER   \n",
      "\n",
      "to display ASCII code\n",
      "\n",
      " o\n"
     ]
    }
   ],
   "source": [
    "n=int(input(\"enter the number  \\n\"))\n",
    "if n>0:\n",
    "    print(\"number is POSITIVE \\n\")\n",
    "    if n%2==0:\n",
    "        print(\"number is even  \\n\")\n",
    "    else:\n",
    "        print(\"number is odd   \\n\")     \n",
    "elif n<0:\n",
    "    print(\"number is NEGETIVE   \\n\")\n",
    "    if n%2==0:\n",
    "        print(\"number is even   \\n\")\n",
    "    else:\n",
    "        print(\"number is odd     \\n\")\n",
    "else:\n",
    "    print(\"number is ZERO   \\n\")\n",
    "    \n",
    "    \n",
    "print(\"ASCII values   \\n\")\n",
    "if n>=65 and n<=91:\n",
    "    print(\"represents UPPER CASE LETTER   \\n\")\n",
    "elif n>=97 and n<=122:\n",
    "    print(\"represents LOWER CASE LETTER   \\n\")\n",
    "elif n>=48 and n<=57:\n",
    "    print(\"represents DIGIT   \\n\")\n",
    "    \n",
    "print(\"to display ASCII code\")    \n",
    "val=chr(n)\n",
    "print(\"\\n\",val)"
   ]
  },
  {
   "cell_type": "markdown",
   "metadata": {},
   "source": [
    "#get a number n as input from user \n",
    "#then check whether n is +ve or -ve or zero by if-else \n",
    "#if n is +ve then again check odd n even by nested loop in it  that is if n % 2 is 0 its even otherwise its odd\n",
    "#case 2 is if -ve then again here check odd and even by nested loop in if n%2 is 0 its even otherwise its odd\n",
    "#last case if it is zero then display all;\n",
    "#now,to find ASCII value \n",
    "a-z = 65-91 print lowercase\n",
    "A-Z = 97- 122 print uppercase\n",
    "0-9 = 48-57 print digit\n",
    "#use chr() function to find ASCII code of number (given by user) then display it"
   ]
  }
 ],
 "metadata": {
  "kernelspec": {
   "display_name": "Python 3",
   "language": "python",
   "name": "python3"
  },
  "language_info": {
   "codemirror_mode": {
    "name": "ipython",
    "version": 3
   },
   "file_extension": ".py",
   "mimetype": "text/x-python",
   "name": "python",
   "nbconvert_exporter": "python",
   "pygments_lexer": "ipython3",
   "version": "3.8.3"
  }
 },
 "nbformat": 4,
 "nbformat_minor": 4
}
