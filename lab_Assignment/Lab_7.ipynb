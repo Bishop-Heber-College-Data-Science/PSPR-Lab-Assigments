{
 "cells": [
  {
   "cell_type": "code",
   "execution_count": 9,
   "metadata": {},
   "outputs": [
    {
     "name": "stdout",
     "output_type": "stream",
     "text": [
      "Enter the name and number: Janani 9654516515 janani@bhc.edu.in\n",
      "Enter the name and number: Dharsanaa 54487854115 dhachu@mmk.com\n",
      "Enter the name and number: done\n",
      "\n",
      "Printing Contacts:\n",
      "Janani : ['9654516515', 'janani@bhc.edu.in']\n",
      "Dharsanaa : ['54487854115', 'dhachu@mmk.com']\n"
     ]
    }
   ],
   "source": [
    "#Write a program for Telephone Directory Management\n",
    "#Create an empty dictionary called customers, where name is a key and contacts is a list\n",
    "#of contacts such as phoneno and email ID for each customer.\n",
    "#Ask user to enter name and his contacts for N customers. Add them to dictionary\n",
    "#customers. Stop reading when user types “done”\n",
    "customer = {}\n",
    "while(True):\n",
    "    row = input(\"Enter the name and number: \")\n",
    "    info = row.split()\n",
    "    if(info[0] == \"done\"):\n",
    "        break\n",
    "    name = info[0]\n",
    "    phone = info[1]\n",
    "    email = info[2]\n",
    "    contacts=[phone,email]\n",
    "    customer[name] = contacts\n",
    "print(\"\\nPrinting Contacts:\")\n",
    "for name, phone in customer.items():\n",
    "    print(name, \":\", phone)\n",
    "   "
   ]
  },
  {
   "cell_type": "code",
   "execution_count": 12,
   "metadata": {},
   "outputs": [
    {
     "name": "stdout",
     "output_type": "stream",
     "text": [
      "There is no such contact\n"
     ]
    }
   ],
   "source": [
    "#Show the contacts for customer “rex”. If not exists, print message “Contacts not exists..”\n",
    "if 'rex' in customer:\n",
    "    print(\"rex in present\")\n",
    "else:\n",
    "    print(\"There is no such contact\")"
   ]
  },
  {
   "cell_type": "code",
   "execution_count": 13,
   "metadata": {},
   "outputs": [],
   "source": [
    "#Add a new customer with name “rex”, phone number 9942002764 and email id\n",
    "#yourname@bhc.edu\n",
    "customer['rex']=['9942002764','vijayan@bhc.edu']"
   ]
  },
  {
   "cell_type": "code",
   "execution_count": 41,
   "metadata": {},
   "outputs": [
    {
     "name": "stdout",
     "output_type": "stream",
     "text": [
      "Janani ['9654516515', 'janani@bhc.edu.in']\n",
      "Dharsanaa ['54487854115', 'dhachu@mmk.com']\n"
     ]
    }
   ],
   "source": [
    "#Show all customers both name and contacts. (Use items() method, unpack it and print\n",
    "#inside for loop)\n",
    "for name, contacts in customer.items():\n",
    "    print(name,contacts)"
   ]
  },
  {
   "cell_type": "code",
   "execution_count": 38,
   "metadata": {},
   "outputs": [
    {
     "name": "stdout",
     "output_type": "stream",
     "text": [
      "['9654516515', 'janani@bhc.edu.in']\n",
      "['54487854115', 'dhachu@mmk.com']\n"
     ]
    }
   ],
   "source": [
    "#Show all customer contacts (Iterate using for loop)\n",
    "for name in customer:\n",
    "    print(customer[name])"
   ]
  },
  {
   "cell_type": "code",
   "execution_count": 22,
   "metadata": {},
   "outputs": [
    {
     "data": {
      "text/plain": [
       "['Dharsanaa', 'Janani', 'rex']"
      ]
     },
     "execution_count": 22,
     "metadata": {},
     "output_type": "execute_result"
    }
   ],
   "source": [
    "#Show all customer names in alphabetical order\n",
    "sorted(customer.keys())"
   ]
  },
  {
   "cell_type": "code",
   "execution_count": 23,
   "metadata": {},
   "outputs": [
    {
     "data": {
      "text/plain": [
       "3"
      ]
     },
     "execution_count": 23,
     "metadata": {},
     "output_type": "execute_result"
    }
   ],
   "source": [
    "#How many customers are there in your dictionary?\n",
    "len(customer.items())"
   ]
  },
  {
   "cell_type": "code",
   "execution_count": 24,
   "metadata": {},
   "outputs": [],
   "source": [
    "#Remove customer “rex” from dictionary customers\n",
    "del customer['rex']"
   ]
  },
  {
   "cell_type": "code",
   "execution_count": 25,
   "metadata": {},
   "outputs": [
    {
     "data": {
      "text/plain": [
       "{'Janani': ['9654516515', 'janani@bhc.edu.in'],\n",
       " 'Dharsanaa': ['54487854115', 'dhachu@mmk.com']}"
      ]
     },
     "execution_count": 25,
     "metadata": {},
     "output_type": "execute_result"
    }
   ],
   "source": [
    "customer"
   ]
  },
  {
   "cell_type": "markdown",
   "metadata": {},
   "source": []
  }
 ],
 "metadata": {
  "kernelspec": {
   "display_name": "Python 3",
   "language": "python",
   "name": "python3"
  }
 },
 "nbformat": 4,
 "nbformat_minor": 2
}
