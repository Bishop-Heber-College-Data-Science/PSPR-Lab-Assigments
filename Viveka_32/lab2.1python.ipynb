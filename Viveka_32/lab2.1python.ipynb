{
 "cells": [
  {
   "cell_type": "markdown",
   "metadata": {},
   "source": [
    "Viveka.B"
   ]
  },
  {
   "cell_type": "markdown",
   "metadata": {},
   "source": [
    "DS205229132"
   ]
  },
  {
   "cell_type": "markdown",
   "metadata": {},
   "source": [
    "1.Write a program that accepts numbers continuously as long as the number is positive and prints the sum of the numbers read (Use while loop). A sample user interaction will be: Enter a number: 2 Enter a number: 1 Enter a number: 4 Enter a number: 6 Enter a number: -10 Sum = 13"
   ]
  },
  {
   "cell_type": "code",
   "execution_count": 2,
   "metadata": {},
   "outputs": [
    {
     "name": "stdout",
     "output_type": "stream",
     "text": [
      "enter a number:6\n",
      "sum: 6\n",
      "enter a number:7\n",
      "sum: 13\n",
      "enter a number:8\n",
      "sum: 21\n",
      "enter a number:-3\n",
      "sum: 21\n"
     ]
    }
   ],
   "source": [
    "sum=0\n",
    "while True:\n",
    "    num=int(input(\"enter a number:\"))\n",
    "    if num>0:\n",
    "        sum+=num;\n",
    "    print(\"sum:\",sum)\n",
    "    if num<0:\n",
    "        break"
   ]
  },
  {
   "cell_type": "markdown",
   "metadata": {},
   "source": [
    "In this program,i am using while loop to print sum of the numbers.here input() is use to give input numbers in it,in this program if statement also used.To print the sum of the numbers (sum+=sum) read the numbers is positive values given in this program and it print it out the output."
   ]
  },
  {
   "cell_type": "markdown",
   "metadata": {},
   "source": [
    "2.Write a program to take the values of two integers m and n from the user. Calculate the sum of even number between m and n (including both m and n). Please note that value of m must be less than value of n. If m > n. then you must print a message “Value of m should be less than n” and ask for next input values. Print the values of m, n and sum. (Use while loop). The program should continue until user types ‘q’ to quit the program. Sample user interaction: Enter m: 1 Enter n: 10 Sum of even numbers: 20 Do you want to quit (Type q)? : Enter m: 2 Enter n: 10 Sum of even numbers: 20 Do you want to quit (Type q)? : Enter m: 20 Enter n: 10 Value of m should be less than n Do you want to quit (Type q)? : q"
   ]
  },
  {
   "cell_type": "code",
   "execution_count": 3,
   "metadata": {},
   "outputs": [
    {
     "name": "stdout",
     "output_type": "stream",
     "text": [
      "Enter any value for m= 7\n",
      "Enter any value for n= 8\n",
      "sum of even number: 8\n",
      "\n",
      " Do you want to quit? (type 'q'): 3\n",
      "Enter any value for m= 15\n",
      "Enter any value for n= 1\n",
      "Value of m should be less than n\n",
      "Please re-enter a value for n= 8\n",
      "Value of m should be less than n\n",
      "Please re-enter a value for n= 10\n",
      "Value of m should be less than n\n",
      "Please re-enter a value for n= 40\n",
      "sum of even number: 364\n",
      "\n",
      " Do you want to quit? (type 'q'): q\n"
     ]
    }
   ],
   "source": [
    "while True:\n",
    "    m = int(input(\"Enter any value for m= \"))\n",
    "    n = int(input(\"Enter any value for n= \"))\n",
    "    while m>n:\n",
    "        print(\"Value of m should be less than n\")\n",
    "        n=int(input(\"Please re-enter a value for n= \"))\n",
    "    sum = 0\n",
    "    for i in range (m,n+1):\n",
    "        if i%2 ==0:\n",
    "            sum = sum + i\n",
    "    print(\"sum of even number:\",sum)\n",
    "    reply=str(input(\"\\n Do you want to quit? (type 'q'): \"))\n",
    "    if reply =='q':\n",
    "        break;"
   ]
  },
  {
   "cell_type": "markdown",
   "metadata": {},
   "source": [
    "In this program,i enter two numbers m and n, then using if statement is used to enter new values for n which greater than m.then for loop with a range of m and n,to calculate even numbers in between m and n and prints the sum of even numbers and to quit the program using quit(q)."
   ]
  },
  {
   "cell_type": "markdown",
   "metadata": {},
   "source": [
    "3.Write a program to accept n and display its multiplication table. Value of n must be provided by the user. (Example: n * 1, n * 2,....,n*10) (Use for loop)"
   ]
  },
  {
   "cell_type": "code",
   "execution_count": 4,
   "metadata": {},
   "outputs": [
    {
     "name": "stdout",
     "output_type": "stream",
     "text": [
      "display the multiplication of table?:6\n",
      "6 X 1 = 6\n",
      "6 X 2 = 12\n",
      "6 X 3 = 18\n",
      "6 X 4 = 24\n",
      "6 X 5 = 30\n",
      "6 X 6 = 36\n",
      "6 X 7 = 42\n",
      "6 X 8 = 48\n",
      "6 X 9 = 54\n",
      "6 X 10 = 60\n"
     ]
    }
   ],
   "source": [
    "num=int(input(\"display the multiplication of table?:\"))\n",
    "for i in range(1,11):\n",
    "    print(num,\"X\",i,\"=\",num*i)"
   ]
  },
  {
   "cell_type": "markdown",
   "metadata": {},
   "source": [
    "In this program, i given input() as num to display the multiplication of table.Here using for loop statement,to print given number in the maltiplication of table format in this program."
   ]
  },
  {
   "cell_type": "markdown",
   "metadata": {},
   "source": [
    "4.Write a program that receives an integer and prints the sum of its digits. For example, an input 125 will print output 1+2+5=8. Try out with the following test cases 125 12 2 -15"
   ]
  },
  {
   "cell_type": "code",
   "execution_count": 5,
   "metadata": {},
   "outputs": [
    {
     "name": "stdout",
     "output_type": "stream",
     "text": [
      "Enter a integer: 140\n",
      "Sum of the integer is: 5\n"
     ]
    }
   ],
   "source": [
    "num = int(input(\"Enter a integer: \"))\n",
    "total = 0\n",
    "while num > 0:\n",
    "    digit = num % 10\n",
    "    total = total + digit\n",
    "    num = num // 10\n",
    "print(\"Sum of the integer is:\", total)"
   ]
  },
  {
   "cell_type": "markdown",
   "metadata": {},
   "source": [
    "In this program,i given num as a input() to enter a integer.Here while loop is using to given a condition num>0, and to find out the sum of the integer calculate the total,then print the sum of the integer to given input."
   ]
  },
  {
   "cell_type": "markdown",
   "metadata": {},
   "source": [
    "5.Develop an application in Python that repeatedly reads numbers until the user enters done. Once done is entered, print out the total, count, and average of the numbers. If the user enters anything other than a number, detect their mistake using try and except and print an error message and skip to the next number."
   ]
  },
  {
   "cell_type": "code",
   "execution_count": 6,
   "metadata": {},
   "outputs": [
    {
     "name": "stdout",
     "output_type": "stream",
     "text": [
      "Enter a number: 6\n",
      "Enter a number: 7\n",
      "Enter a number: a\n",
      "Invalid number\n",
      "Enter a number: done\n",
      "\n",
      "done\n",
      "\n",
      "Total: 15\n",
      "\n",
      "Num: 8\n",
      "\n",
      "Average: 1.875\n"
     ]
    }
   ],
   "source": [
    "num = 0\n",
    "total = 0\n",
    "while True:\n",
    "    number = input(\"Enter a number: \")\n",
    "    if number == 'done':\n",
    "        break\n",
    "    try :\n",
    "        num = int(number)\n",
    "    except:\n",
    "        print('Invalid number')\n",
    "        continue\n",
    "    num = num+1\n",
    "    total = total + num\n",
    "    avg = total/num\n",
    "print ('\\ndone')\n",
    "print ('\\nTotal:',total)\n",
    "print('\\nNum:',num)\n",
    "print('\\nAverage:',avg)"
   ]
  },
  {
   "cell_type": "markdown",
   "metadata": {},
   "source": [
    "In this program,i given num,total is value 0.Here i am using while loop and if statement.then number as input() and here it check whether the user entered any number or other than 'done' then it print what in except block which is 'invalid number'.then i am printing total,num, average."
   ]
  }
 ],
 "metadata": {
  "kernelspec": {
   "display_name": "Python 3",
   "language": "python",
   "name": "python3"
  },
  "language_info": {
   "codemirror_mode": {
    "name": "ipython",
    "version": 3
   },
   "file_extension": ".py",
   "mimetype": "text/x-python",
   "name": "python",
   "nbconvert_exporter": "python",
   "pygments_lexer": "ipython3",
   "version": "3.8.5"
  }
 },
 "nbformat": 4,
 "nbformat_minor": 4
}
