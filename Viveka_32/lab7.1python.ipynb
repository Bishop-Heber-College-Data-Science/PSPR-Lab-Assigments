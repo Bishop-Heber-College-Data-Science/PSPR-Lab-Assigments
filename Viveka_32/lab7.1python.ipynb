{
 "cells": [
  {
   "cell_type": "markdown",
   "metadata": {},
   "source": [
    "Viveka.B"
   ]
  },
  {
   "cell_type": "markdown",
   "metadata": {},
   "source": [
    "DS205229132"
   ]
  },
  {
   "cell_type": "markdown",
   "metadata": {},
   "source": [
    "1.Write a program for Fruit Inventory Management."
   ]
  },
  {
   "cell_type": "markdown",
   "metadata": {},
   "source": [
    "Create a dictionary fruits with fruit name as key and quantity available as values. There\n",
    "are 20 apples, 50 bananas, 100 oranges. Then, print outputs for the following queries."
   ]
  },
  {
   "cell_type": "code",
   "execution_count": 2,
   "metadata": {},
   "outputs": [],
   "source": [
    "fruits={\"apples\":20,\"bananas\":50,\"oranges\":100}"
   ]
  },
  {
   "cell_type": "markdown",
   "metadata": {},
   "source": [
    "Show the entire dictionary fruits (Print output as apples -> 20, bananas -> 50, etc)"
   ]
  },
  {
   "cell_type": "code",
   "execution_count": 3,
   "metadata": {},
   "outputs": [
    {
     "name": "stdout",
     "output_type": "stream",
     "text": [
      "{'apples': 20, 'bananas': 50, 'oranges': 100}\n"
     ]
    }
   ],
   "source": [
    "print(fruits)"
   ]
  },
  {
   "cell_type": "markdown",
   "metadata": {},
   "source": [
    "How many bananas are there?"
   ]
  },
  {
   "cell_type": "code",
   "execution_count": 4,
   "metadata": {},
   "outputs": [
    {
     "name": "stdout",
     "output_type": "stream",
     "text": [
      "50\n"
     ]
    }
   ],
   "source": [
    "print(fruits.get('bananas'))"
   ]
  },
  {
   "cell_type": "markdown",
   "metadata": {},
   "source": [
    "How many items in the dictionary?"
   ]
  },
  {
   "cell_type": "code",
   "execution_count": 5,
   "metadata": {},
   "outputs": [
    {
     "data": {
      "text/plain": [
       "3"
      ]
     },
     "execution_count": 5,
     "metadata": {},
     "output_type": "execute_result"
    }
   ],
   "source": [
    "len(fruits)"
   ]
  },
  {
   "cell_type": "markdown",
   "metadata": {},
   "source": [
    "Does graphs available in the dictionary?"
   ]
  },
  {
   "cell_type": "code",
   "execution_count": 6,
   "metadata": {},
   "outputs": [
    {
     "name": "stdout",
     "output_type": "stream",
     "text": [
      "No\n"
     ]
    }
   ],
   "source": [
    "if \"grapes\" in fruits:\n",
    "    print(\"yes\")\n",
    "else:\n",
    "    print(\"No\")"
   ]
  },
  {
   "cell_type": "markdown",
   "metadata": {},
   "source": [
    "Does pears exists in the dictionary?. If so, return its quantity, otherwise, add 10 pears to dictionary."
   ]
  },
  {
   "cell_type": "code",
   "execution_count": 7,
   "metadata": {},
   "outputs": [
    {
     "name": "stdout",
     "output_type": "stream",
     "text": [
      "{'apples': 20, 'bananas': 50, 'oranges': 100, 'pears': 10}\n"
     ]
    }
   ],
   "source": [
    "if \"pears\" in fruits.keys():\n",
    "    print(fruits.get('pears'))\n",
    "else:\n",
    "    fruits[\"pears\"]=10\n",
    "print(fruits)"
   ]
  },
  {
   "cell_type": "markdown",
   "metadata": {},
   "source": [
    "Show all fruit names in ascending order (Iterate using for loop)"
   ]
  },
  {
   "cell_type": "code",
   "execution_count": 8,
   "metadata": {},
   "outputs": [
    {
     "name": "stdout",
     "output_type": "stream",
     "text": [
      "['apples', 'bananas', 'oranges', 'pears']\n",
      "['apples', 'bananas', 'oranges', 'pears']\n",
      "['apples', 'bananas', 'oranges', 'pears']\n",
      "['apples', 'bananas', 'oranges', 'pears']\n"
     ]
    }
   ],
   "source": [
    "for keys in fruits:\n",
    "    print(sorted(fruits.keys()))"
   ]
  },
  {
   "cell_type": "markdown",
   "metadata": {},
   "source": [
    "Show all fruits in descending order of quantities."
   ]
  },
  {
   "cell_type": "code",
   "execution_count": 9,
   "metadata": {},
   "outputs": [
    {
     "name": "stdout",
     "output_type": "stream",
     "text": [
      "['pears', 'oranges', 'bananas', 'apples']\n"
     ]
    }
   ],
   "source": [
    "print(sorted(fruits.keys(),reverse=True))"
   ]
  },
  {
   "cell_type": "markdown",
   "metadata": {},
   "source": [
    "Remove pears from the dictionary."
   ]
  },
  {
   "cell_type": "code",
   "execution_count": 10,
   "metadata": {},
   "outputs": [
    {
     "name": "stdout",
     "output_type": "stream",
     "text": [
      "{'apples': 20, 'bananas': 50, 'oranges': 100}\n"
     ]
    }
   ],
   "source": [
    "del fruits['pears']\n",
    "print(fruits)"
   ]
  },
  {
   "cell_type": "markdown",
   "metadata": {},
   "source": [
    "Develop a function show() that displays fruit name and quantity (Use.format() for pretty printing)."
   ]
  },
  {
   "cell_type": "code",
   "execution_count": 11,
   "metadata": {},
   "outputs": [
    {
     "name": "stdout",
     "output_type": "stream",
     "text": [
      "('apples', 20) ('bananas', 50) ('oranges', 100)\n"
     ]
    }
   ],
   "source": [
    "def show():\n",
    "    print(\"{} {} {}\".format(*fruits.items()))\n",
    "show()"
   ]
  },
  {
   "cell_type": "markdown",
   "metadata": {},
   "source": [
    "Develop a function add_fruit(name, quantity) that receives fruit name and quantity as input and increases the quantity of the fruit. Then, display the current inventory by calling show()."
   ]
  },
  {
   "cell_type": "code",
   "execution_count": 12,
   "metadata": {},
   "outputs": [],
   "source": [
    "def add_fruit(fruits,name,quantity):\n",
    "    fruits[name]=fruits.get(name,0)+quantity"
   ]
  },
  {
   "cell_type": "markdown",
   "metadata": {},
   "source": [
    "Now, add 40 apples to inventory by calling add_fruit(name, quantity)."
   ]
  },
  {
   "cell_type": "code",
   "execution_count": 13,
   "metadata": {},
   "outputs": [
    {
     "name": "stdout",
     "output_type": "stream",
     "text": [
      "{'apples': 60, 'bananas': 50, 'oranges': 100}\n"
     ]
    }
   ],
   "source": [
    "fruits={\"apples\":20,\"bananas\":50,\"oranges\":100}\n",
    "add_fruit(fruits,'apples',40)\n",
    "print(fruits)"
   ]
  },
  {
   "cell_type": "markdown",
   "metadata": {},
   "source": [
    "Now, add 100 bananas to inventory, by calling add_fruit(name, quantity)."
   ]
  },
  {
   "cell_type": "code",
   "execution_count": 14,
   "metadata": {},
   "outputs": [
    {
     "name": "stdout",
     "output_type": "stream",
     "text": [
      "{'apples': 20, 'bananas': 150, 'oranges': 100}\n"
     ]
    }
   ],
   "source": [
    "fruits={\"apples\":20,\"bananas\":50,\"oranges\":100}\n",
    "add_fruit(fruits,\"bananas\",100)\n",
    "print(fruits)"
   ]
  },
  {
   "cell_type": "markdown",
   "metadata": {},
   "source": [
    "Now, show the current inventory, by calling show()."
   ]
  },
  {
   "cell_type": "code",
   "execution_count": 15,
   "metadata": {},
   "outputs": [
    {
     "name": "stdout",
     "output_type": "stream",
     "text": [
      "('apples', 20) ('bananas', 150) ('oranges', 100)\n"
     ]
    }
   ],
   "source": [
    "show()"
   ]
  },
  {
   "cell_type": "markdown",
   "metadata": {},
   "source": [
    "Write the inventory fruits onto a file. (Use Pickle for file writing and reading)."
   ]
  },
  {
   "cell_type": "code",
   "execution_count": 16,
   "metadata": {},
   "outputs": [],
   "source": [
    "import pickle\n",
    "new_inventory={\"apple\":300,\"mango\":87,\"banana\":320}"
   ]
  },
  {
   "cell_type": "markdown",
   "metadata": {},
   "source": [
    "Write the dictionary to the pickle file."
   ]
  },
  {
   "cell_type": "code",
   "execution_count": 17,
   "metadata": {},
   "outputs": [
    {
     "name": "stdout",
     "output_type": "stream",
     "text": [
      "{'apple': 300, 'mango': 87, 'banana': 320}\n"
     ]
    }
   ],
   "source": [
    "file = open(\"fruits_inventory.p\", \"wb\")\n",
    "pickle.dump(new_inventory, file)\n",
    "print(new_inventory)"
   ]
  },
  {
   "cell_type": "markdown",
   "metadata": {},
   "source": [
    "Now, open Pickle file and display the inventory."
   ]
  },
  {
   "cell_type": "code",
   "execution_count": 18,
   "metadata": {},
   "outputs": [
    {
     "name": "stdout",
     "output_type": "stream",
     "text": [
      "{'apple': 300, 'mango': 87, 'banana': 320}\n"
     ]
    }
   ],
   "source": [
    "file = open(\"fruits_inventory.p\",\"rb\")\n",
    "dict2 = pickle.load(file)\n",
    "file.close()\n",
    "print(new_inventory)"
   ]
  },
  {
   "cell_type": "markdown",
   "metadata": {},
   "source": [
    "In this program,we create fruit inventory management by create a dictionary fruits with fruit name as key and quantity  as values.There are 20 apples,50 bananas,100 oranges and print the entire dictionary fruits.Then print how many bananas in dictionary fruits and print how many items in the dictionary,and check the dictionary graphs are available in it.Then pears is exits in it and add 10 pears to dictionary,print the all fruit names in ascending order and print all fruits in descending order of quantities.Then remove pears from the dictionary,using show() function that displays fruit name and quantity and add 40 apples and  add 100 bananas to inventory by calling add_fruit(name, quantity).Then print the fruits inventory as output."
   ]
  },
  {
   "cell_type": "markdown",
   "metadata": {},
   "source": [
    "2.Write a program for Telephone Directory Management"
   ]
  },
  {
   "cell_type": "markdown",
   "metadata": {},
   "source": [
    "Create an empty dictionary called customers, where name is a key and contacts is a list\n",
    "of contacts such as phoneno and email ID for each customer.\n",
    "Ask user to enter name and his contacts for N customers. Add them to dictionary\n",
    "customers. Stop reading when user types “done”."
   ]
  },
  {
   "cell_type": "code",
   "execution_count": 2,
   "metadata": {},
   "outputs": [
    {
     "name": "stdout",
     "output_type": "stream",
     "text": [
      "Enter the name,number and email id: gaja 7369489899 djshksdioa@gmail.com\n",
      "Enter the name,number and email id: sharon 3625479909 dsffhaksj@gmail.com\n",
      "Enter the name,number and email id: done\n",
      "\n",
      "Printing Contacts:\n",
      "gaja : ['7369489899', 'djshksdioa@gmail.com']\n",
      "sharon : ['3625479909', 'dsffhaksj@gmail.com']\n"
     ]
    }
   ],
   "source": [
    "customer = {}\n",
    "while(True):\n",
    "    row = input(\"Enter the name,number and email id: \")\n",
    "    info = row.split()\n",
    "    if(info[0] == \"done\"):\n",
    "        break\n",
    "    name = info[0]\n",
    "    phone = info[1]\n",
    "    email = info[2]\n",
    "    contacts=[phone,email]\n",
    "    customer[name] = contacts\n",
    "print(\"\\nPrinting Contacts:\")\n",
    "for name, phone in customer.items():\n",
    "    print(name, \":\", phone)"
   ]
  },
  {
   "cell_type": "markdown",
   "metadata": {},
   "source": [
    "Show the contacts for customer “rex”. If not exists, print message “Contacts not exists..”"
   ]
  },
  {
   "cell_type": "code",
   "execution_count": 3,
   "metadata": {},
   "outputs": [
    {
     "name": "stdout",
     "output_type": "stream",
     "text": [
      "Contacts and exits.\n"
     ]
    }
   ],
   "source": [
    "if 'rex' in customer:\n",
    "    print(\"rex in present\")\n",
    "else:\n",
    "    print(\"Contacts and exits.\")"
   ]
  },
  {
   "cell_type": "markdown",
   "metadata": {},
   "source": [
    "Add a new customer with name “rex”, phone number 9942002764 and email id rajkumar@bhc.edu."
   ]
  },
  {
   "cell_type": "code",
   "execution_count": 12,
   "metadata": {},
   "outputs": [],
   "source": [
    "customer['rex']=['9942002764','rajkumar@bhc.edu']"
   ]
  },
  {
   "cell_type": "markdown",
   "metadata": {},
   "source": [
    "Show all customers both name and contacts. (Use items() method, unpack it and print\n",
    "inside for loop)."
   ]
  },
  {
   "cell_type": "code",
   "execution_count": 13,
   "metadata": {},
   "outputs": [
    {
     "name": "stdout",
     "output_type": "stream",
     "text": [
      "gaja ['7369489899', 'djshksdioa@gmail.com']\n",
      "sharon ['3625479909', 'dsffhaksj@gmail.com']\n",
      "rex ['9942002764', 'rajkumar@bhc.edu']\n"
     ]
    }
   ],
   "source": [
    "for name, contacts in customer.items():\n",
    "    print(name,contacts)"
   ]
  },
  {
   "cell_type": "markdown",
   "metadata": {},
   "source": [
    "Show all customer contacts (Iterate using for loop)."
   ]
  },
  {
   "cell_type": "code",
   "execution_count": 14,
   "metadata": {},
   "outputs": [
    {
     "name": "stdout",
     "output_type": "stream",
     "text": [
      "['7369489899', 'djshksdioa@gmail.com']\n",
      "['3625479909', 'dsffhaksj@gmail.com']\n",
      "['9942002764', 'rajkumar@bhc.edu']\n"
     ]
    }
   ],
   "source": [
    "for name in customer:\n",
    "    print(customer[name])"
   ]
  },
  {
   "cell_type": "markdown",
   "metadata": {},
   "source": [
    "Show all customer names in alphabetical order."
   ]
  },
  {
   "cell_type": "code",
   "execution_count": 15,
   "metadata": {},
   "outputs": [
    {
     "data": {
      "text/plain": [
       "['gaja', 'rex', 'sharon']"
      ]
     },
     "execution_count": 15,
     "metadata": {},
     "output_type": "execute_result"
    }
   ],
   "source": [
    "sorted(customer.keys())"
   ]
  },
  {
   "cell_type": "markdown",
   "metadata": {},
   "source": [
    "How many customers are there in your dictionary?"
   ]
  },
  {
   "cell_type": "code",
   "execution_count": 16,
   "metadata": {},
   "outputs": [
    {
     "data": {
      "text/plain": [
       "3"
      ]
     },
     "execution_count": 16,
     "metadata": {},
     "output_type": "execute_result"
    }
   ],
   "source": [
    "len(customer.items())"
   ]
  },
  {
   "cell_type": "markdown",
   "metadata": {},
   "source": [
    "Remove customer “rex” from dictionary customers"
   ]
  },
  {
   "cell_type": "code",
   "execution_count": 17,
   "metadata": {},
   "outputs": [],
   "source": [
    "del customer['rex']"
   ]
  },
  {
   "cell_type": "code",
   "execution_count": 9,
   "metadata": {},
   "outputs": [
    {
     "data": {
      "text/plain": [
       "{'gaja': ['7369489899', 'djshksdioa@gmail.com'],\n",
       " 'sharon': ['3625479909', 'dsffhaksj@gmail.com']}"
      ]
     },
     "execution_count": 9,
     "metadata": {},
     "output_type": "execute_result"
    }
   ],
   "source": [
    "customer"
   ]
  },
  {
   "cell_type": "markdown",
   "metadata": {},
   "source": [
    "In this program,we create telephone directory management by create an empty dictionary called customers,where as enter the name,phoneno and email id for customers contacts and then stop reading  customers types “done”.Then print the contacts for customer “rex”,if not exists print the message as “Contacts not exists..” and add a new customer contacts in it.Then print the all customers both name and contacts and print the all customer contacts only.Then print the all customer names in alphabetical order and how many customers are there in telephone dictionary,then remove customer “rex” from dictionary customers and print the output.  "
   ]
  }
 ],
 "metadata": {
  "kernelspec": {
   "display_name": "Python 3",
   "language": "python",
   "name": "python3"
  },
  "language_info": {
   "codemirror_mode": {
    "name": "ipython",
    "version": 3
   },
   "file_extension": ".py",
   "mimetype": "text/x-python",
   "name": "python",
   "nbconvert_exporter": "python",
   "pygments_lexer": "ipython3",
   "version": "3.8.5"
  }
 },
 "nbformat": 4,
 "nbformat_minor": 4
}
