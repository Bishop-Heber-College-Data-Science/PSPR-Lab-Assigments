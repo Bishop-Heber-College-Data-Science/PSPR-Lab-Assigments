{
 "cells": [
  {
   "cell_type": "markdown",
   "metadata": {},
   "source": [
    "Viveka.B"
   ]
  },
  {
   "cell_type": "markdown",
   "metadata": {},
   "source": [
    "DS205229132"
   ]
  },
  {
   "cell_type": "markdown",
   "metadata": {},
   "source": [
    "1.Create a function prime() that receives an integer and returns whether n is prime or\n",
    "not. Print all prime numbers from 1 to 100 by calling prime() function. For example,\n",
    "prime(1)\n",
    "prime(2)\n",
    "…….\n",
    "prime(100) "
   ]
  },
  {
   "cell_type": "code",
   "execution_count": 1,
   "metadata": {},
   "outputs": [
    {
     "name": "stdout",
     "output_type": "stream",
     "text": [
      "enter the number 1\n",
      "1 is prime number\n",
      "\n",
      "enter the number 4\n",
      "4 is not prime number\n",
      "\n",
      "enter the number 0\n",
      "\n",
      "Loop ends here... \n",
      "\n",
      "\n",
      "\n",
      "Here we are printing all prime numbers from 1 to 100 using prime function: \n",
      "\n",
      "\n",
      "Prime 2\n",
      "Prime 3\n",
      "Prime 5\n",
      "Prime 7\n",
      "Prime 11\n",
      "Prime 13\n",
      "Prime 17\n",
      "Prime 19\n",
      "Prime 23\n",
      "Prime 29\n",
      "Prime 31\n",
      "Prime 37\n",
      "Prime 41\n",
      "Prime 43\n",
      "Prime 47\n",
      "Prime 53\n",
      "Prime 59\n",
      "Prime 61\n",
      "Prime 67\n",
      "Prime 71\n",
      "Prime 73\n",
      "Prime 79\n",
      "Prime 83\n",
      "Prime 89\n",
      "Prime 97\n"
     ]
    }
   ],
   "source": [
    "def prime(num):\n",
    "    for i in range(2,num):\n",
    "        if num%i == 0:\n",
    "            return 0\n",
    "    else:\n",
    "        return num\n",
    "\n",
    "while True:\n",
    "    n=int(input(\"enter the number \"))\n",
    "    if n==0:\n",
    "        print(\"\\nLoop ends here... \\n\\n\\n\\nHere we are printing all prime numbers from 1 to 100 using prime function: \\n\\n\")\n",
    "        break\n",
    "    a=prime(n)\n",
    "    if a % 2 ==0:\n",
    "        print(n,\"is not prime number\\n\")\n",
    "    else:\n",
    "        print(n,\"is prime number\\n\")\n",
    "\n",
    "def prime(n):\n",
    "    status = True\n",
    "    if n < 2:\n",
    "        status = False\n",
    "    else:\n",
    "        for i in range(2,n):\n",
    "            if n % i == 0:\n",
    "                status = False\n",
    "    return status\n",
    "\n",
    "for n in range(1,100):\n",
    "    if prime(n):\n",
    "        if n==100:\n",
    "            print ('Prime',n)\n",
    "        else:\n",
    "            print ('Prime',n)"
   ]
  },
  {
   "cell_type": "markdown",
   "metadata": {},
   "source": [
    "In this program,i am using def() for prime number.in this program for and while loop are using and also if,else statements.\n",
    "n is a input() to enter the number,to check given input as prime number or not prime number 1 to 100.And print the given output in it.."
   ]
  },
  {
   "cell_type": "markdown",
   "metadata": {},
   "source": [
    "2.Develop a simple arithmetic calculator for 4 operations. The program should\n",
    "continue calculation until user types ‘q’ to quit. A sample user interaction can be:\n",
    "Enter operator (q to quit): +\n",
    "Enter value 1: 10\n",
    "Enter value 2: 20\n",
    "Result = 30\n",
    "Create 4 functions add(), subtract(), multiply() and divide() that receives two values and returns\n",
    "the result of the operation.\n",
    "Now, perform the following operations by calling the corresponding functions. Validate your\n",
    "outputs.\n",
    "1.10+20\n",
    "2.20-5\n",
    "3.8*5\n",
    "4.50/3 "
   ]
  },
  {
   "cell_type": "code",
   "execution_count": 2,
   "metadata": {},
   "outputs": [
    {
     "name": "stdout",
     "output_type": "stream",
     "text": [
      "Enter the operator: \n",
      "+\n",
      "\n",
      "Enter the value of 1: 20\n",
      "Enter the value of 2: 10\n",
      "Result is  30 \n",
      "\n",
      "Enter the operator: \n",
      "-\n",
      "\n",
      "Enter the value of 1: 20\n",
      "Enter the value of 2: 5\n",
      "Result is  15 \n",
      "\n",
      "Enter the operator: \n",
      "*\n",
      "\n",
      "Enter the value of 1: 8\n",
      "Enter the value of 2: 5\n",
      "Result is  15 \n",
      "\n",
      "Enter the operator: \n",
      "/\n",
      "\n",
      "Enter the value of 1: 50\n",
      "Enter the value of 2: 3\n",
      "Result is  16.666666666666668 \n",
      "\n",
      "Enter the operator: \n",
      "q\n",
      "Quit\n"
     ]
    }
   ],
   "source": [
    "def add(a,b):\n",
    "    return a+b\n",
    "def sub(a,b):\n",
    "    return a-b\n",
    "def mul(a,b):\n",
    "    return a*b\n",
    "def div(a,b):\n",
    "    if b==0:\n",
    "        print(\"division is not possible \")\n",
    "    else:\n",
    "        return a/b\n",
    "\n",
    "while True:\n",
    "    print(\"Enter the operator: \")\n",
    "    operator=input()\n",
    "    if (operator=='q'):\n",
    "        break\n",
    "    a=int(input(\"\\nEnter the value of 1: \"))\n",
    "    b=int(input(\"Enter the value of 2: \"))\n",
    "\n",
    "    if (operator=='+'):\n",
    "        r=add(a,b)\n",
    "    elif (operator=='-'):\n",
    "        r=sub(a,b)\n",
    "    elif (0 =='*'):\n",
    "        r=mul(a,b)\n",
    "    elif (operator=='/'):\n",
    "        r=div(a,b)\n",
    "    print(\"Result is \",r,'\\n')\n",
    "print(\"Quit\")"
   ]
  },
  {
   "cell_type": "markdown",
   "metadata": {},
   "source": [
    "In this program,i created  function using by def() for the four arithmetic operations add(),subtract(),multiply() and divide() for two values as A and B, and returns the output of the operation.In this program if,else,elif statements and while loop are using and two inputs A and B gives input() and print the results to end the program using quit(q). "
   ]
  },
  {
   "cell_type": "markdown",
   "metadata": {},
   "source": [
    "3.Create a function factorial() that takes an integer and returns its factorial value. You can create as a non-recursive version of factorial. Also, check factorial of negative number does not exist. Factorial of 0 is 1. Save this Python file as factorial_definition.py. Now, open another file and you can import factorial_definition.py as follows: import factorial_definition You can call factorial function as factorial_definition.factorial(). Now, print the following factorial values: 1.factorial_definition.factorial(3) 2.factorial_definition.factorial(5) 3.factorial_definition.factorial(10)."
   ]
  },
  {
   "cell_type": "code",
   "execution_count": null,
   "metadata": {},
   "outputs": [],
   "source": [
    "def factorial(n):\n",
    "    result=1;\n",
    "    if(n<0):\n",
    "        print(\"The factorial does not exist for negative numbers\")\n",
    "    elif(n==0):\n",
    "        print(\"The factorial of 0 is 1\")\n",
    "    elif(n==1):\n",
    "        return 1\n",
    "    else:\n",
    "        for i in range(2,n+1):\n",
    "            result=result*i;\n",
    "        return result;"
   ]
  },
  {
   "cell_type": "code",
   "execution_count": 1,
   "metadata": {},
   "outputs": [
    {
     "name": "stdout",
     "output_type": "stream",
     "text": [
      "importing Jupyter notebook from factorial_definition.ipynb\n"
     ]
    }
   ],
   "source": [
    "import import_ipynb\n",
    "\n",
    "import factorial_definition"
   ]
  },
  {
   "cell_type": "code",
   "execution_count": 2,
   "metadata": {},
   "outputs": [
    {
     "data": {
      "text/plain": [
       "6"
      ]
     },
     "execution_count": 2,
     "metadata": {},
     "output_type": "execute_result"
    }
   ],
   "source": [
    "factorial_definition.factorial(3)"
   ]
  },
  {
   "cell_type": "code",
   "execution_count": 3,
   "metadata": {},
   "outputs": [
    {
     "data": {
      "text/plain": [
       "120"
      ]
     },
     "execution_count": 3,
     "metadata": {},
     "output_type": "execute_result"
    }
   ],
   "source": [
    "factorial_definition.factorial(5)"
   ]
  },
  {
   "cell_type": "code",
   "execution_count": 4,
   "metadata": {},
   "outputs": [
    {
     "data": {
      "text/plain": [
       "3628800"
      ]
     },
     "execution_count": 4,
     "metadata": {},
     "output_type": "execute_result"
    }
   ],
   "source": [
    "factorial_definition.factorial(10)"
   ]
  },
  {
   "cell_type": "markdown",
   "metadata": {},
   "source": [
    "In this program,using def() for factorial number.in this for loop and if,elif statement is using for factorial() and result is using to get out of this program and print the factorial for given number."
   ]
  }
 ],
 "metadata": {
  "kernelspec": {
   "display_name": "Python 3",
   "language": "python",
   "name": "python3"
  },
  "language_info": {
   "codemirror_mode": {
    "name": "ipython",
    "version": 3
   },
   "file_extension": ".py",
   "mimetype": "text/x-python",
   "name": "python",
   "nbconvert_exporter": "python",
   "pygments_lexer": "ipython3",
   "version": "3.8.5"
  }
 },
 "nbformat": 4,
 "nbformat_minor": 4
}
