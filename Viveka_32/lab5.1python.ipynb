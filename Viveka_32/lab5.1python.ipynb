{
 "cells": [
  {
   "cell_type": "markdown",
   "metadata": {},
   "source": [
    "Viveka.B"
   ]
  },
  {
   "cell_type": "markdown",
   "metadata": {},
   "source": [
    "DS205229132"
   ]
  },
  {
   "cell_type": "markdown",
   "metadata": {},
   "source": [
    "1.Write a function find_average(student) that takes student tuple as input and print student rollno, name, marks and average marks as output."
   ]
  },
  {
   "cell_type": "code",
   "execution_count": 1,
   "metadata": {},
   "outputs": [],
   "source": [
    "def find_avg(student):\n",
    "    rollno,name,marks=student\n",
    "    total=0\n",
    "    for mark in marks:\n",
    "        total+=mark\n",
    "    avg=total/len(marks)\n",
    "    print('Rollno:',rollno,'Name:',name,'Average:',avg)"
   ]
  },
  {
   "cell_type": "code",
   "execution_count": 2,
   "metadata": {},
   "outputs": [],
   "source": [
    "student=(1,'vive',[70,85,76])"
   ]
  },
  {
   "cell_type": "code",
   "execution_count": 3,
   "metadata": {},
   "outputs": [
    {
     "name": "stdout",
     "output_type": "stream",
     "text": [
      "Rollno: 1 Name: vive Average: 77.0\n"
     ]
    }
   ],
   "source": [
    "find_avg(student)"
   ]
  },
  {
   "cell_type": "markdown",
   "metadata": {},
   "source": [
    "Modify the above function find_average(student) so that it processes a tuple of tuples."
   ]
  },
  {
   "cell_type": "code",
   "execution_count": 4,
   "metadata": {},
   "outputs": [],
   "source": [
    "student_list=[(1,'jo',[90,85,75]),\n",
    "    (2,'sharon',[99,98,95,80]),\n",
    "    (3,'yuva',[60,40,80,65])]"
   ]
  },
  {
   "cell_type": "code",
   "execution_count": 5,
   "metadata": {},
   "outputs": [],
   "source": [
    "def stud_avg(students):\n",
    "    for student in students:\n",
    "        roll,name,marks = student\n",
    "        total=0\n",
    "        for mark in marks:\n",
    "            total+=mark\n",
    "        avg=total/len(marks)\n",
    "        print('Rollno:',roll,'Name:',name,'Average:',avg)"
   ]
  },
  {
   "cell_type": "code",
   "execution_count": 6,
   "metadata": {},
   "outputs": [
    {
     "name": "stdout",
     "output_type": "stream",
     "text": [
      "Rollno: 1 Name: jo Average: 83.33333333333333\n",
      "Rollno: 2 Name: sharon Average: 93.0\n",
      "Rollno: 3 Name: yuva Average: 61.25\n"
     ]
    }
   ],
   "source": [
    "stud_avg(student_list)"
   ]
  },
  {
   "cell_type": "markdown",
   "metadata": {},
   "source": [
    "In this program,we find the student average.def() is a function stud_avg(students).Here for loop is given to find average.print the rollno,name,average of the given student list here."
   ]
  },
  {
   "cell_type": "markdown",
   "metadata": {},
   "source": [
    "2.Write a weight management program that prompts the user to enter in 7 days of their body weight values as float numbers. Store them in list. Then print first day weight, last day weight, 4th day weight, highest weight, lowest weight and average weight. Finally, print if average weight < lowest weight, then print “Your weight management is excellent”. Otherwise print “Your weight management is not good. Please take care of your diet”."
   ]
  },
  {
   "cell_type": "code",
   "execution_count": 7,
   "metadata": {},
   "outputs": [
    {
     "name": "stdout",
     "output_type": "stream",
     "text": [
      "Enter the weight76\n",
      "Enter the weight45\n",
      "Enter the weight67\n",
      "Enter the weight89\n",
      "Enter the weight90\n",
      "Enter the weight54\n",
      "Enter the weight54\n",
      "first day weight 76.0\n",
      "last day weight 54.0\n",
      "highest day weight 90.0\n",
      "lowest day weight 45.0\n",
      "average of weight 68\n",
      "Your weight management is not good.Please take care of your diet\n"
     ]
    }
   ],
   "source": [
    "list=[]\n",
    "for i in range(7):\n",
    "    c=float(input(\"Enter the weight\"))\n",
    "    list.append(c)\n",
    "print(\"first day weight\",list[0])\n",
    "print(\"last day weight\",list[-1])\n",
    "print(\"highest day weight\",max(list))\n",
    "print(\"lowest day weight\",min(list))\n",
    "print(\"average of weight\",round(sum(list)/len(list)))\n",
    "firstday=list[0]\n",
    "lastday=list[-1]\n",
    "avg=round(sum(list)/len(list))\n",
    "low_weight=min(list)\n",
    "if(avg<low_weight):\n",
    "    print(\"Your weight management is excellent\")\n",
    "else:\n",
    "    print(\"Your weight management is not good.Please take care of your diet\")"
   ]
  },
  {
   "cell_type": "markdown",
   "metadata": {},
   "source": [
    "In this program,find the weight management we enter in 7 days of body weight values as float numbers in list format.we print first day weight,last day weight,4th day weight,highest weight,lowest weight and average weight.Here if and else statement is using to print the average weight<lowest weight, to print Your weight management is excellent otherwise print “Your weight management is not good.Please take care of your diet."
   ]
  },
  {
   "cell_type": "markdown",
   "metadata": {},
   "source": [
    "3.Write a function lastN(lst, n) that takes a list of integers and n and returns n largest numbers. How many numbers you want to enter?: 6 Enter a number: 12 Enter a number: 32 Enter a number: 10 Enter a number: 9 Enter a number: 52 Enter a number: 45 How many largest numbers you want to find?: 3 Largest numbers are: 52, 45, 32."
   ]
  },
  {
   "cell_type": "code",
   "execution_count": 8,
   "metadata": {},
   "outputs": [
    {
     "name": "stdout",
     "output_type": "stream",
     "text": [
      "How many numbers you want to enter?:5\n",
      "Enter a number: 89\n",
      "Enter a number: 67\n",
      "Enter a number: 45\n",
      "Enter a number: 34\n",
      "Enter a number: 54\n",
      "How many largest numbers you want to find?:2\n",
      "Largest numbers are: [89, 67]\n"
     ]
    }
   ],
   "source": [
    "def lastN(lst, n):\n",
    "    final_list = []    \n",
    "    for i in range(0, n):\n",
    "        max1 = 0       \n",
    "        for j in lst: \n",
    "            if j > max1:\n",
    "                max1 = j;               \n",
    "        lst.remove(max1);\n",
    "        final_list.append(max1)    \n",
    "    print('Largest numbers are:',final_list) \n",
    "num=int(input('How many numbers you want to enter?:'))    \n",
    "lst=[]\n",
    "for i in range(num):\n",
    "    a=int(input('Enter a number: '))\n",
    "    lst.append(a)\n",
    "n=int(input('How many largest numbers you want to find?:'))    \n",
    "lastN(lst,n)    "
   ]
  },
  {
   "cell_type": "markdown",
   "metadata": {},
   "source": [
    "In this program, num and n as given input() funtion to give input as How many numbers you want to enter? and How many largest numbers you want to find?,def as a lastN function call.Here for loop is using and print the Largest numbers by the given input."
   ]
  },
  {
   "cell_type": "markdown",
   "metadata": {},
   "source": [
    "4.Given a list of strings, return a list with the strings in sorted order, except group all the strings that begin with 'x' first. Hint: this can be done by making 2 lists and sorting each of them before combining them. Test Cases:\n",
    "\n",
    "1.Input: ['mix', 'xyz', 'apple', 'xanadu', 'aardvark'] Output: ['xanadu', 'xyz', 'aardvark', 'apple', 'mix']\n",
    "2.Input: [‘ccc’,’bbb’,’aaa’,’xcc’,’xaa’] Output: [‘xaa’,’xcc’,’aaa’,’bbb’,’ccc’]\n",
    "3.Input: [‘bbb’,’ccc’,’axx’,’xzz’,’xaa’] Output: [‘xaa’,’xzz’,’axx’,’bbb’,’ccc’]"
   ]
  },
  {
   "cell_type": "code",
   "execution_count": 9,
   "metadata": {},
   "outputs": [],
   "source": [
    "def front_x(words):\n",
    "    xlist=[]\n",
    "    alist=[]\n",
    "    for word in words:\n",
    "        if word.startswith(\"x\"):\n",
    "            xlist.append(word)\n",
    "        else:\n",
    "            alist.append(word)\n",
    "    return sorted(xlist)+sorted(alist)"
   ]
  },
  {
   "cell_type": "code",
   "execution_count": 10,
   "metadata": {},
   "outputs": [
    {
     "data": {
      "text/plain": [
       "['xanadu', 'xyz', 'aardvark', 'apple', 'mix']"
      ]
     },
     "execution_count": 10,
     "metadata": {},
     "output_type": "execute_result"
    }
   ],
   "source": [
    "words=['mix', 'xyz', 'apple', 'xanadu', 'aardvark']\n",
    "front_x(words)"
   ]
  },
  {
   "cell_type": "code",
   "execution_count": 11,
   "metadata": {},
   "outputs": [
    {
     "data": {
      "text/plain": [
       "['xaa', 'xcc', 'aaa', 'bbb', 'ccc']"
      ]
     },
     "execution_count": 11,
     "metadata": {},
     "output_type": "execute_result"
    }
   ],
   "source": [
    "words=['ccc','bbb','aaa','xcc','xaa']\n",
    "front_x(words)"
   ]
  },
  {
   "cell_type": "code",
   "execution_count": 12,
   "metadata": {},
   "outputs": [
    {
     "data": {
      "text/plain": [
       "['xaa', 'xzz', 'axx', 'bbb', 'ccc']"
      ]
     },
     "execution_count": 12,
     "metadata": {},
     "output_type": "execute_result"
    }
   ],
   "source": [
    "words=['bbb','ccc','axx','xzz','xaa']\n",
    "front_x(words)"
   ]
  },
  {
   "cell_type": "markdown",
   "metadata": {},
   "source": [
    "In this program,def is a function front_x.here for loop and if,else statement using to given a list of strings return a list with the strings in sorted order to print the except group all the strings that begin with 'x' first."
   ]
  },
  {
   "cell_type": "markdown",
   "metadata": {},
   "source": [
    "5.Develop a function sort_last(). Given a list of non-empty tuples, return a list sorted in increasing order by the last element in each tuple. Hint: use a custom key= function to extract the last element form each tuple. Test Cases: Input: [(1, 7), (1, 3), (3, 4, 5), (2, 2)] Output: [(2, 2), (1, 3), (3, 4, 5), (1, 7)] Input: [(1,3),(3,2),(2,1)] Output: [(2,1),(3,2),(1,3)] Input: [(2,3),(1,2),(3,1)] Output: [(3,1),(1,2),(2,3)]"
   ]
  },
  {
   "cell_type": "code",
   "execution_count": 13,
   "metadata": {},
   "outputs": [
    {
     "name": "stdout",
     "output_type": "stream",
     "text": [
      "[(2, 2), (1, 3), (3, 4, 5), (1, 7)]\n"
     ]
    }
   ],
   "source": [
    "def last(n):\n",
    "    return n[-1]\n",
    "def sort_last(tuples):\n",
    "    return sorted(tuples,key=last)\n",
    "print(sort_last([(1, 7), (1, 3), (3, 4, 5), (2, 2)]))"
   ]
  },
  {
   "cell_type": "code",
   "execution_count": 14,
   "metadata": {},
   "outputs": [
    {
     "name": "stdout",
     "output_type": "stream",
     "text": [
      "[(2, 1), (3, 2), (1, 3)]\n"
     ]
    }
   ],
   "source": [
    "print(sort_last([(1,3),(3,2),(2,1)]))"
   ]
  },
  {
   "cell_type": "code",
   "execution_count": 15,
   "metadata": {},
   "outputs": [
    {
     "name": "stdout",
     "output_type": "stream",
     "text": [
      "[(3, 1), (1, 2), (2, 3)]\n"
     ]
    }
   ],
   "source": [
    "print(sort_last([(2,3),(1,2),(3,1)]))"
   ]
  },
  {
   "cell_type": "markdown",
   "metadata": {},
   "source": [
    "In this program,def() function last is using to sort_last() and given a list of non-empty tuples print the list sorted in increasing order by the last element in each tuple."
   ]
  },
  {
   "cell_type": "markdown",
   "metadata": {},
   "source": [
    "6.Other String Functions a) Define a function first() that receives a tuple and returns its first element b) Define a function sort_first() that receives a list of tuples and returns the sorted c) Print lists in sorted order d) Define a function middle() that receives a a tuple and returns its middle element e) Define a function sort_middle() that receives a list of tuples and returns it sorted using the key middle f) Print the list [(1,2,3), (2,1,4), (10,7,15), (20,4,50), (30, 6, 40)] in sorted order. Output should be: [(2, 1, 4), (1, 2, 3), (20, 4, 50), (30, 6, 40), (10, 7, 15)]"
   ]
  },
  {
   "cell_type": "code",
   "execution_count": 16,
   "metadata": {},
   "outputs": [
    {
     "name": "stdout",
     "output_type": "stream",
     "text": [
      "[(1, 8), (3, 1), (9, 2)]\n"
     ]
    }
   ],
   "source": [
    "def first(n):\n",
    "    return n[0]\n",
    "def sort_first(tuples):\n",
    "    return sorted(tuples,key=first)\n",
    "print(sort_first([(1,8),(9,2),(3,1)]))"
   ]
  },
  {
   "cell_type": "code",
   "execution_count": 17,
   "metadata": {},
   "outputs": [
    {
     "name": "stdout",
     "output_type": "stream",
     "text": [
      "[(2, 1, 4), (1, 2, 3), (20, 4, 50), (30, 6, 40), (10, 7, 15)]\n"
     ]
    }
   ],
   "source": [
    "def middle(n):\n",
    "    return n[+1]\n",
    "def sort_middle(tuples):\n",
    "    return sorted(tuples,key=middle)\n",
    "print(sort_middle([(1,2,3), (2,1,4), (10,7,15), (20,4,50), (30, 6, 40)]))"
   ]
  },
  {
   "cell_type": "markdown",
   "metadata": {},
   "source": [
    "In this program,def() function is using to find a sort_first() and sort_middle() element.print the element of first and middle list of tuple."
   ]
  },
  {
   "cell_type": "markdown",
   "metadata": {},
   "source": [
    "7.Develop a function remove_adjacent(). Given a list of numbers, return a list where all adjacent same elements have been reduced to a single element. You may create a new list or modify the passed in list. Test Cases:\n",
    "\n",
    "1.Input: [1, 2, 2, 3] and output: [1, 2, 3]\n",
    "2.Input: [2, 2, 3, 3, 3] and output: [2, 3]\n",
    "3.Input: [ ]. Output: [ ].\n",
    "4.Input: [2,5,5,6,6,7] Output: [2,5,6,7]\n",
    "5.Input: [6,7,7,8,9,9] Output: [6,7,8,9]"
   ]
  },
  {
   "cell_type": "code",
   "execution_count": 18,
   "metadata": {},
   "outputs": [],
   "source": [
    "def remove_adjacent(lst):\n",
    "    a=[]\n",
    "    for item in lst:\n",
    "        if len(a):\n",
    "            if a[-1] !=item:\n",
    "                a.append(item)\n",
    "        else: a.append(item)\n",
    "    return a     "
   ]
  },
  {
   "cell_type": "code",
   "execution_count": 19,
   "metadata": {},
   "outputs": [
    {
     "data": {
      "text/plain": [
       "[1, 2, 3]"
      ]
     },
     "execution_count": 19,
     "metadata": {},
     "output_type": "execute_result"
    }
   ],
   "source": [
    "remove_adjacent([1,2,2,3])"
   ]
  },
  {
   "cell_type": "markdown",
   "metadata": {},
   "source": [
    "In this program,def() function remove_adjacent().Here forloop and if,else statement is using and append the item,then retrun a to print the list without duplicate element in the given list."
   ]
  },
  {
   "cell_type": "markdown",
   "metadata": {},
   "source": [
    "8.Write a function verbing(). Given a string, if its length is at least 3, add 'ing' to its end. Unless it already ends in 'ing', in which case add 'ly' instead. If the string length is less than 3,leave it unchanged. Return the resulting string. So ‘hail’ yields: hailing; ‘swimming’ yields: swimmingly; ‘do’ yields: do."
   ]
  },
  {
   "cell_type": "code",
   "execution_count": 20,
   "metadata": {},
   "outputs": [],
   "source": [
    "def verbing(str):\n",
    "   length = len(str)\n",
    "\n",
    "   if length > 2:\n",
    "    if  str[-3:] == 'ing':\n",
    "       str+= 'ly'\n",
    "    else:\n",
    "       str+= 'ing'\n",
    "    return str    "
   ]
  },
  {
   "cell_type": "code",
   "execution_count": 21,
   "metadata": {},
   "outputs": [
    {
     "data": {
      "text/plain": [
       "'hailing'"
      ]
     },
     "execution_count": 21,
     "metadata": {},
     "output_type": "execute_result"
    }
   ],
   "source": [
    "verbing(\"hail\")"
   ]
  },
  {
   "cell_type": "markdown",
   "metadata": {},
   "source": [
    "In this program,def() function is verbing() given string is length is at least 3 and if and else statement is using to checking the given condition true,return the string and print the output."
   ]
  },
  {
   "cell_type": "markdown",
   "metadata": {},
   "source": [
    "9.Develop a function not_bad(). Given a string, find the first appearance of the substring 'not' and 'bad'. If the 'bad' follows the 'not', replace the whole 'not'...'bad' substring with 'good'. Return the resulting string. So 'This dinner is not that bad!' yields: This dinner is good!."
   ]
  },
  {
   "cell_type": "code",
   "execution_count": 22,
   "metadata": {},
   "outputs": [],
   "source": [
    "def not_bad(s):\n",
    "    snot= s.find('not')\n",
    "    sbad= s.find('bad') + 3\n",
    "    if sbad > snot:\n",
    "        ns = s.replace(s[snot:(sbad+3)], 'good')    \n",
    "    return ns"
   ]
  },
  {
   "cell_type": "code",
   "execution_count": 23,
   "metadata": {},
   "outputs": [
    {
     "data": {
      "text/plain": [
       "'This dinner is good'"
      ]
     },
     "execution_count": 23,
     "metadata": {},
     "output_type": "execute_result"
    }
   ],
   "source": [
    "not_bad('This dinner is not that bad!')"
   ]
  },
  {
   "cell_type": "markdown",
   "metadata": {},
   "source": [
    "In this program,def() function is not_bad.Here given a string and find the first appearance of the substring 'not' and 'bad' if the 'bad' follows the 'not', replace the whole 'not'...'bad' substring with 'good'.If statement is sbad>snot and return ns to print the output."
   ]
  }
 ],
 "metadata": {
  "kernelspec": {
   "display_name": "Python 3",
   "language": "python",
   "name": "python3"
  },
  "language_info": {
   "codemirror_mode": {
    "name": "ipython",
    "version": 3
   },
   "file_extension": ".py",
   "mimetype": "text/x-python",
   "name": "python",
   "nbconvert_exporter": "python",
   "pygments_lexer": "ipython3",
   "version": "3.8.5"
  }
 },
 "nbformat": 4,
 "nbformat_minor": 4
}
