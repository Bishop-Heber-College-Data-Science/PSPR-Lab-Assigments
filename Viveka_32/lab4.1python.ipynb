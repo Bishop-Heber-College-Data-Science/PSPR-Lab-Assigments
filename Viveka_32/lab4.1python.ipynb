{
 "cells": [
  {
   "cell_type": "markdown",
   "metadata": {},
   "source": [
    "Viveka.B"
   ]
  },
  {
   "cell_type": "markdown",
   "metadata": {},
   "source": [
    "DS205229132"
   ]
  },
  {
   "cell_type": "markdown",
   "metadata": {},
   "source": [
    "1.Develop a function count_letter(string, search) that returns the number of times search character appears in a string. Test cases: 1.Str = “hello world”. Search = ‘o’. Calling count_letter(str, search) should return output 2 2.Str = “HeLlo wOrld”. Search = ‘o’. Then, calling count_letter(str, search) will return output 1 Modify count_letter() so that it ignores case sensitivity, so that o and O are same. 3.Str = “HeLlo wOrld”. Search = ‘o’. Calling count_letter(str, search) will return output 2"
   ]
  },
  {
   "cell_type": "code",
   "execution_count": 1,
   "metadata": {},
   "outputs": [
    {
     "name": "stdout",
     "output_type": "stream",
     "text": [
      "Enter the string to search: HELLOW world\n",
      "Enter the character to search: W\n",
      "2\n"
     ]
    }
   ],
   "source": [
    "def count_letter(string,search):\n",
    "    return count\n",
    "string=input(\"Enter the string to search: \")\n",
    "search=input(\"Enter the character to search: \")\n",
    "count=0\n",
    "for char in string:\n",
    "    if char==search:\n",
    "        count+=1\n",
    "    elif char.lower()==search.lower():\n",
    "        count+=1\n",
    "        print(count_letter(string,search))"
   ]
  },
  {
   "cell_type": "markdown",
   "metadata": {},
   "source": [
    "In this program,given a function as def() as count_letter.using input as string to enter the given string to search and search to enter the given character to search for the output.In this for loop and if,elif statement using to given for the condition.Print the count_letter for entered input."
   ]
  },
  {
   "cell_type": "markdown",
   "metadata": {},
   "source": [
    "2.Write a program that counts the number of spaces, digits, vowels and consonants in\n",
    "a string that the user inputs. Print the string, no of spaces, no of digits, no of vowels and no of\n",
    "consonants.\n",
    "Test case: Enter a string: Bishop Heber College 17. Then output should be:\n",
    "Given string: Bishop Heber College 17\n",
    "No. of spaces: 3\n",
    "No. of digits: 2\n",
    "No. of vowels: 7\n",
    "No. of consonants: 12 "
   ]
  },
  {
   "cell_type": "code",
   "execution_count": 2,
   "metadata": {},
   "outputs": [],
   "source": [
    "def cal_count(string):\n",
    "    vowels=0\n",
    "    consonants=0\n",
    "    digits=0\n",
    "    spaces=0\n",
    "    for i in range(0, len(string)):\n",
    "        ch = string[i]\n",
    "        if((ch >= 'a' and ch <= 'z') or (ch >= 'A'and ch <= 'Z')):\n",
    "            ch=ch.lower()\n",
    "            if(ch == 'a' or ch == 'e' or ch == 'i' or ch == 'o' or ch == 'u'):\n",
    "                vowels += 1\n",
    "            else:\n",
    "                consonants += 1\n",
    "        elif( ch >= '0' or ch <= '9'):\n",
    "            digits += 1\n",
    "        else:\n",
    "            spaces += 1\n",
    "    print(\"No.of vowels:\",vowels, \"\\nNo.of consonants : \",consonants, \"\\nNo of digits : \",digits,\"\\nNo of spaces : \",spaces)"
   ]
  },
  {
   "cell_type": "code",
   "execution_count": 3,
   "metadata": {},
   "outputs": [
    {
     "name": "stdout",
     "output_type": "stream",
     "text": [
      "No.of vowels: 3 \n",
      "No.of consonants :  3 \n",
      "No of digits :  2 \n",
      "No of spaces :  0\n"
     ]
    }
   ],
   "source": [
    "string=\"viveka23\"\n",
    "cal_count(string)"
   ]
  },
  {
   "cell_type": "markdown",
   "metadata": {},
   "source": [
    "In this program,using function as def() for cal_count.The given program to counts the no of vowels, no of consonants, no of digits, no of spaces for given inputs.Here using for loop and if,elif,else statements as conditions for the program and print the given program output."
   ]
  },
  {
   "cell_type": "markdown",
   "metadata": {},
   "source": [
    "3.Develop a function remove_punctuation(str) that returns the string after removing the following punctuations. Punctuation List = \"!\"# %&'()*+,-./:;<=>?@[\\]^`{|}~\"\n",
    "Test cases:\n",
    "1. Str = “Bishop’s College !.....”. Calling remove_punctuation(str) should return output as\n",
    "“Bishops College”\n",
    "2. Str = “#bhc trending @cs placements::>.” Calling remove_punctuation(str) should return output as “bhc trending cs placements”"
   ]
  },
  {
   "cell_type": "code",
   "execution_count": 4,
   "metadata": {},
   "outputs": [],
   "source": [
    "def remove_punctuation(string):\n",
    "    punctuations= \"!\\\"#$%&'()*+,-./:;<=>?@[\\]^`{|}~\"\n",
    "    for x in string.lower():\n",
    "        if x in punctuations:\n",
    "            string=string.replace(x,\"\")\n",
    "    print(string)     "
   ]
  },
  {
   "cell_type": "code",
   "execution_count": 5,
   "metadata": {},
   "outputs": [
    {
     "name": "stdout",
     "output_type": "stream",
     "text": [
      "Hello i am vive\n"
     ]
    }
   ],
   "source": [
    "string=\"Hello !i @am (vive)\"\n",
    "remove_punctuation(string)"
   ]
  },
  {
   "cell_type": "markdown",
   "metadata": {},
   "source": [
    "In this program,using function as def() for remove_punctuation.Here using for loop and if statement for the given conditions. The given punctuation list that returns the given string without the punctuations and print the given string without the punctuations."
   ]
  },
  {
   "cell_type": "markdown",
   "metadata": {},
   "source": [
    "4.Write a program that asks the user for a word. Translate their word into Pig Latin. Pig Latin game takes the first consonant (or set of first consonants) of an English word, moves it to the end of the word and suffixes an ay. If the first letter is a vowel, do not move that vowel, but instead add “way” at the end of the word."
   ]
  },
  {
   "cell_type": "code",
   "execution_count": 6,
   "metadata": {},
   "outputs": [
    {
     "name": "stdout",
     "output_type": "stream",
     "text": [
      "Enter a word:pig\n"
     ]
    }
   ],
   "source": [
    "word=input('Enter a word:')\n",
    "def piglatin(word):\n",
    "    ay='ay'\n",
    "    way='way'\n",
    "    consonant=('b','c','d','f','g','h','j','k','l','m','n','p','q','r','s','t','v','x','y','z','B','C','D','F','G','H','J','K','L','M','N','P','Q','R','S','T','V','X','Y','Z')\n",
    "    vowels = ('a', 'e', 'i', 'o', 'u', 'A', 'E', 'I', 'O', 'U')\n",
    "    first_letter=word[0]\n",
    "    first_letter=str(first_letter)\n",
    "    first_letter=first_letter.upper()\n",
    "    if first_letter in consonant:\n",
    "        print(first_letter,'is a consonant')\n",
    "        lenght_of_word=len(word)\n",
    "        remove_first_letter=word[1:lenght_of_word]\n",
    "        pig_latin=remove_first_letter+first_letter+ay\n",
    "        print('The word in pig Latin is:',pig_latin)\n",
    "    elif first_letter in vowel:\n",
    "        print(first_letter,'is a vowel')\n",
    "        pig_latin=word+way\n",
    "        print('The word in pig Latin is:',pig_latin)\n",
    "    else:\n",
    "        print('I dont know what',first_letter,'is')"
   ]
  },
  {
   "cell_type": "code",
   "execution_count": 7,
   "metadata": {},
   "outputs": [
    {
     "name": "stdout",
     "output_type": "stream",
     "text": [
      "P is a consonant\n",
      "The word in pig Latin is: igPay\n"
     ]
    }
   ],
   "source": [
    "piglatin(word)"
   ]
  },
  {
   "cell_type": "markdown",
   "metadata": {},
   "source": [
    "In this program,give the input as enter a word and def() is a function calling piglatin(word).Here using if,elif,else statement for check the condition.In this program we translate the word into pig Latin and print the given word as the form of piglatin."
   ]
  }
 ],
 "metadata": {
  "kernelspec": {
   "display_name": "Python 3",
   "language": "python",
   "name": "python3"
  },
  "language_info": {
   "codemirror_mode": {
    "name": "ipython",
    "version": 3
   },
   "file_extension": ".py",
   "mimetype": "text/x-python",
   "name": "python",
   "nbconvert_exporter": "python",
   "pygments_lexer": "ipython3",
   "version": "3.8.5"
  }
 },
 "nbformat": 4,
 "nbformat_minor": 4
}
