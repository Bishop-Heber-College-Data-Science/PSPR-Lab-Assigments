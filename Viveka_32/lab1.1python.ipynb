{
 "cells": [
  {
   "cell_type": "markdown",
   "metadata": {},
   "source": [
    "Viveka.B"
   ]
  },
  {
   "cell_type": "markdown",
   "metadata": {},
   "source": [
    "DS205229132"
   ]
  },
  {
   "cell_type": "markdown",
   "metadata": {},
   "source": [
    "1.write a program in python to input length and breadth of a rectangle and print the area and perimeter of it. Test you code with atleast 2 test cases."
   ]
  },
  {
   "cell_type": "code",
   "execution_count": 1,
   "metadata": {},
   "outputs": [
    {
     "name": "stdout",
     "output_type": "stream",
     "text": [
      "Length: 7\n",
      "breadth: 8\n",
      "Area of Rectangle:  56\n",
      "Perimeter of Rectangle:  30\n"
     ]
    }
   ],
   "source": [
    "l=int(input(\"Length: \"))\n",
    "b=int(input(\"breadth: \"))\n",
    "area=l*b\n",
    "perimeter=2*(l+b)\n",
    "print(\"Area of Rectangle: \",area)\n",
    "print(\"Perimeter of Rectangle: \",perimeter)"
   ]
  },
  {
   "cell_type": "code",
   "execution_count": 2,
   "metadata": {},
   "outputs": [
    {
     "name": "stdout",
     "output_type": "stream",
     "text": [
      "Length: 5\n",
      "breadth: 3\n",
      "Area of Rectangle:  15\n",
      "Perimeter of Rectangle:  16\n"
     ]
    }
   ],
   "source": [
    "l=int(input(\"Length: \"))\n",
    "b=int(input(\"breadth: \"))\n",
    "area=l*b\n",
    "perimeter=2*(l+b)\n",
    "print(\"Area of Rectangle: \",area)\n",
    "print(\"Perimeter of Rectangle: \",perimeter)"
   ]
  },
  {
   "cell_type": "markdown",
   "metadata": {},
   "source": [
    "In this program,i given input() to both length and breadth of a rectangle,then to print the area and perimeter of rectangle i given a area=lb formula to find area and for perimeter formula perimeter=2(l+b).Then i given print() to print the area of rectangle and perimeter of rectangle for given inputs."
   ]
  },
  {
   "cell_type": "markdown",
   "metadata": {},
   "source": [
    "2.Write a program, which accepts annual basic salary of an employee and calculates and displays the Income tax as per the following rules. If Basic is less than Rs. 1,50,000/-, then Tax = 0. If Basic is from Rs.1,50,000/- to Rs. 3,00,000/-, then tax is 20%. If Basic is greater than Rs.3,00,000/-, then tax is 30%. Print name, annual income and tax. Write test cases to validate all conditions."
   ]
  },
  {
   "cell_type": "code",
   "execution_count": 3,
   "metadata": {},
   "outputs": [
    {
     "name": "stdout",
     "output_type": "stream",
     "text": [
      "Enter the name of Employee:viveka\n",
      "Enter the salary of Employee:500000\n",
      "Annual income of viveka is 500000.0\n",
      "The tax amount is 150000.0\n"
     ]
    }
   ],
   "source": [
    "ename=input(\"Enter the name of Employee:\")\n",
    "salary=float(input(\"Enter the salary of Employee:\"))\n",
    "if(salary<150000):\n",
    "    tax=0\n",
    "    print(\"Annual income of \" +ename+ \" is\",salary)\n",
    "    print(\"No taxable Amount\")\n",
    "elif(salary<300000):\n",
    "    tax=20/100*salary\n",
    "    print(\"Annual income of \" +ename+ \" is\",salary)\n",
    "    print(\"The tax amount is\" ,tax)\n",
    "elif(salary>300000):\n",
    "    tax=30/100*salary\n",
    "    print(\"Annual income of \" +ename+ \" is\",salary)\n",
    "    print(\"The tax amount is\" ,tax)"
   ]
  },
  {
   "cell_type": "markdown",
   "metadata": {},
   "source": [
    "In this program,i given input() in that enter the employee name and salary and then using if and elif statement in this program,calculate the taxable amount for the annual salary of the employee.Then print the tax amount for the salary given in this program."
   ]
  },
  {
   "cell_type": "markdown",
   "metadata": {},
   "source": [
    "3.Write a program to accept quantity and rate for three (3) items. Compute the total sales amount. Also compute and print the discount as follows: Amount > Rs. 2000/- : 20% discount. Amount between Rs. 1500/- to Rs.1999/- :15% discount. Amount between Rs. 1000/- to Rs.1499/- 8 % discount. Compute final amount to be paid. Print name, rate and quantity of 3 items. Then print total sales amount, total discount and final amount to be paid to shop. Write 3 test cases to validate all conditions."
   ]
  },
  {
   "cell_type": "code",
   "execution_count": 1,
   "metadata": {},
   "outputs": [
    {
     "name": "stdout",
     "output_type": "stream",
     "text": [
      "grocery list\n",
      "enter the item1: oil\n",
      "enter the quantity1: 3\n",
      "enter the rate1: 450\n",
      "enter the item2: wheat\n",
      "enter the quantity2: 4\n",
      "enter the rate2: 550\n",
      "enter the item3: rice\n",
      "enter the quantity3: 6\n",
      "enter the rate3: 990\n",
      "discount 20%.....||\n",
      "\n",
      "\n",
      "total amount:  9490\n",
      "\n",
      "total discount:  1898.0\n",
      "\n",
      "final price to be paid by customer:  7592.0\n"
     ]
    }
   ],
   "source": [
    "print(\"grocery list\")\n",
    "name_of_the_item1=str(input(\"enter the item1: \"))\n",
    "quantity_1=int(input(\"enter the quantity1: \"))\n",
    "rate_1=int(input(\"enter the rate1: \"))\n",
    "\n",
    "name_of_the_item2=str(input(\"enter the item2: \"))\n",
    "quantity_2=int(input(\"enter the quantity2: \"))\n",
    "rate_2=int(int(input(\"enter the rate2: \")))\n",
    "\n",
    "name_of_the_item3=str(input(\"enter the item3: \"))\n",
    "quantity_3=int(input(\"enter the quantity3: \"))\n",
    "rate_3=int(input(\"enter the rate3: \"))\n",
    "\n",
    "amount=(quantity_1*rate_1)+(quantity_2*rate_2)+(quantity_3*rate_3)\n",
    "price=amount\n",
    "if amount > 2000:\n",
    "    print(\"discount 20%.....||\\n\") \n",
    "    discount=amount*20/100\n",
    "    price -= discount\n",
    "elif amount > 1500 and amount < 1999:\n",
    "    print(\"discount 15%.....||\\n\")\n",
    "    discount=(amount*4)/20\n",
    "    price -= discount\n",
    "elif amount > 1000 and amount < 1499:\n",
    "    print(\"discount 8%.....||\\n\")\n",
    "    discount=(amount*9)/100\n",
    "    price -= discount\n",
    "print(\"\\ntotal amount: \",amount)\n",
    "print(\"\\ntotal discount: \",discount)\n",
    "print(\"\\nfinal price to be paid by customer: \",price)"
   ]
  },
  {
   "cell_type": "markdown",
   "metadata": {},
   "source": [
    "In this program,i printed grocery shop list by name of the item,quantity and rate of the three product.Then i calculate the amount by using all three quantity and rate of the product and calculate the price is equal to amount of the three product in it,also using discount of the product.Then if and elif statement is using in this program and find the discount amount of the total amount based on the discount it falls on using multiplying the given amount and divided the given amount of the product.Then print the total amount,total discount and price of the given product by the customers after the discount amount from total amount of the product and final amount to be paid by customer is calculated."
   ]
  },
  {
   "cell_type": "markdown",
   "metadata": {},
   "source": [
    "5.Write a program to accept name, marks for three subjects and find the total marks secured, average and also display the class obtained. Class I – above 80% Class II – 60% to 80% Pass class – 40% to 59% and Fail otherwise Print a message as “Congratulations << your name>>, you secured a total of <>, and Your class is <>” Test you code with atleast 2 test cases."
   ]
  },
  {
   "cell_type": "code",
   "execution_count": 23,
   "metadata": {},
   "outputs": [
    {
     "name": "stdout",
     "output_type": "stream",
     "text": [
      "Enter your name: viveka\n",
      "Enter Subject 1: 99\n",
      "Enter Subject 2: 89\n",
      "Enter Subject 3: 78\n",
      "\n",
      "Congratulation! viveka you secured a total of 266 and your class is: 1st Class\n"
     ]
    }
   ],
   "source": [
    "name = str(input(\"Enter your name: \"))\n",
    "subject_1 = float(input(\"Enter Subject 1: \"))\n",
    "subject_2 = float(input(\"Enter Subject 2: \"))\n",
    "subject_3 = float(input(\"Enter Subject 3: \"))\n",
    "total = int(subject_1+subject_2+subject_3)\n",
    "average = total/3\n",
    "percentage = (total/300) * 100\n",
    "if(percentage>=80):\n",
    "    print(\"\\nCongratulation!\", name, \"you secured a total of\", total, \"and your class is: 1st Class\")\n",
    "elif(percentage>=60 and percentage<=80):\n",
    "    print(\"\\nCongratulation!\", name, \"you secured a total of\", total, \"and your class is: 2nd Class\")\n",
    "elif(percentage>=40 and percentage<=59):\n",
    "    print(\"\\nCongratulation!\", name, \"you secured a total of\", total, \"and your class is: Pass Class\")\n",
    "else:\n",
    "    print(\"you are fail\")"
   ]
  },
  {
   "cell_type": "markdown",
   "metadata": {},
   "source": [
    "In this program,i given name as string input().here i given three subjects as float input(),to calculate the total i add all three subjects marks given in this program and to calculate the average by total marks divided by three, to calculate the percentage by total marks divided by 300 and multiply with 100.If,else and elif statement is using in this program and it print congratulation then my name,the total and type of class for all three classes."
   ]
  },
  {
   "cell_type": "markdown",
   "metadata": {},
   "source": [
    "6.Read a number from keyboard. Print whether it is odd number, even number, positive number, negative number or zero. Also, print if its ASCII value represents a lower case or upper case letter or digit. Write 8 test cases to validate odd, even, positive, negative, zero, lower case, upper case and digit input types"
   ]
  },
  {
   "cell_type": "code",
   "execution_count": 24,
   "metadata": {},
   "outputs": [
    {
     "name": "stdout",
     "output_type": "stream",
     "text": [
      "enter the number:99\n",
      "number is positive \n",
      "\n",
      "number is odd   \n",
      "\n",
      "Enter ASCII values:   \n",
      "\n",
      "represents lowercase letter    \n",
      "\n",
      "the value c\n",
      "9\n",
      "57\n"
     ]
    },
    {
     "data": {
      "text/plain": [
       "'d'"
      ]
     },
     "execution_count": 24,
     "metadata": {},
     "output_type": "execute_result"
    }
   ],
   "source": [
    "n=int(input(\"enter the number:\"))\n",
    "if n>0:\n",
    "    print(\"number is positive \\n\")\n",
    "    if n%2==0:\n",
    "        print(\"number is even  \\n\")\n",
    "    else:\n",
    "        print(\"number is odd   \\n\")     \n",
    "elif n<0:\n",
    "    print(\"number is negative   \\n\")\n",
    "    if n%2==0:\n",
    "        print(\"number is even   \\n\")\n",
    "    else:\n",
    "        print(\"number is odd     \\n\")\n",
    "else:\n",
    "    print(\"number is zero   \\n\")\n",
    "    \n",
    "    \n",
    "print(\"Enter ASCII values:   \\n\")\n",
    "if n>=65 and n<=91:\n",
    "    print(\"represents uppercase letter   \\n\")\n",
    "elif n>=97 and n<=122:\n",
    "    print(\"represents lowercase letter    \\n\")\n",
    "elif n>=48 and n<=57:\n",
    "    print(\"represents digit   \\n\")\n",
    "val=chr(n)\n",
    "print('the value' ,val)\n",
    "char=str(input())\n",
    "print(ord(char))\n",
    "n=100\n",
    "chr(n)"
   ]
  },
  {
   "cell_type": "markdown",
   "metadata": {},
   "source": [
    "In this program,i given n is a input() to enter the number.Here i using if,else and elif statement to print whether the given number is positive,negative or zero in this program.Then enter ASCII values using the if and elif statement in it for represents the given number is uppercase,lowercase or digit then it print the output."
   ]
  }
 ],
 "metadata": {
  "kernelspec": {
   "display_name": "Python 3",
   "language": "python",
   "name": "python3"
  },
  "language_info": {
   "codemirror_mode": {
    "name": "ipython",
    "version": 3
   },
   "file_extension": ".py",
   "mimetype": "text/x-python",
   "name": "python",
   "nbconvert_exporter": "python",
   "pygments_lexer": "ipython3",
   "version": "3.8.5"
  }
 },
 "nbformat": 4,
 "nbformat_minor": 4
}
