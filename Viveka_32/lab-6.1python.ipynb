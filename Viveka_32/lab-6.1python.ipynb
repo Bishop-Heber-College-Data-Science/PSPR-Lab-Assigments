{
 "cells": [
  {
   "cell_type": "markdown",
   "metadata": {},
   "source": [
    "Viveka.B"
   ]
  },
  {
   "cell_type": "markdown",
   "metadata": {},
   "source": [
    "DS205229132"
   ]
  },
  {
   "cell_type": "markdown",
   "metadata": {},
   "source": [
    "1.Write a program for Password Management System File creation: Ask user to enter N user names and their passwords. Store usernames and passwords into a file named “loginfile.txt”. Store each user and password in one line. File Processing: Write a program that opens your “loginfile.txt” file and reads usernames and passwords from it. Store user names in one list and passwords in another lists. Querying: ask user to enter user name 3 and password for verification. If they match the values stored in the lists, print a message “Login Successful”. Otherwise print a message “Login Failed, try again”."
   ]
  },
  {
   "cell_type": "code",
   "execution_count": 1,
   "metadata": {},
   "outputs": [],
   "source": [
    "def register():\n",
    "    username = input(\"Enter a input the first 2 letters of your first name and your birth year \")\n",
    "    password = input(\"Enter a input your password \")\n",
    "    file = open(\"loginfile.txt\",\"a\")\n",
    "    file.write(username)\n",
    "    file.write(\" \")\n",
    "    file.write(password)\n",
    "    file.write(\"\\n\")\n",
    "    file.close()\n",
    "    if login():\n",
    "        print(\"You are now logged in...\")\n",
    "    else:\n",
    "        print(\"You aren't logged in!\")\n",
    "def login():\n",
    "    username = input(\"Enter your username: \")\n",
    "    password = input(\"Enter your password: \")\n",
    "    for line in open(\"loginfile.txt\",\"r\").readlines(): \n",
    "        login_info = line.split() \n",
    "        if username == login_info[0] and password == login_info[1]:\n",
    "            print(\"Correct credentials!\")\n",
    "            return True\n",
    "    print(\"Incorrect credentials.\")\n",
    "    return False"
   ]
  },
  {
   "cell_type": "code",
   "execution_count": 2,
   "metadata": {},
   "outputs": [
    {
     "name": "stdout",
     "output_type": "stream",
     "text": [
      "Enter a input the first 2 letters of your first name and your birth year vi2000\n",
      "Enter a input your password dsviveka32\n",
      "Enter your username: vi2000\n",
      "Enter your password: dsviveka32\n",
      "Correct credentials!\n",
      "You are now logged in...\n"
     ]
    }
   ],
   "source": [
    "register()"
   ]
  },
  {
   "cell_type": "code",
   "execution_count": 3,
   "metadata": {},
   "outputs": [
    {
     "name": "stdout",
     "output_type": "stream",
     "text": [
      "Enter your username: vi2000\n",
      "Enter your password: dsviveka32\n",
      "Correct credentials!\n"
     ]
    },
    {
     "data": {
      "text/plain": [
       "True"
      ]
     },
     "execution_count": 3,
     "metadata": {},
     "output_type": "execute_result"
    }
   ],
   "source": [
    "login()"
   ]
  },
  {
   "cell_type": "markdown",
   "metadata": {},
   "source": [
    "In this program,def() register() and username and password as a input().Here we used to give a input to username as first 2 letters of your first name and your birth year and password as input your password to append a file,opening and closing file.Then read a text file and print the output."
   ]
  },
  {
   "cell_type": "markdown",
   "metadata": {},
   "source": [
    "2.Write a program for Student Performance Analysis Create a text file, ‘marks.txt’, with N marks as floating point numbers. Open the file, read marks from it and compute and print the highest mark. If the user runs the program more than once you should not overwrite the previous text file – simply append the marks to the end of the file. Modify the above program so that it also prints Top-3 highest marks (Note: you may need to use list concept) Modify the above program so that it also prints the Lowest-3 marks."
   ]
  },
  {
   "cell_type": "code",
   "execution_count": 4,
   "metadata": {},
   "outputs": [
    {
     "name": "stdout",
     "output_type": "stream",
     "text": [
      "99.0\n",
      "[99.0, 99.0, 99.0]\n",
      "[79.0, 79.0, 79.0]\n"
     ]
    }
   ],
   "source": [
    "list=[]\n",
    "with open('marks.txt', 'r') as fp:\n",
    "    number_list = [float(item) for item in fp.readlines()]\n",
    "print(max(number_list))\n",
    "\n",
    "def Nmaxelements(list1, N):\n",
    "    final_list = []\n",
    "    for i in range(0, N):\n",
    "        max1 = 0\n",
    "        for j in range(len(list1)):\n",
    "            if list1[j] > max1:\n",
    "                max1 = list1[j];\n",
    "        list1.remove(max1);\n",
    "        final_list.append(max1)\n",
    "    print(final_list)\n",
    "Nmaxelements(number_list,3)\n",
    "\n",
    "def Nminelements(list1, N):\n",
    "    final_list =[];\n",
    "    for i in range(0, N):\n",
    "        min1 = 9999999;\n",
    "        for j in range(len(list1)):\n",
    "            if list1[j]<min1:\n",
    "                min1 = list1[j];\n",
    "        list1.remove(min1);\n",
    "        final_list.append(min1)\n",
    "    print(final_list)\n",
    "Nminelements(number_list,3)"
   ]
  },
  {
   "cell_type": "markdown",
   "metadata": {},
   "source": [
    "In this program,we create a text file as ‘marks.txt’ with N marks[] as floating point numbers and Open the file and read marks[] and print the highest mark of given mark list,append the text file.Finally print the output as top-3 highest marks and lowest marks."
   ]
  },
  {
   "cell_type": "markdown",
   "metadata": {},
   "source": [
    "3.Write a program for Stock Price Analysis File Creation: Continually prompt a user for stock name, followed by price values for 5 days. Each row indicates stock name and daily prices of one stock. Store these values in a text file called “stock-prices.txt”. Open the file in Append Mode. Prompt message “Do you want to continue? “ and stop reading values accordingly. Then, you can close your file. File Processing: Now, open your file for processing. Print stock name, minimum price, maximum price and average price values. You can also print which day stock price was lowest in the week and which day stock price was highest. So, modify your print statement to print stock name, minimum price & day of minimum price, maximum price & day of maximum price and average price values. (Hint: Use enumerate to get index values)."
   ]
  },
  {
   "cell_type": "code",
   "execution_count": 5,
   "metadata": {},
   "outputs": [
    {
     "name": "stdout",
     "output_type": "stream",
     "text": [
      "enter the stock name: LG\n",
      "65000\n",
      "75000\n",
      "56000\n",
      "51999\n",
      "45000\n",
      "Do you want to continue: yes\n",
      "enter the stock name: mi\n",
      "33000\n",
      "76000\n",
      "67000\n",
      "69999\n",
      "61599\n",
      "Do you want to continue: yes\n",
      "enter the stock name: sony\n",
      "55999\n",
      "70000\n",
      "45999\n",
      "65000\n",
      "54999\n",
      "Do you want to continue: no\n",
      "\n",
      "\n",
      "LG\n",
      "45000\n",
      "75000\n",
      "58599.8\n",
      "\n",
      "\n",
      "mi\n",
      "33000\n",
      "76000\n",
      "61519.6\n",
      "\n",
      "\n",
      "sony\n",
      "45999\n",
      "70000\n",
      "58399.4\n",
      "\n",
      "\n",
      "LG\n",
      "minmum price  45000  on day  5\n",
      "maximum price  75000  on day  2\n",
      "mi\n",
      "minmum price  33000  on day  1\n",
      "maximum price  76000  on day  2\n",
      "sony\n",
      "minmum price  45999  on day  3\n",
      "maximum price  70000  on day  2\n"
     ]
    }
   ],
   "source": [
    "while True:\n",
    "    stack_name=str(input(\"enter the stock name: \"))\n",
    "    file=open(\"stock_prices.txt\",\"a\")\n",
    "    file.write(stack_name)\n",
    "    file.write(\"  \")\n",
    "    for i in range(5):\n",
    "        p=input()\n",
    "        file.write(p)\n",
    "        file.write(\"  \") \n",
    "    file.write(\"\\n\")    \n",
    "    cont = str(input(\"Do you want to continue: \")) \n",
    "    if cont =='no':\n",
    "        break   \n",
    "file.close() \n",
    "print(\"\\n\")\n",
    "\n",
    "for stack in open(\"stock_prices.txt\",\"r\").readlines():\n",
    "    p_min=[]\n",
    "    calc=stack.split()\n",
    "    print(calc[0])  \n",
    "    for i in range(1,6):\n",
    "        p_min.append(int(calc[i]))\n",
    "    print(min(p_min))   \n",
    "    print(max(p_min))\n",
    "    avg=sum(p_min)\n",
    "    avgerage=avg/5\n",
    "    print(avgerage)\n",
    "    print(\"\\n\")\n",
    "    \n",
    "for stack in open(\"stock_prices.txt\",\"r\").readlines():\n",
    "    p_min=[]\n",
    "    calc=stack.split()\n",
    "    print(calc[0])  \n",
    "    for i in range(1,6):\n",
    "        p_min.append(int(calc[i]))\n",
    "    mip=min(p_min)    \n",
    "    mxp=max(p_min)\n",
    "    im=p_min.index(mip)\n",
    "    ix=p_min.index(mxp)\n",
    "    print(\"minmum price \",mip,\" on day \",im+1)\n",
    "    print(\"maximum price \",mxp,\" on day \",ix+1)    "
   ]
  },
  {
   "cell_type": "markdown",
   "metadata": {},
   "source": [
    "In this program,using while loop for check the conditions.Stock_name as a input to enter a stock name and open and read by the append mode in given file.To continue the stocklist print the message Do you want to continue? is yes to stop it print the msg no.Then, you can close your file.Then again open the file to print stock name, minimum price,maximum price and average price of given values of given stock and then print which day stock price was lowest in the week and which day stock price was highest.Then modify your print statement to print stock name, minimum price & day of minimum price, maximum price & day of maximum price and average price of given values."
   ]
  },
  {
   "cell_type": "markdown",
   "metadata": {},
   "source": [
    "4.Write a program for File Explorer Display the contents of file Count the number of lines in a text file. (Use splitlines()) Count the number of unique words in a file. Find frequency of words in a given file. (Hint: Use Counter object) Show a random line in a file. (Use Random object)."
   ]
  },
  {
   "cell_type": "code",
   "execution_count": 1,
   "metadata": {},
   "outputs": [
    {
     "name": "stdout",
     "output_type": "stream",
     "text": [
      "Display the contents of File:\n",
      "     \n",
      "I am viveka B\n",
      "I am viveka23\n",
      "I am viveka\n",
      "I am viveka32\n",
      "I am viveka2000\n",
      "  \n",
      "Count the number of lines in a text file:\n",
      "    \n",
      "Number of lines in the text file: 5\n",
      "\n",
      "\n",
      "Count the number of unique words in a file:\n",
      "     \n",
      "Number of words: 16\n",
      "\n",
      "\n",
      "Find frequency of words in a given file:\n",
      "     \n",
      "Enter the file name: content.txt\n",
      "  \n",
      "File cannot be opened: content.txt\n",
      "\n",
      "\n",
      "Show a random line in a file:\n",
      "     \n",
      "I am viveka\n"
     ]
    }
   ],
   "source": [
    "print(\"Display the contents of File:\")\n",
    "print(\"     \")\n",
    "f = open(\"contents.txt\",'r')\n",
    "display = f.read()\n",
    "print(display)\n",
    "f.close()\n",
    "print(\"  \")\n",
    "\n",
    "print(\"Count the number of lines in a text file:\")\n",
    "print(\"    \")\n",
    "file = open(\"contents.txt\",\"r\")\n",
    "Counter = 0\n",
    "Content = file.read()\n",
    "CoList = Content.split(\"\\n\")\n",
    "\n",
    "for i in CoList:\n",
    "    if i:\n",
    "        Counter += 1\n",
    "print(\"Number of lines in the text file:\",Counter)\n",
    "print(\"\\n\")\n",
    "\n",
    "print(\"Count the number of unique words in a file:\")\n",
    "print(\"     \")\n",
    "num_words = 0\n",
    "c = open(\"contents.txt\", 'r')\n",
    "for line in c:\n",
    "    words = line.split()\n",
    "    num_words += len(words)\n",
    "print(\"Number of words:\",num_words)\n",
    "c.close()\n",
    "print(\"\\n\")\n",
    "\n",
    "print(\"Find frequency of words in a given file:\")\n",
    "print(\"     \")\n",
    "fname = input('Enter the file name: ')\n",
    "print(\"  \")\n",
    "try:\n",
    "    fhand = open(fname)\n",
    "    counts = dict()\n",
    "    for line in fhand:\n",
    "        words = line.split()\n",
    "        for word in words:\n",
    "            if word in counts:\n",
    "                counts[word] += 1\n",
    "            else:\n",
    "                counts[word] = 1\n",
    "    print(counts)\n",
    "except:\n",
    "    print('File cannot be opened:', fname)\n",
    "print(\"\\n\")\n",
    "\n",
    "print(\"Show a random line in a file:\")\n",
    "print(\"     \")\n",
    "import random\n",
    "def random_line(fname):\n",
    "    lines = open(fname).read().splitlines()\n",
    "    return random.choice(lines)\n",
    "print(random_line('contents.txt'))   "
   ]
  },
  {
   "cell_type": "markdown",
   "metadata": {},
   "source": [
    "In this program,for File Explorer Display the contents of file as contents.txt file.Count the number of lines in a text file. Count the number of unique words in a file. Find frequency of words in a given file and Show a random line in a file of the given input in txt file."
   ]
  },
  {
   "cell_type": "markdown",
   "metadata": {},
   "source": [
    "5.[File Searcher]. Develop an application in Python to read through the email data (“mbox-short.txt”) and when you find line that starts with “From”, you will split the line into words using the split function. We are interested in who sent the message, which is the second word on the From line: From stephen.marquard@uct.ac.za Sat Jan 5 09:14:16 2008. You will parse the From line and print out the second word for each From line, then you will also count the number of From (not From:) lines and print out a count at the end."
   ]
  },
  {
   "cell_type": "code",
   "execution_count": 2,
   "metadata": {},
   "outputs": [
    {
     "name": "stdout",
     "output_type": "stream",
     "text": [
      "From stephen.marquard@uct.ac.za Sat Jan  5 09:14:16 2008\n",
      "From louis@media.berkeley.edu Fri Jan  4 18:10:48 2008\n",
      "From zqian@umich.edu Fri Jan  4 16:10:39 2008\n",
      "From rjlowe@iupui.edu Fri Jan  4 15:46:24 2008\n",
      "From zqian@umich.edu Fri Jan  4 15:03:18 2008\n",
      "From rjlowe@iupui.edu Fri Jan  4 14:50:18 2008\n",
      "From cwen@iupui.edu Fri Jan  4 11:37:30 2008\n",
      "From cwen@iupui.edu Fri Jan  4 11:35:08 2008\n",
      "From gsilver@umich.edu Fri Jan  4 11:12:37 2008\n",
      "From gsilver@umich.edu Fri Jan  4 11:11:52 2008\n",
      "From zqian@umich.edu Fri Jan  4 11:11:03 2008\n",
      "From gsilver@umich.edu Fri Jan  4 11:10:22 2008\n",
      "From wagnermr@iupui.edu Fri Jan  4 10:38:42 2008\n",
      "From zqian@umich.edu Fri Jan  4 10:17:43 2008\n",
      "From antranig@caret.cam.ac.uk Fri Jan  4 10:04:14 2008\n",
      "From gopal.ramasammycook@gmail.com Fri Jan  4 09:05:31 2008\n",
      "From david.horwitz@uct.ac.za Fri Jan  4 07:02:32 2008\n",
      "From david.horwitz@uct.ac.za Fri Jan  4 06:08:27 2008\n",
      "From david.horwitz@uct.ac.za Fri Jan  4 04:49:08 2008\n",
      "From david.horwitz@uct.ac.za Fri Jan  4 04:33:44 2008\n",
      "From stephen.marquard@uct.ac.za Fri Jan  4 04:07:34 2008\n",
      "From louis@media.berkeley.edu Thu Jan  3 19:51:21 2008\n",
      "From louis@media.berkeley.edu Thu Jan  3 17:18:23 2008\n",
      "From ray@media.berkeley.edu Thu Jan  3 17:07:00 2008\n",
      "From cwen@iupui.edu Thu Jan  3 16:34:40 2008\n",
      "From cwen@iupui.edu Thu Jan  3 16:29:07 2008\n",
      "From cwen@iupui.edu Thu Jan  3 16:23:48 2008\n"
     ]
    }
   ],
   "source": [
    "fhand = open('mbox-short.txt')\n",
    "for line in fhand:\n",
    "    line = line.rstrip()\n",
    "    if line.startswith('From '):\n",
    "        print(line)"
   ]
  },
  {
   "cell_type": "code",
   "execution_count": 3,
   "metadata": {},
   "outputs": [
    {
     "name": "stdout",
     "output_type": "stream",
     "text": [
      "stephen.marquard@uct.ac.za\n",
      "louis@media.berkeley.edu\n",
      "zqian@umich.edu\n",
      "rjlowe@iupui.edu\n",
      "zqian@umich.edu\n",
      "rjlowe@iupui.edu\n",
      "cwen@iupui.edu\n",
      "cwen@iupui.edu\n",
      "gsilver@umich.edu\n",
      "gsilver@umich.edu\n",
      "zqian@umich.edu\n",
      "gsilver@umich.edu\n",
      "wagnermr@iupui.edu\n",
      "zqian@umich.edu\n",
      "antranig@caret.cam.ac.uk\n",
      "gopal.ramasammycook@gmail.com\n",
      "david.horwitz@uct.ac.za\n",
      "david.horwitz@uct.ac.za\n",
      "david.horwitz@uct.ac.za\n",
      "david.horwitz@uct.ac.za\n",
      "stephen.marquard@uct.ac.za\n",
      "louis@media.berkeley.edu\n",
      "louis@media.berkeley.edu\n",
      "ray@media.berkeley.edu\n",
      "cwen@iupui.edu\n",
      "cwen@iupui.edu\n",
      "cwen@iupui.edu\n",
      "There were 27 lines in the file with From as the first word\n"
     ]
    }
   ],
   "source": [
    "fhand = open(\"mbox-short.txt\")\n",
    "count = 0\n",
    "for line in fhand:\n",
    "    line = line.rstrip()\n",
    "    if line == \"\": continue\n",
    "    words = line.split()\n",
    "    if words[0] !=\"From\": continue\n",
    "    print(words[1])\n",
    "    count = count+1\n",
    "print (\"There were\", count, \"lines in the file with From as the first word\")"
   ]
  },
  {
   "cell_type": "markdown",
   "metadata": {},
   "source": [
    "In this program,fhand() is using to open the text file (mbox-short.txt).For and if statement is using to check the given condition and execute them and read through the email data (“mbox-short.txt”) and find line that starts with “From”,split the line into words using the split function.Then print out the second word for each From line and also count the number of From lines and print out a count at the end."
   ]
  },
  {
   "cell_type": "markdown",
   "metadata": {},
   "source": [
    "6.Write a program to read and write CSV files File Creation: Create MS Excel file (“student_marks.csv”) with 5 rows of student name, mark1, mark2, mark3, mark4. Use comma to separate each value in a row. File Display: Now, open your CSV file and display the file contents row by row (More information at: https://docs.python.org/3/library/csv.html). File Writing: Now, open (“student_marks.csv”) for writing. Ask user to enter name followed by 4 marks for one new student and write them onto the file."
   ]
  },
  {
   "cell_type": "code",
   "execution_count": null,
   "metadata": {},
   "outputs": [],
   "source": [
    "from csv import writer\n",
    "def append_list_as_row(file_name, list_of_elem):\n",
    "    \n",
    "    with open('student_marks.csv', 'a+', newline='') as write_obj:\n",
    "        \n",
    "        csv_writer = writer(write_obj)\n",
    "        \n",
    "        csv_writer.writerow(list_of_elem)\n",
    "\n",
    "row_contents = [kavi,90,78,97,77]\n",
    "row_contents1 = [kumar,88,67,50,98]\n",
    "row_contents2 = [maha,94,78,86,88]\n",
    "row_contents3 = [siva,95,87,89,76]\n",
    "row_contents4 = [hari,81,92,73,65]\n",
    "row_contents5 = [gaja,87,45,61,59]\n",
    "append_list_as_row('student_marks.csv', row_contents)\n",
    "append_list_as_row('student_marks.csv', row_contents1)\n",
    "append_list_as_row('student_marks.csv', row_contents2)\n",
    "append_list_as_row('student_marks.csv', row_contents3)\n",
    "append_list_as_row('student_marks.csv', row_contents4)\n",
    "append_list_as_row('student_marks.csv', row_contents5)"
   ]
  },
  {
   "cell_type": "code",
   "execution_count": 4,
   "metadata": {},
   "outputs": [
    {
     "name": "stdout",
     "output_type": "stream",
     "text": [
      "stud_name,mark1,mark2,mark3,mark4\n",
      "kavi,90,78,97,77\n",
      "kumar,88,67,50,98\n",
      "maha,94,78,86,88\n",
      "siva,95,87,89,76\n",
      "hari,81,92,73,65\n",
      "gaja,87,45,61,59\n"
     ]
    }
   ],
   "source": [
    "import csv\n",
    "with open('student_marks.csv',newline='')as csvfile:\n",
    "    reader=csv.reader(csvfile,delimiter=' ',quotechar='|')\n",
    "    for row in reader:\n",
    "        print(', '.join(row))"
   ]
  },
  {
   "cell_type": "markdown",
   "metadata": {},
   "source": [
    "In this program,we want to read and write CSV files by using MS Excel file,we want to create excel file named as “student_marks.csv” with 5 rows of student name, mark1, mark2, mark3, mark4 and we want to separate each row values using comma.Then open the CSV file and display the file contents in it and print is as output."
   ]
  }
 ],
 "metadata": {
  "kernelspec": {
   "display_name": "Python 3",
   "language": "python",
   "name": "python3"
  },
  "language_info": {
   "codemirror_mode": {
    "name": "ipython",
    "version": 3
   },
   "file_extension": ".py",
   "mimetype": "text/x-python",
   "name": "python",
   "nbconvert_exporter": "python",
   "pygments_lexer": "ipython3",
   "version": "3.8.5"
  }
 },
 "nbformat": 4,
 "nbformat_minor": 4
}
