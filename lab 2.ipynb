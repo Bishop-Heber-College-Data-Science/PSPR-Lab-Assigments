{
 "cells": [
  {
   "cell_type": "markdown",
   "metadata": {},
   "source": [
    "# 1-write a prgm to accepts numbers continuosly as long as the number is positive and print the sum of it"
   ]
  },
  {
   "cell_type": "code",
   "execution_count": 4,
   "metadata": {
    "scrolled": false
   },
   "outputs": [
    {
     "name": "stdout",
     "output_type": "stream",
     "text": [
      "enter the number  2\n",
      "enter the number  3\n",
      "enter the number  4\n",
      "enter the number  5\n",
      "enter the number  6\n",
      "enter the number  -6\n",
      "20\n"
     ]
    }
   ],
   "source": [
    "sum=0\n",
    "\n",
    "while True:\n",
    "    n=int(input(\"enter the number  \"))\n",
    "    if n<0:\n",
    "        break\n",
    "    sum += n   \n",
    "print(sum)"
   ]
  },
  {
   "cell_type": "markdown",
   "metadata": {},
   "source": [
    "# 2- write a program to take the values of two integer m and n from user . calculate the sum of even number between m and n "
   ]
  },
  {
   "cell_type": "code",
   "execution_count": 1,
   "metadata": {},
   "outputs": [
    {
     "name": "stdout",
     "output_type": "stream",
     "text": [
      "\n",
      "first number5\n",
      "second number10\n",
      "\n",
      "sum of m and n is   24\n",
      "\n",
      "do you want to quit  :60\n",
      "\n",
      "first number30\n",
      "second number15\n",
      "values of m should be less than value of n\n",
      "\n",
      "first number2\n",
      "second number20\n",
      "\n",
      "sum of m and n is   110\n",
      "\n",
      "do you want to quit  :q\n",
      "end\n"
     ]
    }
   ],
   "source": [
    "while True:\n",
    "            eve = 0\n",
    "            m=int(input(\"\\nfirst number \"))\n",
    "            n=int(input(\"second number \"))\n",
    "            if m<n:\n",
    "                for i in range(m,n+1):\n",
    "                    if i%2==0:\n",
    "                        eve += i   \n",
    "                print(\"\\nsum of m and n is  \",eve)\n",
    "                c = input(\"\\ndo you want to quit  :\")\n",
    "                if c =='q':\n",
    "                    break  \n",
    "            else:\n",
    "                print(\"\\nvalues of m should be less than value of n\")\n",
    "print(\"end\")               "
   ]
  },
  {
   "cell_type": "markdown",
   "metadata": {},
   "source": [
    "# 3- write a program to accept n from user and display its multiplication table "
   ]
  },
  {
   "cell_type": "code",
   "execution_count": 2,
   "metadata": {},
   "outputs": [
    {
     "name": "stdout",
     "output_type": "stream",
     "text": [
      "enter the number  :-5\n",
      "5  *  1  =  5 \n",
      "\n",
      "5  *  2  =  10 \n",
      "\n",
      "5  *  3  =  15 \n",
      "\n",
      "5  *  4  =  20 \n",
      "\n",
      "5  *  5  =  25 \n",
      "\n",
      "5  *  6  =  30 \n",
      "\n",
      "5  *  7  =  35 \n",
      "\n",
      "5  *  8  =  40 \n",
      "\n",
      "5  *  9  =  45 \n",
      "\n",
      "5  *  10  =  50 \n",
      "\n"
     ]
    }
   ],
   "source": [
    "n=int(input(\"enter the number  :-\"))\n",
    "for i in range(1,11):\n",
    "    mul=i*n\n",
    "    print(n,\" * \",i, \" = \",mul,'\\n')"
   ]
  },
  {
   "cell_type": "markdown",
   "metadata": {},
   "source": [
    "# 4-write a program that receives an integer and prints the sum of its digit "
   ]
  },
  {
   "cell_type": "code",
   "execution_count": 3,
   "metadata": {},
   "outputs": [
    {
     "name": "stdout",
     "output_type": "stream",
     "text": [
      "enter the number  -356\n",
      "\n",
      "sum of digits 14\n"
     ]
    }
   ],
   "source": [
    "n=int(input(\"enter the number  \"))\n",
    "sum=0\n",
    "if n<0:\n",
    "    n=n*(-1)\n",
    "while n>0:\n",
    "    rem=n%10\n",
    "    sum += rem\n",
    "    n=n//10\n",
    "print(\"\\nsum of digits\",sum)    "
   ]
  },
  {
   "cell_type": "markdown",
   "metadata": {},
   "source": [
    "# 5- write a program that reads numbers untill the user enters done , once done is entered , print out total , count , average of the number"
   ]
  },
  {
   "cell_type": "code",
   "execution_count": 2,
   "metadata": {},
   "outputs": [
    {
     "name": "stdout",
     "output_type": "stream",
     "text": [
      "Enter number:> 5\n",
      "Enter number:> 6\n",
      "Enter number:> 3\n",
      "Enter number:> kl\n",
      "not a number go ahead with integer\n",
      "\n",
      "Enter number:> 2\n",
      "Enter number:> 3\n",
      "Enter number:> done\n",
      "total:  19\n",
      "count:  5\n",
      "avg:   3.8\n",
      "end of while loop\n"
     ]
    }
   ],
   "source": [
    "total = 0\n",
    "count = 0\n",
    "\n",
    "while True:\n",
    "    try:\n",
    "        number = input('Enter number:> ')\n",
    "        if number==\"done\":\n",
    "            break  \n",
    "        num=int(number)\n",
    "        count += 1\n",
    "        total += num\n",
    "    except:              \n",
    "        print('not a number go ahead with integer\\n')\n",
    "        \n",
    "avg = total/count\n",
    "print('total: ', total)\n",
    "print('count: ', count)\n",
    "print('avg:  ',avg)\n",
    "\n",
    "print('end of while loop')"
   ]
  }
 ],
 "metadata": {
  "kernelspec": {
   "display_name": "Python 3",
   "language": "python",
   "name": "python3"
  },
  "language_info": {
   "codemirror_mode": {
    "name": "ipython",
    "version": 3
   },
   "file_extension": ".py",
   "mimetype": "text/x-python",
   "name": "python",
   "nbconvert_exporter": "python",
   "pygments_lexer": "ipython3",
   "version": "3.8.3"
  }
 },
 "nbformat": 4,
 "nbformat_minor": 4
}
