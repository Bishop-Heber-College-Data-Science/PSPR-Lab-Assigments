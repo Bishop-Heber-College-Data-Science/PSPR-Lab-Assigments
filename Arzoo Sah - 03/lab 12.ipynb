{
 "cells": [
  {
   "cell_type": "markdown",
   "metadata": {},
   "source": [
    "# Database Programming using sqlite3"
   ]
  },
  {
   "cell_type": "markdown",
   "metadata": {},
   "source": [
    "1. Perform CRUD operations on Student Table as outlined in the reference\n",
    "\n",
    "(https://medium.com/analytics-vidhya/programming-with-databases-in-python-using-sqlite-4cecbef51ab9)"
   ]
  },
  {
   "cell_type": "code",
   "execution_count": 1,
   "metadata": {},
   "outputs": [
    {
     "name": "stdout",
     "output_type": "stream",
     "text": [
      "opened successfully..!!!\n"
     ]
    }
   ],
   "source": [
    "import sqlite3\n",
    "conn = sqlite3.connect('my_database23.db')\n",
    "cursor = conn.cursor()\n",
    "print(\"opened successfully..!!!\")\n"
   ]
  },
  {
   "cell_type": "code",
   "execution_count": null,
   "metadata": {},
   "outputs": [],
   "source": [
    "conn.execute('''CREATE TABLE SCHOOL\n",
    "          (ID             INT PRIMARY KEY     NOT NULL,\n",
    "          NAME           TEXT    NOT NULL,\n",
    "          AGE            INT     NOT NULL,\n",
    "          ADDRESS        CHAR(50),\n",
    "          MARKS          INT);''')"
   ]
  },
  {
   "cell_type": "code",
   "execution_count": 6,
   "metadata": {},
   "outputs": [],
   "source": [
    "cursor.execute(\"INSERT INTO SCHOOL (ID,NAME,AGE,ADDRESS,MARKS) \\\n",
    "      VALUES (1, 'Rohan', 14, 'Delhi', 200)\");\n",
    "cursor.execute(\"INSERT INTO SCHOOL (ID,NAME,AGE,ADDRESS,MARKS) \\\n",
    "      VALUES (2, 'Allen', 14, 'Bangalore', 150 )\");\n",
    "cursor.execute(\"INSERT INTO SCHOOL (ID,NAME,AGE,ADDRESS,MARKS) \\\n",
    "      VALUES (3, 'Martha', 15, 'Hyderabad', 200 )\");\n",
    "cursor.execute(\"INSERT INTO SCHOOL (ID,NAME,AGE,ADDRESS,MARKS) \\\n",
    "      VALUES (4, 'Palak', 15, 'Kolkata', 650)\");\n",
    "conn.commit()"
   ]
  },
  {
   "cell_type": "code",
   "execution_count": 2,
   "metadata": {},
   "outputs": [
    {
     "name": "stdout",
     "output_type": "stream",
     "text": [
      "ID =  1\n",
      "NAME :  Rohan\n",
      "ADDRESS :  Delhi \n",
      "\n",
      "ID =  2\n",
      "NAME :  Allen\n",
      "ADDRESS :  Bangalore \n",
      "\n",
      "ID =  3\n",
      "NAME :  Martha\n",
      "ADDRESS :  Hyderabad \n",
      "\n",
      "ID =  4\n",
      "NAME :  Palak\n",
      "ADDRESS :  Kolkata \n",
      "\n"
     ]
    }
   ],
   "source": [
    "for row in cursor.execute(\"SELECT id,name,address from school\"):\n",
    "    print(\"ID = \",row[0])\n",
    "    print(\"NAME : \",row[1])\n",
    "    print(\"ADDRESS : \",row[2],\"\\n\")"
   ]
  },
  {
   "cell_type": "code",
   "execution_count": 7,
   "metadata": {},
   "outputs": [
    {
     "name": "stdout",
     "output_type": "stream",
     "text": [
      "1\n",
      "Rohan\n",
      "14\n",
      "Delhi\n",
      "200\n",
      "\n",
      "\n",
      "2\n",
      "Allen\n",
      "14\n",
      "Bangalore\n",
      "150\n",
      "\n",
      "\n",
      "3\n",
      "Martha\n",
      "13\n",
      "Hyderabad\n",
      "200\n",
      "\n",
      "\n",
      "4\n",
      "Palak\n",
      "13\n",
      "Kolkata\n",
      "650\n",
      "\n",
      "\n"
     ]
    }
   ],
   "source": [
    "conn.execute(\"UPDATE SCHOOL SET AGE = 13  WHERE AGE = 15 \")\n",
    "\n",
    "for i in cursor.execute(\"SELECT * FROM SCHOOL \"):\n",
    "    for j in i:\n",
    "        print(j)\n",
    "    print('\\n')    "
   ]
  },
  {
   "cell_type": "code",
   "execution_count": 9,
   "metadata": {},
   "outputs": [
    {
     "name": "stdout",
     "output_type": "stream",
     "text": [
      "1\n",
      "Rohan\n",
      "14\n",
      "Delhi\n",
      "200\n",
      "\n",
      "\n",
      "2\n",
      "Allen\n",
      "14\n",
      "Bangalore\n",
      "150\n",
      "\n",
      "\n",
      "4\n",
      "Palak\n",
      "13\n",
      "Kolkata\n",
      "650\n",
      "\n",
      "\n"
     ]
    }
   ],
   "source": [
    "conn.execute(\"DELETE FROM SCHOOL WHERE NAME = 'Martha' \")\n",
    "\n",
    "for i in cursor.execute(\"SELECT * FROM SCHOOL \"):\n",
    "    for j in i:\n",
    "        print(j)\n",
    "    print('\\n')    "
   ]
  },
  {
   "cell_type": "markdown",
   "metadata": {},
   "source": [
    "2. Open the table MyRestaurants.db that you have created for NoSQL course"
   ]
  },
  {
   "cell_type": "code",
   "execution_count": 32,
   "metadata": {},
   "outputs": [
    {
     "name": "stdout",
     "output_type": "stream",
     "text": [
      "opened successfully..!!!\n"
     ]
    }
   ],
   "source": [
    "import sqlite3\n",
    "food = sqlite3.connect('my_database23.db')\n",
    "cursor = food.cursor()\n",
    "print(\"opened successfully..!!!\")"
   ]
  },
  {
   "cell_type": "code",
   "execution_count": 7,
   "metadata": {},
   "outputs": [
    {
     "data": {
      "text/plain": [
       "<sqlite3.Cursor at 0x24a5c1133b0>"
      ]
     },
     "execution_count": 7,
     "metadata": {},
     "output_type": "execute_result"
    }
   ],
   "source": [
    "food.execute('''CREATE TABLE MYRESTAURANTS\n",
    "         (NAME             TEXT    NOT NULL,\n",
    "          FOODTYPE         TEXT,\n",
    "          DISTANCE         INT,\n",
    "          LASTVISIT        TEXT,\n",
    "          ILIKE            INT);''')"
   ]
  },
  {
   "cell_type": "code",
   "execution_count": 11,
   "metadata": {},
   "outputs": [],
   "source": [
    "food = sqlite3.connect('my_database23.db')\n",
    "cursor = food.cursor()\n",
    "cursor.execute(\"INSERT INTO MYRESTAURANTS (NAME,FOODTYPE,DISTANCE,LASTVISIT,ILIKE) \\\n",
    "      VALUES ('appleleaf', 'nonveg', 15, '01-jan-2020',1)\");\n",
    "cursor.execute(\"INSERT INTO MYRESTAURANTS (NAME,FOODTYPE,DISTANCE,LASTVISIT,ILIKE) \\\n",
    "      VALUES ('sowmyas','veg',18,'20-mar-2020',1 )\");\n",
    "cursor.execute(\"INSERT INTO MYRESTAURANTS (NAME,FOODTYPE,DISTANCE,LASTVISIT,ILIKE) \\\n",
    "      VALUES ('thinappa','nonveg',25,'20-nov-2019',0 )\");\n",
    "cursor.execute(\"INSERT INTO MYRESTAURANTS (NAME,FOODTYPE,DISTANCE,LASTVISIT,ILIKE) \\\n",
    "      VALUES ('sribhavan','veg',18,'20-dec-2019',0)\");\n",
    "cursor.execute(\"INSERT INTO MYRESTAURANTS (NAME,FOODTYPE,DISTANCE,LASTVISIT,ILIKE) \\\n",
    "      VALUES('chinaworld','chinese',14,'05-mar-2020',1)\");\n",
    "cursor.execute(\"INSERT INTO MYRESTAURANTS (NAME,FOODTYPE,DISTANCE,LASTVISIT,ILIKE) \\\n",
    "      VALUES('littlechina','chinese',30,'10-mar-2020',0)\");\n",
    "cursor.execute(\"INSERT INTO MYRESTAURANTS (NAME,FOODTYPE,DISTANCE,LASTVISIT,ILIKE) \\\n",
    "      VALUES('munivilas','nonveg',20,'05-dec-2019',' ')\");\n",
    "cursor.execute(\"INSERT INTO MYRESTAURANTS (NAME,FOODTYPE,DISTANCE,LASTVISIT,ILIKE) \\\n",
    "      VALUES('dosacorner','nonveg',10,'05-feb-2020',1)\");\n",
    "food.commit()"
   ]
  },
  {
   "cell_type": "markdown",
   "metadata": {},
   "source": [
    "3. Write a SQL query that returns all restaurants in your table MyRestaurants.db."
   ]
  },
  {
   "cell_type": "code",
   "execution_count": 29,
   "metadata": {},
   "outputs": [
    {
     "name": "stdout",
     "output_type": "stream",
     "text": [
      "appleleaf\n",
      "nonveg\n",
      "15\n",
      "01-jan-2020\n",
      "1\n",
      "\n",
      "\n",
      "sowmyas\n",
      "veg\n",
      "18\n",
      "20-mar-2020\n",
      "1\n",
      "\n",
      "\n",
      "thinappa\n",
      "nonveg\n",
      "25\n",
      "20-nov-2019\n",
      "0\n",
      "\n",
      "\n",
      "sribhavan\n",
      "veg\n",
      "18\n",
      "20-dec-2019\n",
      "0\n",
      "\n",
      "\n",
      "chinaworld\n",
      "chinese\n",
      "14\n",
      "05-mar-2020\n",
      "1\n",
      "\n",
      "\n",
      "littlechina\n",
      "chinese\n",
      "30\n",
      "10-mar-2020\n",
      "0\n",
      "\n",
      "\n",
      "munivilas\n",
      "nonveg\n",
      "20\n",
      "05-dec-2019\n",
      " \n",
      "\n",
      "\n",
      "dosacorner\n",
      "nonveg\n",
      "10\n",
      "05-feb-2020\n",
      "1\n",
      "\n",
      "\n"
     ]
    }
   ],
   "source": [
    "for i in cursor.execute(\"SELECT * FROM MYRESTAURANTS\"):\n",
    "    for j in i:\n",
    "        print(j)\n",
    "    print(\"\\n\")"
   ]
  },
  {
   "cell_type": "markdown",
   "metadata": {},
   "source": [
    "4. Write a SQL query that returns the names of restaurants in descending order that\n",
    "makes Chinese foods."
   ]
  },
  {
   "cell_type": "code",
   "execution_count": 39,
   "metadata": {},
   "outputs": [
    {
     "name": "stdout",
     "output_type": "stream",
     "text": [
      "littlechina\n",
      "chinaworld\n"
     ]
    }
   ],
   "source": [
    "for i in cursor.execute(\"SELECT NAME FROM MYRESTAURANTS WHERE FOODTYPE='chinese' ORDER BY NAME DESC\"):\n",
    "    print(i[0])"
   ]
  }
 ],
 "metadata": {
  "kernelspec": {
   "display_name": "Python 3",
   "language": "python",
   "name": "python3"
  },
  "language_info": {
   "codemirror_mode": {
    "name": "ipython",
    "version": 3
   },
   "file_extension": ".py",
   "mimetype": "text/x-python",
   "name": "python",
   "nbconvert_exporter": "python",
   "pygments_lexer": "ipython3",
   "version": "3.8.3"
  }
 },
 "nbformat": 4,
 "nbformat_minor": 4
}
