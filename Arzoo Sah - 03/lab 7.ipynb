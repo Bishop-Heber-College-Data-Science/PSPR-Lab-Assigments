{
 "cells": [
  {
   "cell_type": "markdown",
   "metadata": {},
   "source": [
    "# 1-Write a program for Fruit Inventory Management."
   ]
  },
  {
   "cell_type": "markdown",
   "metadata": {},
   "source": [
    "1. Create a dictionary fruits with fruit name as key and quantity available as values. There are 20 apples, 50 bananas, 100 oranges. Then, print outputs for the following queries."
   ]
  },
  {
   "cell_type": "code",
   "execution_count": 48,
   "metadata": {},
   "outputs": [
    {
     "data": {
      "text/plain": [
       "{'apples': 20, 'banana': 50, 'oranges': 100}"
      ]
     },
     "execution_count": 48,
     "metadata": {},
     "output_type": "execute_result"
    }
   ],
   "source": [
    "fruits = {\"apples\":20,\"banana\":50,\"oranges\":100}\n",
    "fruits"
   ]
  },
  {
   "cell_type": "markdown",
   "metadata": {},
   "source": [
    "2. show the entire dict fruits as (apple->20 , banana->50)"
   ]
  },
  {
   "cell_type": "code",
   "execution_count": 30,
   "metadata": {},
   "outputs": [
    {
     "name": "stdout",
     "output_type": "stream",
     "text": [
      "apples -> 20 banana -> 50 oranges -> 100 "
     ]
    }
   ],
   "source": [
    "for name in fruits.keys():\n",
    "    print(name , \"->\" , fruits[name],end=\" \")"
   ]
  },
  {
   "cell_type": "markdown",
   "metadata": {},
   "source": [
    "3. how many banana are there ?"
   ]
  },
  {
   "cell_type": "code",
   "execution_count": 31,
   "metadata": {},
   "outputs": [
    {
     "data": {
      "text/plain": [
       "50"
      ]
     },
     "execution_count": 31,
     "metadata": {},
     "output_type": "execute_result"
    }
   ],
   "source": [
    "fruits[\"banana\"]"
   ]
  },
  {
   "cell_type": "markdown",
   "metadata": {},
   "source": [
    "4. how many items in the dict?"
   ]
  },
  {
   "cell_type": "code",
   "execution_count": 33,
   "metadata": {},
   "outputs": [
    {
     "data": {
      "text/plain": [
       "3"
      ]
     },
     "execution_count": 33,
     "metadata": {},
     "output_type": "execute_result"
    }
   ],
   "source": [
    "len(fruits)"
   ]
  },
  {
   "cell_type": "markdown",
   "metadata": {},
   "source": [
    "5. does graphs available in the dict?"
   ]
  },
  {
   "cell_type": "code",
   "execution_count": 34,
   "metadata": {},
   "outputs": [
    {
     "name": "stdout",
     "output_type": "stream",
     "text": [
      "no\n"
     ]
    }
   ],
   "source": [
    "if \"graphs\" in fruits.keys():\n",
    "    print(\"yes\")\n",
    "else:\n",
    "    print(\"no\")"
   ]
  },
  {
   "cell_type": "markdown",
   "metadata": {},
   "source": [
    "6. Does pears exists in the dictionary?. If so, return its quantity, otherwise, add 10 pears to dictionary.¶"
   ]
  },
  {
   "cell_type": "code",
   "execution_count": 49,
   "metadata": {},
   "outputs": [
    {
     "data": {
      "text/plain": [
       "{'apples': 20, 'banana': 50, 'oranges': 100, 'pears': 10}"
      ]
     },
     "execution_count": 49,
     "metadata": {},
     "output_type": "execute_result"
    }
   ],
   "source": [
    "if \"pears\" in fruits.keys():\n",
    "    print(fruits[\"pears\"])\n",
    "else:\n",
    "    fruits[\"pears\"] = 10\n",
    "fruits    "
   ]
  },
  {
   "cell_type": "markdown",
   "metadata": {},
   "source": [
    "7. show all fruit names in ascending order "
   ]
  },
  {
   "cell_type": "code",
   "execution_count": 36,
   "metadata": {},
   "outputs": [
    {
     "data": {
      "text/plain": [
       "['apples', 'banana', 'oranges', 'pears']"
      ]
     },
     "execution_count": 36,
     "metadata": {},
     "output_type": "execute_result"
    }
   ],
   "source": [
    "sorted(fruits.keys())"
   ]
  },
  {
   "cell_type": "markdown",
   "metadata": {},
   "source": [
    "8. show all fruits in descending order of qualities"
   ]
  },
  {
   "cell_type": "code",
   "execution_count": 50,
   "metadata": {},
   "outputs": [
    {
     "name": "stdout",
     "output_type": "stream",
     "text": [
      "['pears', 'oranges', 'banana', 'apples']\n"
     ]
    }
   ],
   "source": [
    "qual=sorted(fruits.keys(),reverse=True)\n",
    "print(qual)"
   ]
  },
  {
   "cell_type": "markdown",
   "metadata": {},
   "source": [
    "9. remove pears from dict"
   ]
  },
  {
   "cell_type": "code",
   "execution_count": 40,
   "metadata": {},
   "outputs": [
    {
     "data": {
      "text/plain": [
       "{'apples': 20, 'banana': 50, 'oranges': 100}"
      ]
     },
     "execution_count": 40,
     "metadata": {},
     "output_type": "execute_result"
    }
   ],
   "source": [
    "del fruits[\"pears\"]\n",
    "fruits"
   ]
  },
  {
   "cell_type": "markdown",
   "metadata": {},
   "source": [
    "10. develop function SHOW() to print fruit name and quantity (.format())"
   ]
  },
  {
   "cell_type": "code",
   "execution_count": 41,
   "metadata": {},
   "outputs": [
    {
     "name": "stdout",
     "output_type": "stream",
     "text": [
      "('apples', 20) ('banana', 50) ('oranges', 100)\n"
     ]
    }
   ],
   "source": [
    "def show():\n",
    "    print(\"{} {} {}\".format(*fruits.items()))\n",
    "show()"
   ]
  },
  {
   "cell_type": "markdown",
   "metadata": {},
   "source": [
    "11. develop ADD_QUANTITY(NAME,QUANTITY) that receives fruit name and quantity as input and increase the quantity of the fruit . then display the current inventory by calling SHOW()."
   ]
  },
  {
   "cell_type": "code",
   "execution_count": 42,
   "metadata": {},
   "outputs": [],
   "source": [
    "def add_fruit(fruits,name,quantity):\n",
    "    fruits[name]=fruits.get(name,0)+quantity"
   ]
  },
  {
   "cell_type": "markdown",
   "metadata": {},
   "source": [
    "12. Now , add 40 apples to inventory by calling ADD_FRUIT(NAME,QUANTITY)"
   ]
  },
  {
   "cell_type": "code",
   "execution_count": 43,
   "metadata": {},
   "outputs": [
    {
     "name": "stdout",
     "output_type": "stream",
     "text": [
      "{'apples': 60, 'bananas': 50, 'oranges': 100}\n"
     ]
    }
   ],
   "source": [
    "fruits={\"apples\":20,\"bananas\":50,\"oranges\":100}\n",
    "add_fruit(fruits,'apples',40)\n",
    "print(fruits)"
   ]
  },
  {
   "cell_type": "markdown",
   "metadata": {},
   "source": [
    "13. now , add 100 banana to inventory by calling ADD_FRUIT(NAME , QUANTITY)"
   ]
  },
  {
   "cell_type": "code",
   "execution_count": 44,
   "metadata": {},
   "outputs": [
    {
     "name": "stdout",
     "output_type": "stream",
     "text": [
      "{'apples': 20, 'bananas': 150, 'oranges': 100}\n"
     ]
    }
   ],
   "source": [
    "fruits={\"apples\":20,\"bananas\":50,\"oranges\":100}\n",
    "add_fruit(fruits,\"bananas\",100)\n",
    "print(fruits)"
   ]
  },
  {
   "cell_type": "markdown",
   "metadata": {},
   "source": [
    "14. now , show the current inventory by calling SHOW()"
   ]
  },
  {
   "cell_type": "code",
   "execution_count": 45,
   "metadata": {},
   "outputs": [
    {
     "name": "stdout",
     "output_type": "stream",
     "text": [
      "('apples', 20) ('bananas', 150) ('oranges', 100)\n"
     ]
    }
   ],
   "source": [
    "show()"
   ]
  },
  {
   "cell_type": "markdown",
   "metadata": {},
   "source": [
    "15. write the inventory fruits onto a file . (use PICKLE for file )"
   ]
  },
  {
   "cell_type": "code",
   "execution_count": 46,
   "metadata": {},
   "outputs": [
    {
     "name": "stdout",
     "output_type": "stream",
     "text": [
      "{'apple': 300, 'mango': 87, 'banana': 320}\n"
     ]
    }
   ],
   "source": [
    "import pickle\n",
    "new_inventory={\"apple\":300,\"mango\":87,\"banana\":320}\n",
    "# Write the dictionary to the pickle file\n",
    "file = open(\"fruits_inventory.p\", \"wb\")\n",
    "pickle.dump(new_inventory, file)\n",
    "print(new_inventory)"
   ]
  },
  {
   "cell_type": "markdown",
   "metadata": {},
   "source": [
    "16. now , open pickle file and display the inventory"
   ]
  },
  {
   "cell_type": "code",
   "execution_count": 47,
   "metadata": {},
   "outputs": [
    {
     "name": "stdout",
     "output_type": "stream",
     "text": [
      "{'apple': 300, 'mango': 87, 'banana': 320}\n"
     ]
    }
   ],
   "source": [
    "file = open(\"fruits_inventory.p\",\"rb\")\n",
    "dict2 = pickle.load(file)\n",
    "file.close()\n",
    "print(new_inventory)"
   ]
  },
  {
   "cell_type": "markdown",
   "metadata": {},
   "source": [
    "# 2-Write a program for Telephone Directory Management\n",
    "1. Create an empty dictionary called customers, where name is a key and contacts is a list of contacts such as phoneno and email ID for each customer.\n",
    "2. Ask user to enter name and his contacts for N customers. Add them to dictionary customers. Stop reading when user types “done”"
   ]
  },
  {
   "cell_type": "code",
   "execution_count": 14,
   "metadata": {},
   "outputs": [
    {
     "data": {
      "text/plain": [
       "{}"
      ]
     },
     "execution_count": 14,
     "metadata": {},
     "output_type": "execute_result"
    }
   ],
   "source": [
    "customers={}\n",
    "customers"
   ]
  },
  {
   "cell_type": "code",
   "execution_count": 15,
   "metadata": {},
   "outputs": [
    {
     "name": "stdout",
     "output_type": "stream",
     "text": [
      "enter name  kirti\n",
      "phone no.423679421\n",
      "enter email-IDkirtisanon09@yahoo.com\n",
      "enter name  bhoomi\n",
      "phone no.775634982\n",
      "enter email-IDbhoomipedkar391@yahoo.com\n",
      "enter name  yammi\n",
      "phone no.9856342867\n",
      "enter email-IDyammigatm75@yahoo.com\n",
      "enter name  done\n",
      "kirti : (423679421, 'kirtisanon09@yahoo.com')\n",
      "bhoomi : (775634982, 'bhoomipedkar391@yahoo.com')\n",
      "yammi : (9856342867, 'yammigatm75@yahoo.com')\n"
     ]
    }
   ],
   "source": [
    "while True:\n",
    "    name = str(input(\"enter name  \"))\n",
    "    if name == 'done':\n",
    "        break\n",
    "    cont = int(input(\"phone no.\"))\n",
    "    email = input(\"enter email-ID\")\n",
    "    details = cont , email\n",
    "    customers[name] = details  \n",
    "for name,details in customers.items():\n",
    "    print(name ,\":\",details)"
   ]
  },
  {
   "cell_type": "code",
   "execution_count": 16,
   "metadata": {},
   "outputs": [
    {
     "data": {
      "text/plain": [
       "{'kirti': (423679421, 'kirtisanon09@yahoo.com'),\n",
       " 'bhoomi': (775634982, 'bhoomipedkar391@yahoo.com'),\n",
       " 'yammi': (9856342867, 'yammigatm75@yahoo.com')}"
      ]
     },
     "execution_count": 16,
     "metadata": {},
     "output_type": "execute_result"
    }
   ],
   "source": [
    "customers"
   ]
  },
  {
   "cell_type": "markdown",
   "metadata": {},
   "source": [
    "3. show the contact for customers \"rex\" if not exists then print \"contact doesn't exist \" \n",
    "4. add a new customer with name \"rex\" with phone number and email"
   ]
  },
  {
   "cell_type": "code",
   "execution_count": 17,
   "metadata": {},
   "outputs": [
    {
     "name": "stdout",
     "output_type": "stream",
     "text": [
      "the contact doesn't exsit , please create new \n"
     ]
    },
    {
     "data": {
      "text/plain": [
       "{'kirti': (423679421, 'kirtisanon09@yahoo.com'),\n",
       " 'bhoomi': (775634982, 'bhoomipedkar391@yahoo.com'),\n",
       " 'yammi': (9856342867, 'yammigatm75@yahoo.com'),\n",
       " 'rex': (4524796131, 'rajkumar@bhc.edu.in')}"
      ]
     },
     "execution_count": 17,
     "metadata": {},
     "output_type": "execute_result"
    }
   ],
   "source": [
    "if 'rex' in customers:\n",
    "    coustomers\n",
    "else:\n",
    "    print(\"the contact doesn't exsit , please create new \")\n",
    "    customers['rex'] = (4524796131,'rajkumar@bhc.edu.in')\n",
    "customers    "
   ]
  },
  {
   "cell_type": "markdown",
   "metadata": {},
   "source": [
    "5. show both name and contact of all customers (by using items() method )"
   ]
  },
  {
   "cell_type": "code",
   "execution_count": 18,
   "metadata": {},
   "outputs": [
    {
     "name": "stdout",
     "output_type": "stream",
     "text": [
      "name kirti : contacts (423679421, 'kirtisanon09@yahoo.com')\n",
      "name bhoomi : contacts (775634982, 'bhoomipedkar391@yahoo.com')\n",
      "name yammi : contacts (9856342867, 'yammigatm75@yahoo.com')\n",
      "name rex : contacts (4524796131, 'rajkumar@bhc.edu.in')\n"
     ]
    }
   ],
   "source": [
    "for name , details in customers.items():\n",
    "    print(\"name\",name,\":\",\"contacts\",details)"
   ]
  },
  {
   "cell_type": "markdown",
   "metadata": {},
   "source": [
    "6. show contact details of all customers "
   ]
  },
  {
   "cell_type": "code",
   "execution_count": 19,
   "metadata": {},
   "outputs": [
    {
     "name": "stdout",
     "output_type": "stream",
     "text": [
      "(423679421, 'kirtisanon09@yahoo.com')\n",
      "(775634982, 'bhoomipedkar391@yahoo.com')\n",
      "(9856342867, 'yammigatm75@yahoo.com')\n",
      "(4524796131, 'rajkumar@bhc.edu.in')\n"
     ]
    }
   ],
   "source": [
    "for name in customers:\n",
    "    print(customers[name])"
   ]
  },
  {
   "cell_type": "markdown",
   "metadata": {},
   "source": [
    "7. show all customer name in aplhabetical order"
   ]
  },
  {
   "cell_type": "code",
   "execution_count": 20,
   "metadata": {},
   "outputs": [
    {
     "data": {
      "text/plain": [
       "['bhoomi', 'kirti', 'rex', 'yammi']"
      ]
     },
     "execution_count": 20,
     "metadata": {},
     "output_type": "execute_result"
    }
   ],
   "source": [
    "sorted(customers.keys())"
   ]
  },
  {
   "cell_type": "markdown",
   "metadata": {},
   "source": [
    "8. how many customers in dict"
   ]
  },
  {
   "cell_type": "code",
   "execution_count": 21,
   "metadata": {},
   "outputs": [
    {
     "data": {
      "text/plain": [
       "4"
      ]
     },
     "execution_count": 21,
     "metadata": {},
     "output_type": "execute_result"
    }
   ],
   "source": [
    "len(customers.keys())"
   ]
  },
  {
   "cell_type": "markdown",
   "metadata": {},
   "source": [
    "9. remove customer \"rex\" from dict customers"
   ]
  },
  {
   "cell_type": "code",
   "execution_count": 22,
   "metadata": {},
   "outputs": [
    {
     "data": {
      "text/plain": [
       "{'kirti': (423679421, 'kirtisanon09@yahoo.com'),\n",
       " 'bhoomi': (775634982, 'bhoomipedkar391@yahoo.com'),\n",
       " 'yammi': (9856342867, 'yammigatm75@yahoo.com')}"
      ]
     },
     "execution_count": 22,
     "metadata": {},
     "output_type": "execute_result"
    }
   ],
   "source": [
    "del customers['rex']\n",
    "customers"
   ]
  }
 ],
 "metadata": {
  "kernelspec": {
   "display_name": "Python 3",
   "language": "python",
   "name": "python3"
  },
  "language_info": {
   "codemirror_mode": {
    "name": "ipython",
    "version": 3
   },
   "file_extension": ".py",
   "mimetype": "text/x-python",
   "name": "python",
   "nbconvert_exporter": "python",
   "pygments_lexer": "ipython3",
   "version": "3.8.3"
  }
 },
 "nbformat": 4,
 "nbformat_minor": 4
}
