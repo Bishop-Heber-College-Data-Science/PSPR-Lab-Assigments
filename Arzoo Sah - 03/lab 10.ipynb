{
 "cells": [
  {
   "cell_type": "markdown",
   "metadata": {},
   "source": [
    "1. Write a program to implement MAP function. Find the square root of a list of\n",
    "numbers [1, 2, 4, 6] using map and sqrt functions. Check the answer against your user defined\n",
    "function mymap()."
   ]
  },
  {
   "cell_type": "code",
   "execution_count": 9,
   "metadata": {},
   "outputs": [
    {
     "name": "stdout",
     "output_type": "stream",
     "text": [
      "[1.0, 1.4142135623730951, 2.0, 2.449489742783178]\n"
     ]
    },
    {
     "data": {
      "text/plain": [
       "[1.0, 1.4142135623730951, 2.0, 2.449489742783178]"
      ]
     },
     "execution_count": 9,
     "metadata": {},
     "output_type": "execute_result"
    }
   ],
   "source": [
    "from math import sqrt\n",
    "lst=[1,2,4,6]\n",
    "map_object=map(sqrt,lst)\n",
    "print(list(map_object))\n",
    "\n",
    "\n",
    "def mymap(f, seq):\n",
    "    result = []\n",
    "    for elt in seq:\n",
    "        result.append(f(elt))\n",
    "    return result\n",
    "mymap(sqrt,lst)"
   ]
  },
  {
   "cell_type": "markdown",
   "metadata": {},
   "source": [
    "2. Write a program to implement FILTER function. Filter all upper case letters in a list\n",
    "['x', 'Y', '2', '3', 'Z', ‘b’] using filter function. Check the answer against your user define function\n",
    "myfilter()."
   ]
  },
  {
   "cell_type": "code",
   "execution_count": 2,
   "metadata": {},
   "outputs": [
    {
     "name": "stdout",
     "output_type": "stream",
     "text": [
      "['Y', 'Z']\n"
     ]
    },
    {
     "data": {
      "text/plain": [
       "['Y', 'Z']"
      ]
     },
     "execution_count": 2,
     "metadata": {},
     "output_type": "execute_result"
    }
   ],
   "source": [
    "filter_object=filter(str.isupper,['x', 'Y', '2', '3', 'Z', 'b'])\n",
    "print(list(filter_object))\n",
    "\n",
    "def myfilter(f, seq):\n",
    "    result = []\n",
    "    for elt in seq:\n",
    "        if f(elt):\n",
    "            result.append(elt)\n",
    "    return result\n",
    "myfilter(str.isupper,['x', 'Y', '2', '3', 'Z', 'b'])"
   ]
  },
  {
   "cell_type": "markdown",
   "metadata": {},
   "source": [
    "3.Write a program to create a lambda function that takes two characters and\n",
    "concatenates them. Now, apply this function inside REDUCE function that will reduce the list of\n",
    "characters [‘a’, ‘b’, ‘c’, d’] with the intial value ‘x’."
   ]
  },
  {
   "cell_type": "code",
   "execution_count": 26,
   "metadata": {},
   "outputs": [
    {
     "data": {
      "text/plain": [
       "'xabcd'"
      ]
     },
     "execution_count": 26,
     "metadata": {},
     "output_type": "execute_result"
    }
   ],
   "source": [
    "from functools import reduce\n",
    "(lambda x,y:x+y)('a','b')\n",
    "reduce (lambda x,y:x+y,['a','b','c','d'],'x')"
   ]
  },
  {
   "cell_type": "markdown",
   "metadata": {},
   "source": [
    "4. write a program , which returns a list with 2 tuples . each tuple consists of an order number , the product of the price per items and the quantity . the product should be decrease by 10 if value of order is less than 100 "
   ]
  },
  {
   "cell_type": "code",
   "execution_count": 18,
   "metadata": {},
   "outputs": [
    {
     "name": "stdout",
     "output_type": "stream",
     "text": [
      "[[34587, 'learning python , mark lutz', 4, 40.95], [98762, 'programming python , mark lutz', 5, 56.8], [77226, 'head first python , paul barry', 3, 32.95], [88112, 'einfuhrung in python , bernd klein', 3, 24.99]] "
     ]
    }
   ],
   "source": [
    "tab = [[34587,'learning python , mark lutz',4,40.95],[98762,'programming python , mark lutz',5,56.80],[77226,'head first python , paul barry',3,32.95],[88112,'einfuhrung in python , bernd klein',3,24.99]]\n",
    "print(tab)"
   ]
  },
  {
   "cell_type": "code",
   "execution_count": 42,
   "metadata": {},
   "outputs": [
    {
     "name": "stdout",
     "output_type": "stream",
     "text": [
      "[(34587, 98762, 77226, 88112), (163.8, 284.0, 88.85, 64.97)]\n"
     ]
    }
   ],
   "source": [
    "prg = []\n",
    "prg1 = []\n",
    "final = []\n",
    "nprg = []\n",
    "for i in range(4):\n",
    "    j=tab[i][2]*tab[i][3]\n",
    "    if j < 100:\n",
    "        j = j - 10\n",
    "        nprg.append(round(j,2))\n",
    "    else:\n",
    "        nprg.append(round(j,2))\n",
    "    prg1.append(tab[i][0])   \n",
    "t1=tuple(prg1)\n",
    "t2=tuple(nprg)\n",
    "final.append(t1)\n",
    "final.append(t2)\n",
    "print(final)"
   ]
  }
 ],
 "metadata": {
  "kernelspec": {
   "display_name": "Python 3",
   "language": "python",
   "name": "python3"
  },
  "language_info": {
   "codemirror_mode": {
    "name": "ipython",
    "version": 3
   },
   "file_extension": ".py",
   "mimetype": "text/x-python",
   "name": "python",
   "nbconvert_exporter": "python",
   "pygments_lexer": "ipython3",
   "version": "3.8.3"
  }
 },
 "nbformat": 4,
 "nbformat_minor": 2
}
