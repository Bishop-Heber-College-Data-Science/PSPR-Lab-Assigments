{
 "cells": [
  {
   "cell_type": "markdown",
   "metadata": {},
   "source": [
    "# 1- Write a function FIND_AVERAGE(STUDENT) that takes student tuple as input and print student rollno , name ,marks and average marks"
   ]
  },
  {
   "cell_type": "code",
   "execution_count": null,
   "metadata": {},
   "outputs": [],
   "source": [
    "def find_avgerage(stud):\n",
    "        rollno,name,marks=stud\n",
    "        total=0\n",
    "        for j in marks:\n",
    "            total += j\n",
    "        avg=total/len(marks)     \n",
    "        print(\"roll no:\",rollno,\" name:\",name,\"  average:\",avg)"
   ]
  },
  {
   "cell_type": "code",
   "execution_count": null,
   "metadata": {},
   "outputs": [],
   "source": [
    "student=(32,\"yash\",(29,80,74))\n",
    "find_avgerage(student)"
   ]
  },
  {
   "cell_type": "markdown",
   "metadata": {},
   "source": [
    "#explaination of prgm 1\n",
    "#define a function with parameter FIND_AVGERAGE(STUD)\n",
    "#unpack tuple \"stud\" in rollno,name,marks\n",
    "#decalre value of total as 0\n",
    "#use for loop j in marks then add all marks\n",
    "#come out of loop then avg=total/len(marks)\n",
    "#diplay rollno , name , average\n",
    " \n",
    "#in main function call FIND_AVERAGE(student) "
   ]
  },
  {
   "cell_type": "markdown",
   "metadata": {},
   "source": [
    "# 2-Write a weight management prgm that prompts the users to enter in 7 days of body weight as float number store them in list .\n",
    "#display first day , last day , 4th day ,heighest , lowest and average weights\n",
    "#if average weight < lowest weight then print \" your weight management is excellent \"\n",
    "#else print \" your weight management is not good . please take care of diet \"\n"
   ]
  },
  {
   "cell_type": "code",
   "execution_count": null,
   "metadata": {},
   "outputs": [],
   "source": [
    "print(\"enter weight of 7 days \")\n",
    "lis_wgt=[]\n",
    "for i in range(7):\n",
    "    daw=float(input())\n",
    "    lis_wgt.append(daw)\n",
    "print(lis_wgt)       \n",
    "print(\"first day weight \",lis_wgt[0])\n",
    "print(\"last day weight \",lis_wgt[-1])\n",
    "print(\"4th day weight \",lis_wgt[3])\n",
    "print(\"highest weight \",max(lis_wgt))\n",
    "low=min(lis_wgt)\n",
    "print(\"lowest weight \",min(lis_wgt))\n",
    "avg = round(sum(lis_wgt)/len(lis_wgt))\n",
    "print(\"average weight \",avg)\n",
    "if avg < low :\n",
    "    print(\"the weight management is excellent \")\n",
    "else:\n",
    "    print(\"the weight management is not good.please take care of diet \")"
   ]
  },
  {
   "cell_type": "markdown",
   "metadata": {},
   "source": [
    "#explaination of prgm3\n",
    "#decalre a empty list by name lis_wgt\n",
    "#use for loop i in range of 7 (to enter the weights of 7 days )\n",
    "#daw is to weight of each day takes a float value from user then append each value in lis_wgt\n",
    "#print all 7 weights in list display lis_wgt\n",
    "#display first day, last day, 4th day, highest , lowest ,average weight\n",
    "#low=min(lis_wgt) gives minimum weight in the lis_wgt\n",
    "#avg=round(sum(lis_wgt)/len(lis_wgt)) gives average of the 7 day weights \n",
    "#if avg< low then print\"weight management is excellent\"\n",
    "#esle print \"weight management is not good pleasw take care of diet\""
   ]
  },
  {
   "cell_type": "markdown",
   "metadata": {},
   "source": [
    "# 3-Write a function LASTN(LST,N) takes a list of integer and n and returns n largest number in the given list."
   ]
  },
  {
   "cell_type": "code",
   "execution_count": 6,
   "metadata": {},
   "outputs": [
    {
     "name": "stdout",
     "output_type": "stream",
     "text": [
      "how many number want to enter ?: 6\n",
      "enter the numbers \n",
      "12\n",
      "32\n",
      "10\n",
      "7\n",
      "56\n",
      "41\n",
      "[12, 32, 10, 7, 56, 41]\n",
      "how many largest numbers you want to find ?: 3\n",
      "largest number are:\n",
      "[56, 41, 32]\n"
     ]
    }
   ],
   "source": [
    "def lastN(no_lst,fi):\n",
    "    final_lst=[]\n",
    "    for i in range(fi):\n",
    "        maxn = 0\n",
    "        for j in no_lst:\n",
    "            if j > maxn:\n",
    "                maxn=j\n",
    "        no_lst.remove(maxn)\n",
    "        final_lst.append(maxn)\n",
    "    print(\"largest number are:\")    \n",
    "    print(final_lst)   \n",
    "    \n",
    "    \n",
    "n=int(input(\"how many number want to enter ?: \"))\n",
    "print(\"enter the numbers \")      \n",
    "no_lst=[]      \n",
    "for i in range(n):\n",
    "    ele=int(input())\n",
    "    no_lst.append(ele)\n",
    "print(no_lst)     \n",
    "fi=int(input(\"how many largest numbers you want to find ?: \"))\n",
    "lastN(no_lst,fi)"
   ]
  },
  {
   "cell_type": "markdown",
   "metadata": {},
   "source": [
    "#explaination of prgm 1\n",
    "#n is integer take as input \"how many number want to enter ?\"\n",
    "#print\"enter the number \"\n",
    "#decalre a empty list no_lst\n",
    "#use for loop i in range(n) to take n number of input from user then append each number in no_lst list\n",
    "#display all number in list form\n",
    "#take fi as integer from input \"how many largest numbers you want to find?:\"\n",
    "#call the user defined function LASTN(NO_LST , FI)\n",
    "#LASTN(NO_LST,FI) function\n",
    "#declare final_lst an empty list\n",
    "#use for loop i in range of FI then assign maxn as 0\n",
    "#use nested for loop j in list no_lst\n",
    "#check if j >maxn then assign the value of j to maxn then come out of the loop\n",
    "#then remove value of maxn from list no_lst and append the value of j in final_lst\n",
    "#for loop i iterate n times \n",
    "#print\"largest numbers are \" diaplay the list final_lst"
   ]
  },
  {
   "cell_type": "markdown",
   "metadata": {},
   "source": [
    "# 4-write a prgm to sort the list with the strings,except group all the stringsthat begins with \"x\" first."
   ]
  },
  {
   "cell_type": "code",
   "execution_count": 17,
   "metadata": {
    "scrolled": true
   },
   "outputs": [
    {
     "name": "stdout",
     "output_type": "stream",
     "text": [
      "enter the words \n",
      "jki\n",
      "xdr\n",
      "xdn\n",
      "huy\n",
      "loi\n",
      "['jki', 'xdr', 'xdn', 'huy', 'loi']\n",
      "the sorted list is \n",
      "['xdn', 'xdr', 'huy', 'jki', 'loi']\n"
     ]
    }
   ],
   "source": [
    "print(\"enter the words \")\n",
    "lis_sort=[]\n",
    "new_xsort=[]\n",
    "new_asort=[]\n",
    "newly_sort=[]\n",
    "for i in range(5):\n",
    "    word=str(input())\n",
    "    lis_sort.append(word)\n",
    "print(lis_sort)    \n",
    "for i in lis_sort:\n",
    "    if i.startswith(\"x\"):\n",
    "        new_xsort.append(i)\n",
    "    else:\n",
    "        new_asort.append(i)\n",
    "new_xsort.sort()    \n",
    "new_asort.sort() \n",
    "newly_sort=new_xsort+new_asort\n",
    "print(\"the sorted list is \")\n",
    "print(newly_sort)"
   ]
  },
  {
   "cell_type": "markdown",
   "metadata": {},
   "source": [
    "#explaination of prgm 2\n",
    "#decalare empty list lis_sort , new_xsort , new_asort and newly_sort\n",
    "#use for loop to enter the string in lis_sort i in range(5) \n",
    "#word takes input as string and append it in list lis_sort then display it\n",
    "#use for i in lis_sort \n",
    "#if a string in lis_sort starts with a letter 'x' then append that string in new_xsort list\n",
    "#else append it in new_asort list\n",
    "#now, sort the new_xsort and new_asort list in ordered (acesending)\n",
    "#concat the above two sorted list assign it to another list newly_sort\n",
    "#print\"the sorted lidt is\" display newly_sort"
   ]
  },
  {
   "cell_type": "markdown",
   "metadata": {},
   "source": [
    "# 5-write a function SORT_LIST(NEWX) takes a list of non-empty tuples return a list sorted in increasing order by last element in each tuple."
   ]
  },
  {
   "cell_type": "code",
   "execution_count": 3,
   "metadata": {},
   "outputs": [
    {
     "name": "stdout",
     "output_type": "stream",
     "text": [
      "[(5, 0), (6, 4), (9, 7, 5), (2, 7), (1, 8)]\n"
     ]
    }
   ],
   "source": [
    "def sort_last(newx): \n",
    "    newx=sorted(newx,key=lambda last:last[-1])\n",
    "    print(newx)\n",
    "\n",
    "newx=[(1,8),(9,7,5),(6,4),(2,7),(5,0)]\n",
    "sort_last(newx)"
   ]
  },
  {
   "cell_type": "markdown",
   "metadata": {},
   "source": [
    "#explaination of prgm 3\n",
    "#newx is assigned tuple\n",
    "#call the function SORT_LAST(NEWX)\n",
    "#def a user define function SORT_LAST(NEWX)\n",
    "#newx is a sorted in acesending order by last element sorted(newx,key=lambda last:lasr[-1])\n",
    "#display the newx"
   ]
  },
  {
   "cell_type": "markdown",
   "metadata": {},
   "source": [
    "# 6-Take a list of tuple sort in following sorted order \n",
    "define a function FIRST() that receives a tuple and returns its first element\n",
    "define a function SORT_FIRST() that receives a list of tuple and returns sorted order\n",
    "define a function MIDDLE() that recives its middle element\n",
    "define a function SORT_MIDDLE() that receives a list of tuples and return it sorted using the key middle\n",
    "display lists in sorted order"
   ]
  },
  {
   "cell_type": "code",
   "execution_count": 19,
   "metadata": {},
   "outputs": [
    {
     "name": "stdout",
     "output_type": "stream",
     "text": [
      "sorted list using key first\n",
      "[(1, 2, 3), (9, 5, 7), (16, 7, 5), (20, 8, 65), (35, 12, 9)]\n",
      "\n",
      "sorted list by using key middle\n",
      "[(1, 2, 3), (9, 5, 7), (16, 7, 5), (20, 8, 65), (35, 12, 9)]\n",
      "\n",
      "first element\n",
      "1\n",
      "9\n",
      "16\n",
      "20\n",
      "35\n",
      "\n",
      "middle element\n",
      "2\n",
      "5\n",
      "7\n",
      "8\n",
      "12\n"
     ]
    }
   ],
   "source": [
    "def first_sort(tlist):\n",
    "    print(\"sorted list using key first\")\n",
    "    tlist.sort()\n",
    "    print(tlist)\n",
    "def middle_sort(tlist):\n",
    "    print(\"\\nsorted list by using key middle\")\n",
    "    tlist=sorted(tlist,key=lambda mid:mid[1])\n",
    "    print(tlist)\n",
    "def first(tlist):\n",
    "    print(\"\\nfirst element\")\n",
    "    for j in tlist:\n",
    "        a,b,c=j\n",
    "        print(a)\n",
    "def middle(tlist):\n",
    "    print(\"\\nmiddle element\")\n",
    "    for j in tlist:\n",
    "        a,b,c=j\n",
    "        print(b)    \n",
    "    \n",
    "tlist=[(1,2,3),(9,5,7),(16,7,5),(35,12,9),(20,8,65)]\n",
    "first_sort(tlist)\n",
    "middle_sort(tlist)\n",
    "first(tlist)\n",
    "middle(tlist)"
   ]
  },
  {
   "cell_type": "markdown",
   "metadata": {},
   "source": [
    "#explaination of prgm 4\n",
    "#tlist is assigned tuple\n",
    "#call a user define function FIRST_SORT(TLIST)\n",
    "#FIRST_SORT(TLIST) print\"sorted list using key first\"\n",
    "#then sort the list by using sort functoion tlist.sort() and display it\n",
    "#call a user define function MIDDLE_SORT(TLIST)\n",
    "#MIDDLE_SORT(TLIST) print\"sorted list by using key middle\"\n",
    "#then sort it in order by middle element as sorted(tlist,lambda mid: mid [-1]) and display it\n",
    "#call a user define function FIRST(TLIST)\n",
    "#FIRST(TLIST) print\"first element\"\n",
    "#use for loop i in tlist unpack the each tuple by assigning to a , b ,c and display first element of tuple by print(a)\n",
    "#call a user define function MIDDLE(TLIST)\n",
    "#MIDDLE(TLIST) print\"middle element\"\n",
    "#use for loop i in tlist unpack the each tuple by assigning to a , b , c and display middle element of tuple by print(b) "
   ]
  },
  {
   "cell_type": "markdown",
   "metadata": {},
   "source": [
    "# 7- develop a function REMOVE_ADJACENT() . given a list of numbers , return a list where all adjacent same element have been reduced to a single element."
   ]
  },
  {
   "cell_type": "code",
   "execution_count": 2,
   "metadata": {},
   "outputs": [
    {
     "name": "stdout",
     "output_type": "stream",
     "text": [
      "enter how many element want to enter 5\n",
      "enter the elemenet \n",
      "2\n",
      "2\n",
      "3\n",
      "2\n",
      "3\n",
      "[2, 2, 3, 2, 3]\n",
      "[2, 3]\n"
     ]
    }
   ],
   "source": [
    "def remove_adjacent(ele_lis):\n",
    "    re_ele=[]\n",
    "    for i in ele_lis:\n",
    "        if i not in re_ele:\n",
    "            re_ele.append(i)\n",
    "    print(re_ele)        \n",
    "            \n",
    "ele_lis=[]\n",
    "n=int(input(\"enter how many element want to enter \"))\n",
    "print(\"enter the elemenet \")\n",
    "for i in range(n):\n",
    "    a=int(input())\n",
    "    ele_lis.append(a)\n",
    "print(ele_lis)\n",
    "remove_adjacent(ele_lis)"
   ]
  },
  {
   "cell_type": "markdown",
   "metadata": {},
   "source": [
    "#explaination of prgm 1\n",
    "#declare an empty list ele_lis\n",
    "#n as how many number you want to enter in list ele_lis\n",
    "#print \"enter the elements of list\" \n",
    "#use for loop i from 1 to n take a as int element \n",
    "#then append to the list ele_lis and display it\n",
    "#call the function with argument REMOVE_ADJACENT(ELE_LIS)\n",
    "#in function print\"updated list\"\n",
    "#declare an empty list re_ele \n",
    "#for i in list ele_lis then if i not in re_ele \n",
    "#append i in list re_ele (by this repeated won't be added in new list)\n",
    "#display re_ele"
   ]
  },
  {
   "cell_type": "markdown",
   "metadata": {},
   "source": [
    "# 8-Write function VERBING() .Give a string.\n",
    "if its length is at least 3 add 'ing' to its end . unless it already ends in 'ing' in which case add 'ly' instead .\n",
    "else length is less than 3 leave it unchanged returns as it is"
   ]
  },
  {
   "cell_type": "code",
   "execution_count": 1,
   "metadata": {},
   "outputs": [
    {
     "name": "stdout",
     "output_type": "stream",
     "text": [
      "enter the word  rubbing\n",
      "rubbingly\n"
     ]
    }
   ],
   "source": [
    "def verbing(word):\n",
    "    if len(word) >= 3:\n",
    "        if word[-3:]=='ing':\n",
    "            print(word+'ly')\n",
    "        else:\n",
    "            print(word+'ing')\n",
    "    else:\n",
    "        print(word) \n",
    "\n",
    "\n",
    "word=str(input(\"enter the word  \"))\n",
    "verbing(word)"
   ]
  },
  {
   "cell_type": "markdown",
   "metadata": {},
   "source": [
    "#explaination of prgm 2\n",
    "#take word as integer from user \"enter the word\"\n",
    "#call function with argument VERBING(WORD)\n",
    "#function VERBING(WORD) \n",
    "#if length of word is at least 3 then use nested if else\n",
    "#if last three letter of word is \"ing\" then add \"ly\" at end of word and print it\n",
    "#else add \"ing\" at the end of word and print it \n",
    "#else print(word) as it is (length of word is less than 3)"
   ]
  },
  {
   "cell_type": "markdown",
   "metadata": {},
   "source": [
    "# 9-Develop function NOT_BAD(). given a string . if the 'bad' follows 'not',replace the whole 'not'...'bad' substring with 'good' "
   ]
  },
  {
   "cell_type": "code",
   "execution_count": 2,
   "metadata": {},
   "outputs": [
    {
     "name": "stdout",
     "output_type": "stream",
     "text": [
      "the dinner was not really bad!!\\\n",
      "the dinner was good!!\\\n"
     ]
    }
   ],
   "source": [
    "def not_bad(sent):\n",
    "    s1=sent.find(\"not\")\n",
    "    s2=sent.find(\"bad\")\n",
    "    sent=sent.replace(sent[s1:s2+3],\"good\")\n",
    "    print(sent)\n",
    "    \n",
    "sent=str(input()) \n",
    "not_bad(sent)"
   ]
  },
  {
   "cell_type": "markdown",
   "metadata": {},
   "source": [
    "#explaination of prgm3\n",
    "#take sent as string from user \n",
    "#call the function with argument NOT_BAD(SENT)\n",
    "#function NOT_BAD(SENT)\n",
    "#s1 = sent.find(\"not\") gives the position of \"not\" in sent\n",
    "#s2 = sent.find(\"bad\") gives the position of \"bad\" in sent\n",
    "#sent = sent.replace(sent [s1:s1+3],\"good\") repalcing sent letter from \"not...bad\" with \"good\"\n",
    "#display updated sent"
   ]
  }
 ],
 "metadata": {
  "kernelspec": {
   "display_name": "Python 3",
   "language": "python",
   "name": "python3"
  },
  "language_info": {
   "codemirror_mode": {
    "name": "ipython",
    "version": 3
   },
   "file_extension": ".py",
   "mimetype": "text/x-python",
   "name": "python",
   "nbconvert_exporter": "python",
   "pygments_lexer": "ipython3",
   "version": "3.8.3"
  }
 },
 "nbformat": 4,
 "nbformat_minor": 4
}
