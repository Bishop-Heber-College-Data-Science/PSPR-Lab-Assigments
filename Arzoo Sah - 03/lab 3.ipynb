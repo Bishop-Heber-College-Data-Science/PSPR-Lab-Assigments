{
 "cells": [
  {
   "cell_type": "markdown",
   "metadata": {},
   "source": [
    "# 1- create a function PRIME() that takes an integer and returns whether its a prime or not \n"
   ]
  },
  {
   "cell_type": "code",
   "execution_count": 3,
   "metadata": {},
   "outputs": [
    {
     "name": "stdout",
     "output_type": "stream",
     "text": [
      "enter the number  23\n",
      "23 is prime number\n",
      "\n",
      "enter the number  55\n",
      "55 is not prime number\n",
      "\n",
      "enter the number  67\n",
      "67 is prime number\n",
      "\n",
      "enter the number  5\n",
      "5 is prime number\n",
      "\n",
      "enter the number  12\n",
      "12 is not prime number\n",
      "\n",
      "enter the number  0\n",
      "end of loop\n"
     ]
    }
   ],
   "source": [
    "\n",
    "def prime(num):\n",
    "    for i in range(2,num):\n",
    "        if num%i == 0:\n",
    "            return 0     \n",
    "    else:\n",
    "        return num\n",
    "    \n",
    "while True:\n",
    "    n=int(input(\"enter the number  \"))\n",
    "    if n==0:\n",
    "        print(\"end of loop\")\n",
    "        break\n",
    "    a=prime(n)\n",
    "    if a!= 0:\n",
    "        print(n,\"is prime number\\n\")\n",
    "    else:\n",
    "        print(n,\"is not prime number\\n\")"
   ]
  },
  {
   "cell_type": "markdown",
   "metadata": {},
   "source": [
    "#take num as input of type integer from user\n",
    "#call the function prime() and value returned by function prime is assigned to variable'a'\n",
    "#PRIME(num) takes num as argument\n",
    "#use for loop i from range 2 to num then\n",
    "#if num % i==0 that is number is divisible by all the numbers less than itself its not prime number n return '0'\n",
    "#else return num (which is prime)\n",
    "#if returned value is not zero then print num is prime number \n",
    "#else not prime number"
   ]
  },
  {
   "cell_type": "markdown",
   "metadata": {},
   "source": [
    "# 2- create 4 function ADD() , SUBTRACT() , MULTIPLY() , DIVIDE()  that receives two values of the opertion (+ , - , * , / ) calculates till user type 'q'  as operator to quit  "
   ]
  },
  {
   "cell_type": "code",
   "execution_count": 2,
   "metadata": {},
   "outputs": [
    {
     "name": "stdout",
     "output_type": "stream",
     "text": [
      "enter the opertor\n",
      "+\n",
      "\n",
      "enter the value of a 2\n",
      "enter the value of b 90\n",
      "result is   92 \n",
      "\n",
      "enter the opertor\n",
      "-\n",
      "\n",
      "enter the value of a 89\n",
      "enter the value of b 56\n",
      "result is   33 \n",
      "\n",
      "enter the opertor\n",
      "/\n",
      "\n",
      "enter the value of a 45\n",
      "enter the value of b 4\n",
      "result is   11.25 \n",
      "\n",
      "enter the opertor\n",
      "*\n",
      "\n",
      "enter the value of a 23\n",
      "enter the value of b 5\n",
      "result is   115 \n",
      "\n",
      "enter the opertor\n",
      "q\n",
      "end of loop\n"
     ]
    }
   ],
   "source": [
    "def add(a,b):\n",
    "    return a+b\n",
    "def sub(a,b):\n",
    "    return a-b\n",
    "def mul(a,b):\n",
    "    return a*b\n",
    "def div(a,b):\n",
    "    if b==0:\n",
    "        print(\"division is not possible \")\n",
    "    else:\n",
    "        return a/b\n",
    "    \n",
    "while True:    \n",
    "    print(\"enter the opertor\")\n",
    "    op=input()\n",
    "    if (op=='q'):\n",
    "        break\n",
    "    a=int(input(\"\\nenter the value of a \")) \n",
    "    b=int(input(\"enter the value of b \"))\n",
    "\n",
    "    if (op=='+'):\n",
    "        r=add(a,b)\n",
    "    elif (op=='-'):\n",
    "        r=sub(a,b)\n",
    "    elif (op=='*'):\n",
    "        r=mul(a,b)\n",
    "    elif (op=='/'):\n",
    "        r=div(a,b)\n",
    "    print(\"result is  \",r,'\\n')\n",
    "print(\"end of loop\")    "
   ]
  },
  {
   "cell_type": "markdown",
   "metadata": {},
   "source": [
    "#use while loop \n",
    "#take op as input from user \"enter opertor\"\n",
    "#if op is 'q' then break   it comes out of while loop  prints \"end of loop\"\n",
    "#take a,b as input from user as \"enter the value of a\" and \"enter the value of b\"\n",
    "\n",
    "#if op is '+' then goes to function ADD()\n",
    "#ADD(a,b) function returns a+b\n",
    "\n",
    "#elif op is '-' then goes to function SUB()\n",
    "#SUB(a,b) function returns a-b\n",
    "\n",
    "#elif op is ' * ' then goes to function MUL()\n",
    "#MUL(a,b) function returns a * b\n",
    "\n",
    "#elif op is '/ then goes to function DIV()\n",
    "#DIV(a,b) function returns a/b\n",
    "\n",
    "#all the returned get assigned to r  then \"result is \" display the results"
   ]
  },
  {
   "cell_type": "markdown",
   "metadata": {},
   "source": [
    "# 3-create a function FACTORIAL() that takes integer and its factorial value"
   ]
  },
  {
   "cell_type": "code",
   "execution_count": 1,
   "metadata": {},
   "outputs": [],
   "source": [
    "def factorial(n):\n",
    "    p = 1;\n",
    "    num=n\n",
    "    if(n < 0):\n",
    "        print(\"The factorial does not exist for negative numbers\")\n",
    "    elif(n==0):\n",
    "        print(\"The factorial of 0 is 1\")\n",
    "        return 1\n",
    "    elif(n==1):\n",
    "        return 1\n",
    "    else:\n",
    "        while(n>0):\n",
    "            p=p*n\n",
    "            n=n-1\n",
    "        print(\"the factorial of \",num,\"is \",p)    \n",
    "        return p;  "
   ]
  },
  {
   "cell_type": "code",
   "execution_count": 2,
   "metadata": {},
   "outputs": [
    {
     "data": {
      "text/plain": [
       "'C:\\\\Users\\\\Arzoo Sah'"
      ]
     },
     "execution_count": 2,
     "metadata": {},
     "output_type": "execute_result"
    }
   ],
   "source": [
    "import os\n",
    "os.getcwd()"
   ]
  },
  {
   "cell_type": "code",
   "execution_count": 3,
   "metadata": {},
   "outputs": [],
   "source": [
    "os.chdir(\"C:\\\\Users\\Arzoo Sah\\Desktop\\__pycache__\")"
   ]
  },
  {
   "cell_type": "code",
   "execution_count": 4,
   "metadata": {},
   "outputs": [
    {
     "data": {
      "text/plain": [
       "'C:\\\\Users\\\\Arzoo Sah\\\\Desktop\\\\__pycache__'"
      ]
     },
     "execution_count": 4,
     "metadata": {},
     "output_type": "execute_result"
    }
   ],
   "source": [
    "os.getcwd()"
   ]
  },
  {
   "cell_type": "code",
   "execution_count": 5,
   "metadata": {},
   "outputs": [],
   "source": [
    "import factorial_definition"
   ]
  },
  {
   "cell_type": "code",
   "execution_count": 6,
   "metadata": {},
   "outputs": [
    {
     "name": "stdout",
     "output_type": "stream",
     "text": [
      "factorial  of  5  is  120\n"
     ]
    },
    {
     "data": {
      "text/plain": [
       "120"
      ]
     },
     "execution_count": 6,
     "metadata": {},
     "output_type": "execute_result"
    }
   ],
   "source": [
    "factorial_definition.factorial(5)"
   ]
  },
  {
   "cell_type": "code",
   "execution_count": 7,
   "metadata": {},
   "outputs": [
    {
     "name": "stdout",
     "output_type": "stream",
     "text": [
      "factorial  of  3  is  6\n"
     ]
    },
    {
     "data": {
      "text/plain": [
       "6"
      ]
     },
     "execution_count": 7,
     "metadata": {},
     "output_type": "execute_result"
    }
   ],
   "source": [
    "factorial_definition.factorial(3)"
   ]
  },
  {
   "cell_type": "code",
   "execution_count": 8,
   "metadata": {},
   "outputs": [
    {
     "name": "stdout",
     "output_type": "stream",
     "text": [
      "factorial  of  10  is  3628800\n"
     ]
    },
    {
     "data": {
      "text/plain": [
       "3628800"
      ]
     },
     "execution_count": 8,
     "metadata": {},
     "output_type": "execute_result"
    }
   ],
   "source": [
    "factorial_definition.factorial(10)"
   ]
  }
 ],
 "metadata": {
  "kernelspec": {
   "display_name": "Python 3",
   "language": "python",
   "name": "python3"
  },
  "language_info": {
   "codemirror_mode": {
    "name": "ipython",
    "version": 3
   },
   "file_extension": ".py",
   "mimetype": "text/x-python",
   "name": "python",
   "nbconvert_exporter": "python",
   "pygments_lexer": "ipython3",
   "version": "3.8.3"
  }
 },
 "nbformat": 4,
 "nbformat_minor": 4
}
