{
 "cells": [
  {
   "cell_type": "markdown",
   "metadata": {},
   "source": [
    "# 1-Write a prgm for PASSWORD MANAGEMENT SYSTEM \n",
    "File creation : Ask user to enter N user names and their passwords.store usernames and passwords into a file named \"LOGINFILE.TXT\".store each user and password in one line.\n",
    "File Processing : Write a prgm that opens your \"SECURITY.TXT\" file and reads usernames and passwords from it. store user names in one list and passwords in another lists.\n",
    "Querying : ask user to enter user name and password for verification.if they match the values stored in the lists,print a msg \"login successful\".otherwise \"login failed,try again\"."
   ]
  },
  {
   "cell_type": "code",
   "execution_count": 14,
   "metadata": {},
   "outputs": [],
   "source": [
    "def register():\n",
    "    username=input(\"please give username to be set for the account   \")\n",
    "    password=input(\"please give password to be set for the account   \")\n",
    "    file=open(\"loginfile.txt\",\"x\")\n",
    "    file.write(username)\n",
    "    file.write(\"\\n\")\n",
    "    file.write(password)\n",
    "    file.write(\"\\n\")\n",
    "    file.close()\n",
    "    if login():\n",
    "        print(\"logged \")\n",
    "    else:\n",
    "        print(\"not logged\")\n",
    "        \n",
    "def login():\n",
    "    username=input(\"enter your username    \")\n",
    "    password=input(\"enter your password    \")\n",
    "    for line in open(\"loginfile.txt\",\"r\").readlines():\n",
    "        if username == line[0] and password == line[1]:\n",
    "            print(\"correct credentials\")\n",
    "            return True\n",
    "    print(\"incorrect credentials\")\n",
    "    return False"
   ]
  },
  {
   "cell_type": "code",
   "execution_count": 15,
   "metadata": {},
   "outputs": [
    {
     "name": "stdout",
     "output_type": "stream",
     "text": [
      "please give username to be set for the account   eras\n",
      "please give password to be set for the account   dam21\n",
      "enter your username    eras\n",
      "enter your password    dam21\n",
      "incorrect credentials\n",
      "not logged\n"
     ]
    }
   ],
   "source": [
    "register()"
   ]
  },
  {
   "cell_type": "code",
   "execution_count": 16,
   "metadata": {},
   "outputs": [
    {
     "name": "stdout",
     "output_type": "stream",
     "text": [
      "enter your username    eras\n",
      "enter your password    dam21\n",
      "incorrect credentials\n"
     ]
    },
    {
     "data": {
      "text/plain": [
       "False"
      ]
     },
     "execution_count": 16,
     "metadata": {},
     "output_type": "execute_result"
    }
   ],
   "source": [
    "login()"
   ]
  },
  {
   "cell_type": "markdown",
   "metadata": {},
   "source": [
    "# 2-Write a prgm for STUDENT PERFORMANCE ANALYSIS\n",
    "create a file 'MARKS.TXT',with N marks as floating point numbers. open the file , read marks from it and compute and print the highest mark.\n",
    "if user runs the prgm more than once you should append to the end of the file.\n",
    "modity the prgm so that it also prints HIGHEST-3 and LOWEST-3 marks "
   ]
  },
  {
   "cell_type": "code",
   "execution_count": 4,
   "metadata": {},
   "outputs": [
    {
     "name": "stdout",
     "output_type": "stream",
     "text": [
      "enter how many marks want to be entered  5\n",
      "47\n",
      "98\n",
      "38\n",
      "74\n",
      "55\n",
      "['47', '98', '38', '74', '55']\n",
      "[28, 93, 71, 84, 69, 47, 35, 96, 48, 100, 14, 98, 35, 77, 82, 47, 98, 38, 74, 55]\n",
      "[14, 28, 35]\n",
      "[100, 98, 98]\n",
      "100\n"
     ]
    }
   ],
   "source": [
    "marks=[]\n",
    "n=int(input(\"enter how many marks want to be entered  \")) \n",
    "for i in range(n):\n",
    "    m=input()\n",
    "    marks.append(m)\n",
    "print(marks) \n",
    "with open('marks.txt','a')as myfl:\n",
    "    for j in marks:\n",
    "        myfl.write(j)\n",
    "        myfl.write(\"\\n\")\n",
    "    myfl.close()\n",
    "num=[]    \n",
    "num1=[]\n",
    "with open(\"marks.txt\",'r')as mafl:\n",
    "    for h in mafl.readlines():\n",
    "        nw=int(h)\n",
    "        num.append(nw)\n",
    "        num1.append(nw)\n",
    "    print(num)    \n",
    "    lowest_no(num)    \n",
    "    highest_no(num1)\n",
    "print(max(num))    "
   ]
  },
  {
   "cell_type": "code",
   "execution_count": 3,
   "metadata": {},
   "outputs": [],
   "source": [
    "def lowest_no(cal): \n",
    "    low_marks =[] \n",
    "    for i in range(3):     \n",
    "        mn = 99999999\n",
    "        for j in cal:       \n",
    "            if j < mn: \n",
    "                mn = j      \n",
    "        cal.remove(mn)\n",
    "        low_marks.append(mn) \n",
    "    print(low_marks) \n",
    "    \n",
    "    \n",
    "def highest_no(cal): \n",
    "    high_marks = [] \n",
    "    for i in range(3):  \n",
    "        mx = 0  \n",
    "        for j in cal:    \n",
    "            if j > mx: \n",
    "                mx = j        \n",
    "        cal.remove(mx)\n",
    "        high_marks.append(mx)     \n",
    "    print(high_marks)   "
   ]
  },
  {
   "cell_type": "markdown",
   "metadata": {},
   "source": [
    "# 3-Write a prgm for STOCK PRICE ANALYSIS\n",
    "#File creation: continually prompt a user for stock name , follwed by price values for 5 days.store these values in a text file \"STOCK_PRICES.TXT\".in append mode\n",
    "#now,open your file for processing . print stock name , minimum price & day of minimum price , maximum price & day of maximum price and average price value "
   ]
  },
  {
   "cell_type": "code",
   "execution_count": 94,
   "metadata": {},
   "outputs": [
    {
     "name": "stdout",
     "output_type": "stream",
     "text": [
      "enter the name  vivo\n",
      "37\n",
      "68\n",
      "72\n",
      "98\n",
      "14\n",
      "want to continue  :  y\n",
      "enter the name  oppo\n",
      "76\n",
      "38\n",
      "97\n",
      "19\n",
      "55\n",
      "want to continue  :  y\n",
      "enter the name  moto\n",
      "87\n",
      "58\n",
      "39\n",
      "71\n",
      "61\n",
      "want to continue  :  n\n"
     ]
    }
   ],
   "source": [
    "while True:\n",
    "    st_name=str(input(\"enter the name  \"))\n",
    "    file=open(\"stock_prices.txt\",\"a\")\n",
    "    file.write(st_name)\n",
    "    file.write(\"  \")\n",
    "    for i in range(5):\n",
    "        p=input()\n",
    "        file.write(p)\n",
    "        file.write(\"  \") \n",
    "    file.write(\"\\n\")    \n",
    "    con = str(input(\"want to continue  :  \"))\n",
    "    if con =='n':\n",
    "        break   \n",
    "file.close()            "
   ]
  },
  {
   "cell_type": "code",
   "execution_count": 95,
   "metadata": {},
   "outputs": [
    {
     "name": "stdout",
     "output_type": "stream",
     "text": [
      "vivo\n",
      "min price   14\n",
      "max price   98\n",
      "average price   57.8\n",
      "\n",
      "\n",
      "oppo\n",
      "min price   19\n",
      "max price   97\n",
      "average price   57.0\n",
      "\n",
      "\n",
      "moto\n",
      "min price   39\n",
      "max price   87\n",
      "average price   63.2\n",
      "\n",
      "\n"
     ]
    }
   ],
   "source": [
    "for st in open(\"stock_prices.txt\",\"r\").readlines():\n",
    "    p_lis=[]\n",
    "    calc=st.split()\n",
    "    print(calc[0])  \n",
    "    for i in range(1,6):\n",
    "        p_lis.append(int(calc[i]))\n",
    "    print(\"min price  \",min(p_lis))    \n",
    "    print(\"max price  \",max(p_lis))\n",
    "    print(\"average price  \",sum(p_lis)/5)\n",
    "    print(\"\\n\")"
   ]
  },
  {
   "cell_type": "code",
   "execution_count": 98,
   "metadata": {},
   "outputs": [
    {
     "name": "stdout",
     "output_type": "stream",
     "text": [
      "vivo\n",
      "min price  14  on day  5\n",
      "max price  98  on day  4\n",
      "average prices 57.8\n",
      "\n",
      "\n",
      "oppo\n",
      "min price  19  on day  4\n",
      "max price  97  on day  3\n",
      "average prices 57.0\n",
      "\n",
      "\n",
      "moto\n",
      "min price  39  on day  3\n",
      "max price  87  on day  1\n",
      "average prices 63.2\n",
      "\n",
      "\n"
     ]
    }
   ],
   "source": [
    "for st in open(\"stock_prices.txt\",\"r\").readlines():\n",
    "    p_lis=[]\n",
    "    calc=st.split()\n",
    "    print(calc[0])  \n",
    "    for i in range(1,6):\n",
    "        p_lis.append(int(calc[i]))\n",
    "    mip=min(p_lis)    \n",
    "    mxp=max(p_lis)\n",
    "\n",
    "    \n",
    "    im=p_lis.index(mip)\n",
    "    ix=p_lis.index(mxp)\n",
    "    \n",
    "    print(\"min price \",mip,\" on day \",im+1)\n",
    "    print(\"max price \",mxp,\" on day \",ix+1)\n",
    "    print(\"average prices\",sum(p_lis)/5)\n",
    "    print(\"\\n\")"
   ]
  },
  {
   "cell_type": "markdown",
   "metadata": {},
   "source": [
    "# 4-Write a prgm for file explorer\n",
    "\n",
    "display the content of file\n",
    "\n",
    "count the number of unique words in a file\n",
    "\n",
    "count the number of lines in text file\n",
    "\n",
    "find frequency of words in a given file \n",
    "\n",
    "show random line in a file."
   ]
  },
  {
   "cell_type": "code",
   "execution_count": 1,
   "metadata": {},
   "outputs": [
    {
     "name": "stdout",
     "output_type": "stream",
     "text": [
      "There was a young lady named Bright,\n",
      " Whose speed was far faster than light;\n",
      " she started on day\n",
      " In a relative way,\n",
      " And returned on the previous night.\n",
      " young lady is day happy than way computer  "
     ]
    }
   ],
   "source": [
    "with open(\"explorer.txt\",\"x\") as fle:\n",
    "    fle.write(\"There was a young lady named Bright,\\n\")\n",
    "    fle.write(\"Whose speed was far faster than light;\\n\")\n",
    "    fle.write(\"she started on day\\n\")\n",
    "    fle.write(\"In a relative way,\\n\")\n",
    "    fle.write(\"And returned on the previous night.\\n\")\n",
    "    fle.write(\"young lady is day happy than way computer \")\n",
    "    fle.close()\n",
    "              \n",
    "              \n",
    "with open(\"explorer.txt\",\"r\") as flrd:\n",
    "    for ln in flrd:\n",
    "        print(ln,end=\" \")   "
   ]
  },
  {
   "cell_type": "code",
   "execution_count": 2,
   "metadata": {},
   "outputs": [
    {
     "name": "stdout",
     "output_type": "stream",
     "text": [
      "number of lines in text file :  6\n",
      "number of total words in text file :  36\n"
     ]
    }
   ],
   "source": [
    "tot=0\n",
    "with open(\"explorer.txt\") as fl:\n",
    "    lin=fl.readlines()\n",
    "    print(\"number of lines in text file : \",len(lin))\n",
    "    \n",
    "    \n",
    "for fin in open(\"explorer.txt\").readlines(): \n",
    "    i = fin.split()\n",
    "    for j in range(len(i)):\n",
    "        tot = tot + 1\n",
    "print(\"number of total words in text file : \",tot)"
   ]
  },
  {
   "cell_type": "code",
   "execution_count": 3,
   "metadata": {},
   "outputs": [
    {
     "name": "stdout",
     "output_type": "stream",
     "text": [
      "('There', 1)\n",
      "('was', 2)\n",
      "('a', 2)\n",
      "('young', 2)\n",
      "('lady', 2)\n",
      "('named', 1)\n",
      "('Bright,', 1)\n",
      "('Whose', 1)\n",
      "('speed', 1)\n",
      "('far', 1)\n",
      "('faster', 1)\n",
      "('than', 2)\n",
      "('light;', 1)\n",
      "('she', 1)\n",
      "('started', 1)\n",
      "('on', 2)\n",
      "('day', 2)\n",
      "('In', 1)\n",
      "('relative', 1)\n",
      "('way,', 1)\n",
      "('And', 1)\n",
      "('returned', 1)\n",
      "('the', 1)\n",
      "('previous', 1)\n",
      "('night.', 1)\n",
      "('is', 1)\n",
      "('happy', 1)\n",
      "('way', 1)\n",
      "('computer', 1)\n"
     ]
    }
   ],
   "source": [
    "counts = dict()\n",
    "with open('explorer.txt','r') as fhand:\n",
    "    for line in fhand:\n",
    "        words = line.split()\n",
    "        for word in words:\n",
    "            if word in counts:\n",
    "                counts[word] += 1\n",
    "            else:\n",
    "                counts[word] = 1\n",
    "            \n",
    "new = list(counts.items())\n",
    "for i in range(len(new)):\n",
    "    print(new[i])               "
   ]
  },
  {
   "cell_type": "code",
   "execution_count": 8,
   "metadata": {},
   "outputs": [
    {
     "name": "stdout",
     "output_type": "stream",
     "text": [
      "Whose speed was far faster than light;\n"
     ]
    }
   ],
   "source": [
    "import random as rd\n",
    "def rand_num(fill):\n",
    "    lines = open(fill).read().splitlines()\n",
    "    return rd.choice(lines)\n",
    "\n",
    "\n",
    "print(rand_num('explorer.txt'))    "
   ]
  },
  {
   "cell_type": "markdown",
   "metadata": {},
   "source": [
    "# 5-Develop an application in Python to read through the email data (“mbox-short.txt”) \n",
    "\n",
    "when you find line that starts with “From” , you will split the line into words using the split function. \n",
    "\n",
    "We are interested in who sent the message , which is the second word on the From line: From stephen.marquard@uct.ac.za Sat Jan 5 09:14:16 2008. \n",
    "\n",
    "You will parse the From line and print out the second word for each From line,\n",
    "\n",
    "then you will also count the number of From (not From:) lines and print out a count at the end"
   ]
  },
  {
   "cell_type": "code",
   "execution_count": 1,
   "metadata": {},
   "outputs": [
    {
     "name": "stdout",
     "output_type": "stream",
     "text": [
      "From stephen.marquard@uct.ac.za Sat Jan  5 09:14:16 2008\n",
      "From louis@media.berkeley.edu Fri Jan  4 18:10:48 2008\n",
      "From zqian@umich.edu Fri Jan  4 16:10:39 2008\n",
      "From rjlowe@iupui.edu Fri Jan  4 15:46:24 2008\n",
      "From zqian@umich.edu Fri Jan  4 15:03:18 2008\n",
      "From rjlowe@iupui.edu Fri Jan  4 14:50:18 2008\n",
      "From cwen@iupui.edu Fri Jan  4 11:37:30 2008\n",
      "From cwen@iupui.edu Fri Jan  4 11:35:08 2008\n",
      "From gsilver@umich.edu Fri Jan  4 11:12:37 2008\n",
      "From gsilver@umich.edu Fri Jan  4 11:11:52 2008\n",
      "From zqian@umich.edu Fri Jan  4 11:11:03 2008\n",
      "From gsilver@umich.edu Fri Jan  4 11:10:22 2008\n",
      "From wagnermr@iupui.edu Fri Jan  4 10:38:42 2008\n",
      "From zqian@umich.edu Fri Jan  4 10:17:43 2008\n",
      "From antranig@caret.cam.ac.uk Fri Jan  4 10:04:14 2008\n",
      "From gopal.ramasammycook@gmail.com Fri Jan  4 09:05:31 2008\n",
      "From david.horwitz@uct.ac.za Fri Jan  4 07:02:32 2008\n",
      "From david.horwitz@uct.ac.za Fri Jan  4 06:08:27 2008\n",
      "From david.horwitz@uct.ac.za Fri Jan  4 04:49:08 2008\n",
      "From david.horwitz@uct.ac.za Fri Jan  4 04:33:44 2008\n",
      "From stephen.marquard@uct.ac.za Fri Jan  4 04:07:34 2008\n",
      "From louis@media.berkeley.edu Thu Jan  3 19:51:21 2008\n",
      "From louis@media.berkeley.edu Thu Jan  3 17:18:23 2008\n",
      "From ray@media.berkeley.edu Thu Jan  3 17:07:00 2008\n",
      "From cwen@iupui.edu Thu Jan  3 16:34:40 2008\n",
      "From cwen@iupui.edu Thu Jan  3 16:29:07 2008\n",
      "From cwen@iupui.edu Thu Jan  3 16:23:48 2008\n"
     ]
    }
   ],
   "source": [
    "fnd = open('mbox-short.txt')\n",
    "for lin in fnd:\n",
    "    lin = lin.rstrip()\n",
    "    if lin.startswith('From '):\n",
    "        print(lin)"
   ]
  },
  {
   "cell_type": "code",
   "execution_count": 5,
   "metadata": {},
   "outputs": [
    {
     "name": "stdout",
     "output_type": "stream",
     "text": [
      "['stephen.marquard@uct.ac.za', 'Sat', 'Jan', '5', '09:14:16', '2008']\n",
      "['louis@media.berkeley.edu', 'Fri', 'Jan', '4', '18:10:48', '2008']\n",
      "['zqian@umich.edu', 'Fri', 'Jan', '4', '16:10:39', '2008']\n",
      "['rjlowe@iupui.edu', 'Fri', 'Jan', '4', '15:46:24', '2008']\n",
      "['zqian@umich.edu', 'Fri', 'Jan', '4', '15:03:18', '2008']\n",
      "['rjlowe@iupui.edu', 'Fri', 'Jan', '4', '14:50:18', '2008']\n",
      "['cwen@iupui.edu', 'Fri', 'Jan', '4', '11:37:30', '2008']\n",
      "['cwen@iupui.edu', 'Fri', 'Jan', '4', '11:35:08', '2008']\n",
      "['gsilver@umich.edu', 'Fri', 'Jan', '4', '11:12:37', '2008']\n",
      "['gsilver@umich.edu', 'Fri', 'Jan', '4', '11:11:52', '2008']\n",
      "['zqian@umich.edu', 'Fri', 'Jan', '4', '11:11:03', '2008']\n",
      "['gsilver@umich.edu', 'Fri', 'Jan', '4', '11:10:22', '2008']\n",
      "['wagnermr@iupui.edu', 'Fri', 'Jan', '4', '10:38:42', '2008']\n",
      "['zqian@umich.edu', 'Fri', 'Jan', '4', '10:17:43', '2008']\n",
      "['antranig@caret.cam.ac.uk', 'Fri', 'Jan', '4', '10:04:14', '2008']\n",
      "['gopal.ramasammycook@gmail.com', 'Fri', 'Jan', '4', '09:05:31', '2008']\n",
      "['david.horwitz@uct.ac.za', 'Fri', 'Jan', '4', '07:02:32', '2008']\n",
      "['david.horwitz@uct.ac.za', 'Fri', 'Jan', '4', '06:08:27', '2008']\n",
      "['david.horwitz@uct.ac.za', 'Fri', 'Jan', '4', '04:49:08', '2008']\n",
      "['david.horwitz@uct.ac.za', 'Fri', 'Jan', '4', '04:33:44', '2008']\n",
      "['stephen.marquard@uct.ac.za', 'Fri', 'Jan', '4', '04:07:34', '2008']\n",
      "['louis@media.berkeley.edu', 'Thu', 'Jan', '3', '19:51:21', '2008']\n",
      "['louis@media.berkeley.edu', 'Thu', 'Jan', '3', '17:18:23', '2008']\n",
      "['ray@media.berkeley.edu', 'Thu', 'Jan', '3', '17:07:00', '2008']\n",
      "['cwen@iupui.edu', 'Thu', 'Jan', '3', '16:34:40', '2008']\n",
      "['cwen@iupui.edu', 'Thu', 'Jan', '3', '16:29:07', '2008']\n",
      "['cwen@iupui.edu', 'Thu', 'Jan', '3', '16:23:48', '2008']\n",
      "\n",
      "\n",
      "There were 27 lines in the file with From as the first word\n"
     ]
    }
   ],
   "source": [
    "fnd = open(\"mbox-short.txt\")\n",
    "con = 0\n",
    "for lin in fnd:\n",
    "    lin = lin.rstrip()\n",
    "    if lin == \"\": \n",
    "        continue\n",
    "    word = lin.split()\n",
    "    if word[0] != \"From\": \n",
    "        continue\n",
    "    print(word[1:])\n",
    "    con = con+1\n",
    "print(\"\\n\")    \n",
    "print (\"There were\", con, \"lines in the file with From as the first word\")"
   ]
  },
  {
   "cell_type": "markdown",
   "metadata": {},
   "source": [
    "# 6-Write a program to read and write CSV files\n",
    "\n",
    "1).File Creation: Create MS Excel file (“student_marks.csv”) with 5 rows of student name, mark1, mark2, mark3, mark4. Use comma to separate each value in a row.\n",
    "\n",
    "2).File Display: Now, open your CSV file and display the file contents row by row (More information at: https://docs.python.org/3/library/csv.html).\n",
    "\n",
    "3).File Writing: Now, open (“student_marks.csv”) for writing. Ask user to enter name followed by 4 marks for one new student and write them onto the file.¶"
   ]
  },
  {
   "cell_type": "code",
   "execution_count": 1,
   "metadata": {},
   "outputs": [],
   "source": [
    "from csv import writer\n",
    "def append_list_as_row(file_name, list_of_elem):\n",
    "    \n",
    "    with open('student_marks.csv', 'a+', newline='') as write_obj:\n",
    "        \n",
    "        csv_writer = writer(write_obj)\n",
    "        \n",
    "        csv_writer.writerow(list_of_elem)\n",
    "\n",
    "row_contents = ['Sainya',65,80,90,77,60]\n",
    "row_contents1 = ['gargi',67,78,89,87,60]\n",
    "row_contents2 = ['Honey',61,77,84,57,86]\n",
    "row_contents3 = ['Rajni',66,80,84,83,71]\n",
    "append_list_as_row('student_marks.csv', row_contents)\n",
    "append_list_as_row('student_marks.csv', row_contents1)\n",
    "append_list_as_row('student_marks.csv', row_contents2)\n",
    "append_list_as_row('student_marks.csv', row_contents3)"
   ]
  },
  {
   "cell_type": "code",
   "execution_count": 2,
   "metadata": {},
   "outputs": [
    {
     "name": "stdout",
     "output_type": "stream",
     "text": [
      "Sainya,65,80,90,77,60\n",
      "gargi,67,78,89,87,60\n",
      "Honey,61,77,84,57,86\n",
      "Rajni,66,80,84,83,71\n",
      "Sainya,65,80,90,77,60\n",
      "gargi,67,78,89,87,60\n",
      "Honey,61,77,84,57,86\n",
      "Rajni,66,80,84,83,71\n"
     ]
    }
   ],
   "source": [
    "import csv\n",
    "with open('student_marks.csv', newline ='') as csvfile:\n",
    "    reader = csv.reader(csvfile, delimiter =' ', quotechar ='|')\n",
    "    for row in reader:\n",
    "        print(', '.join(row))"
   ]
  }
 ],
 "metadata": {
  "kernelspec": {
   "display_name": "Python 3",
   "language": "python",
   "name": "python3"
  },
  "language_info": {
   "codemirror_mode": {
    "name": "ipython",
    "version": 3
   },
   "file_extension": ".py",
   "mimetype": "text/x-python",
   "name": "python",
   "nbconvert_exporter": "python",
   "pygments_lexer": "ipython3",
   "version": "3.8.3"
  }
 },
 "nbformat": 4,
 "nbformat_minor": 2
}
