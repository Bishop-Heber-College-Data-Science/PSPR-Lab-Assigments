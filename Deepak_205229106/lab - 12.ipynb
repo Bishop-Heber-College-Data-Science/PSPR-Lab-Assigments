{
 "cells": [
  {
   "cell_type": "markdown",
   "metadata": {},
   "source": [
    "## NAME   : DEEPAK\n",
    "## ROLL NO: 205229106"
   ]
  },
  {
   "cell_type": "markdown",
   "metadata": {},
   "source": [
    "## LAB -12"
   ]
  },
  {
   "cell_type": "markdown",
   "metadata": {},
   "source": [
    "## Question1.   Perform   CRUD   operations   on   Student   Table   as   outlined   in   the   reference"
   ]
  },
  {
   "cell_type": "markdown",
   "metadata": {},
   "source": [
    "https://medium.com/analytics-vidhya/programming-with-databases-in-python-using-sqlite-4cecbef51ab9"
   ]
  },
  {
   "cell_type": "code",
   "execution_count": 2,
   "metadata": {},
   "outputs": [
    {
     "name": "stdout",
     "output_type": "stream",
     "text": [
      "Opened database successfully\n"
     ]
    }
   ],
   "source": [
    "import sqlite3\n",
    "conn = sqlite3.connect('my_database.sqlite')\n",
    "cursor = conn.cursor()\n",
    "print(\"Opened database successfully\")"
   ]
  },
  {
   "cell_type": "markdown",
   "metadata": {},
   "source": [
    "## Creating a Table"
   ]
  },
  {
   "cell_type": "code",
   "execution_count": 4,
   "metadata": {},
   "outputs": [],
   "source": [
    "cursor.execute('''CREATE TABLE SCHOOL\n",
    "         (ID INT PRIMARY KEY     NOT NULL,\n",
    "         NAME           TEXT    NOT NULL,\n",
    "         AGE            INT     NOT NULL,\n",
    "         ADDRESS        CHAR(50),\n",
    "         MARKS          INT);''')\n",
    "cursor.close()"
   ]
  },
  {
   "cell_type": "code",
   "execution_count": 7,
   "metadata": {},
   "outputs": [],
   "source": [
    "import sqlite3\n",
    "conn = sqlite3.connect('my_database.sqlite')\n",
    "cursor = conn.cursor()\n",
    "\n",
    "cursor.execute(\"INSERT INTO SCHOOL (ID,NAME,AGE,ADDRESS,MARKS) \\\n",
    "      VALUES (1, 'Rohan', 14, 'Delhi', 200)\");\n",
    "cursor.execute(\"INSERT INTO SCHOOL (ID,NAME,AGE,ADDRESS,MARKS) \\\n",
    "      VALUES (2, 'Allen', 14, 'Bangalore', 150 )\");\n",
    "cursor.execute(\"INSERT INTO SCHOOL (ID,NAME,AGE,ADDRESS,MARKS) \\\n",
    "      VALUES (3, 'Martha', 15, 'Hyderabad', 200 )\");\n",
    "cursor.execute(\"INSERT INTO SCHOOL (ID,NAME,AGE,ADDRESS,MARKS) \\\n",
    "      VALUES (4, 'Palak', 15, 'Kolkata', 650)\");conn.commit()\n",
    "conn.close()"
   ]
  },
  {
   "cell_type": "markdown",
   "metadata": {},
   "source": [
    "## SELECTING records from the TABLE"
   ]
  },
  {
   "cell_type": "code",
   "execution_count": 9,
   "metadata": {},
   "outputs": [
    {
     "name": "stdout",
     "output_type": "stream",
     "text": [
      "ID =  1\n",
      "NAME =  Rohan\n",
      "MARKS =  200 \n",
      "\n",
      "ID =  2\n",
      "NAME =  Allen\n",
      "MARKS =  150 \n",
      "\n",
      "ID =  3\n",
      "NAME =  Martha\n",
      "MARKS =  200 \n",
      "\n",
      "ID =  4\n",
      "NAME =  Palak\n",
      "MARKS =  650 \n",
      "\n"
     ]
    }
   ],
   "source": [
    "import sqlite3\n",
    "conn = sqlite3.connect('my_database.sqlite')\n",
    "cursor = conn.cursor()\n",
    "for row in cursor.execute(\"SELECT id, name, marks from SCHOOL\"):\n",
    "    print(\"ID = \", row[0])\n",
    "    print(\"NAME = \", row[1])\n",
    "    print(\"MARKS = \", row[2], \"\\n\")\n",
    "    \n",
    "conn.commit()\n",
    "conn.close()"
   ]
  },
  {
   "cell_type": "markdown",
   "metadata": {},
   "source": [
    "## UPDATING Records in the TABLE"
   ]
  },
  {
   "cell_type": "code",
   "execution_count": 10,
   "metadata": {},
   "outputs": [
    {
     "name": "stdout",
     "output_type": "stream",
     "text": [
      "ID =  1\n",
      "NAME =  Rohan\n",
      "MARKS =  Delhi \n",
      "\n",
      "ID =  2\n",
      "NAME =  Allen\n",
      "MARKS =  Bangalore \n",
      "\n",
      "ID =  3\n",
      "NAME =  Martha\n",
      "MARKS =  Hyderabad \n",
      "\n",
      "ID =  4\n",
      "NAME =  Palak\n",
      "MARKS =  Kolkata \n",
      "\n"
     ]
    }
   ],
   "source": [
    "import sqlite3\n",
    "conn = sqlite3.connect('my_database.sqlite')\n",
    "cursor = conn.cursor()\n",
    "conn.execute(\"UPDATE SCHOOL set MARKS = 250 where ID = 3\")\n",
    "conn.commit()\n",
    "\n",
    "for row in cursor.execute(\"SELECT id, name, address, marks from SCHOOL\"):\n",
    "   print(\"ID = \", row[0])\n",
    "   print(\"NAME = \", row[1])\n",
    "   print(\"MARKS = \", row[2], \"\\n\")\n",
    "\n",
    "conn.commit()\n",
    "conn.close()"
   ]
  },
  {
   "cell_type": "markdown",
   "metadata": {},
   "source": [
    "## DELETE Operation"
   ]
  },
  {
   "cell_type": "code",
   "execution_count": 14,
   "metadata": {},
   "outputs": [
    {
     "name": "stdout",
     "output_type": "stream",
     "text": [
      "ID =  1\n",
      "NAME =  Rohan\n",
      "ADDRESS =  Delhi\n",
      "MARKS =  200 \n",
      "\n",
      "ID =  3\n",
      "NAME =  Martha\n",
      "ADDRESS =  Hyderabad\n",
      "MARKS =  250 \n",
      "\n",
      "ID =  4\n",
      "NAME =  Palak\n",
      "ADDRESS =  Kolkata\n",
      "MARKS =  650 \n",
      "\n"
     ]
    }
   ],
   "source": [
    "import sqlite3\n",
    "conn = sqlite3.connect('my_database.sqlite')\n",
    "cursor = conn.cursor()\n",
    "conn.execute(\"DELETE from  SCHOOL where ID = 2\")\n",
    "conn.commit()\n",
    "\n",
    "for row in cursor.execute(\"SELECT id, name, address, marks from SCHOOL\"):\n",
    "   print(\"ID = \", row[0])\n",
    "   print(\"NAME = \", row[1])\n",
    "   print(\"ADDRESS = \", row[2])   \n",
    "   print(\"MARKS = \", row[3], \"\\n\")\n",
    "\n",
    "conn.commit()\n",
    "conn.close()"
   ]
  },
  {
   "cell_type": "markdown",
   "metadata": {},
   "source": [
    "## Question2. Open the table MyRestaurants.db that you have created for NoSQL course"
   ]
  },
  {
   "cell_type": "code",
   "execution_count": 52,
   "metadata": {},
   "outputs": [
    {
     "name": "stdout",
     "output_type": "stream",
     "text": [
      "NAME =  dosacorner\n",
      "FOODTYPE= nonveg\n",
      "DISTANCE= 10\n",
      "LASTVISIT= 05-feb-2020\n",
      "ILIKE= 1\n",
      "\n",
      "\n",
      "NAME =  apple_leaf\n",
      "FOODTYPE= nonveg\n",
      "DISTANCE= 15\n",
      "LASTVISIT= 01-jan-2020\n",
      "ILIKE= 1\n",
      "\n",
      "\n",
      "NAME =  sowmyas\n",
      "FOODTYPE= veg\n",
      "DISTANCE= 18\n",
      "LASTVISIT= 20-mar-2020\n",
      "ILIKE= 1\n",
      "\n",
      "\n",
      "NAME =  thinnappa\n",
      "FOODTYPE= nonveg\n",
      "DISTANCE= 25\n",
      "LASTVISIT= 20-nov-2019\n",
      "ILIKE= 0\n",
      "\n",
      "\n",
      "NAME =  sribhavan\n",
      "FOODTYPE= veg\n",
      "DISTANCE= 18\n",
      "LASTVISIT= 20-dec-2019\n",
      "ILIKE= 0\n",
      "\n",
      "\n",
      "NAME =  chinaworld\n",
      "FOODTYPE= chinese\n",
      "DISTANCE= 14\n",
      "LASTVISIT= 05-mar-2020\n",
      "ILIKE= 1\n",
      "\n",
      "\n",
      "NAME =  littlechina\n",
      "FOODTYPE= chinese\n",
      "DISTANCE= 30\n",
      "LASTVISIT= 10-mar-2020\n",
      "ILIKE= 0\n",
      "\n",
      "\n",
      "NAME =  munivilas\n",
      "FOODTYPE= nonveg\n",
      "DISTANCE= 20\n",
      "LASTVISIT= 05-dec-2019\n",
      "ILIKE= None\n",
      "\n",
      "\n"
     ]
    }
   ],
   "source": [
    "import cx_Oracle\n",
    "conn = cx_Oracle.connect( \"scott/scott\")\n",
    "sql = \"SELECT * FROM MY_RES \"\n",
    "cursor = conn.cursor()\n",
    "cursor.execute(sql)\n",
    "for row in cursor.execute(\"SELECT * from MY_RES\"):\n",
    "    print(\"NAME = \", row[0])\n",
    "    print(\"FOODTYPE=\",row[1])       \n",
    "    print(\"DISTANCE=\" ,row[2])      \n",
    "    print(\"LASTVISIT=\",row[3])      \n",
    "    print(\"ILIKE=\",row[4])\n",
    "    print(\"\\n\")\n",
    "    \n",
    "conn.commit()\n",
    "conn.close()"
   ]
  },
  {
   "cell_type": "markdown",
   "metadata": {},
   "source": [
    "## Question3. Write a SQL query that returns all restaurants in your table MyRestaurants.db."
   ]
  },
  {
   "cell_type": "code",
   "execution_count": 53,
   "metadata": {},
   "outputs": [
    {
     "name": "stdout",
     "output_type": "stream",
     "text": [
      "NAME =  dosacorner\n",
      "NAME =  apple_leaf\n",
      "NAME =  sowmyas\n",
      "NAME =  thinnappa\n",
      "NAME =  sribhavan\n",
      "NAME =  chinaworld\n",
      "NAME =  littlechina\n",
      "NAME =  munivilas\n"
     ]
    }
   ],
   "source": [
    "import cx_Oracle\n",
    "conn = cx_Oracle.connect( \"scott/scott\")\n",
    "sql = \"SELECT * FROM MY_RES \"\n",
    "cursor = conn.cursor()\n",
    "cursor.execute(sql)\n",
    "for row in cursor.execute(\"SELECT NAME from MY_RES\"):\n",
    "    print(\"NAME = \", row[0])\n",
    "conn.commit()\n",
    "conn.close()"
   ]
  },
  {
   "cell_type": "markdown",
   "metadata": {},
   "source": [
    "## Question4. Write a SQL query that returns the names of restaurants in descending order that makes Chinese foods. "
   ]
  },
  {
   "cell_type": "code",
   "execution_count": 54,
   "metadata": {},
   "outputs": [
    {
     "name": "stdout",
     "output_type": "stream",
     "text": [
      "NAME =  chinaworld\n",
      "FOODTYPE=  chinese\n",
      "\n",
      "\n",
      "NAME =  littlechina\n",
      "FOODTYPE=  chinese\n",
      "\n",
      "\n"
     ]
    }
   ],
   "source": [
    "import cx_Oracle\n",
    "conn = cx_Oracle.connect( \"scott/scott\")\n",
    "sql = \"SELECT * FROM MY_RES \"\n",
    "cursor = conn.cursor()\n",
    "cursor.execute(sql)\n",
    "for row in cursor.execute(\"SELECT NAME, FOODTYPE from MY_RES WHERE FOODTYPE = 'chinese' GROUP BY NAME, FOODTYPE ORDER BY NAME, FOODTYPE DESC\"):\n",
    "    print(\"NAME = \", row[0])\n",
    "    print(\"FOODTYPE= \", row[1])\n",
    "    print(\"\\n\")\n",
    "conn.commit()\n",
    "conn.close()"
   ]
  },
  {
   "cell_type": "code",
   "execution_count": null,
   "metadata": {},
   "outputs": [],
   "source": []
  }
 ],
 "metadata": {
  "kernelspec": {
   "display_name": "Python 3",
   "language": "python",
   "name": "python3"
  },
  "language_info": {
   "codemirror_mode": {
    "name": "ipython",
    "version": 3
   },
   "file_extension": ".py",
   "mimetype": "text/x-python",
   "name": "python",
   "nbconvert_exporter": "python",
   "pygments_lexer": "ipython3",
   "version": "3.8.3"
  }
 },
 "nbformat": 4,
 "nbformat_minor": 4
}
