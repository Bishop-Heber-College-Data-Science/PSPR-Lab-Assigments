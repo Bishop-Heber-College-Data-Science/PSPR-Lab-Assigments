{
 "cells": [
  {
   "cell_type": "markdown",
   "metadata": {},
   "source": [
    "Mahalakshmi.S"
   ]
  },
  {
   "cell_type": "markdown",
   "metadata": {},
   "source": [
    "DS205229118"
   ]
  },
  {
   "cell_type": "markdown",
   "metadata": {},
   "source": [
    "Lab16: Concurrent Programming in Python"
   ]
  },
  {
   "cell_type": "markdown",
   "metadata": {},
   "source": [
    "1. Create a global variable, rand_number = 0. Create a function generate() \n",
    "that will generate a random integer from 1 to 100 and update the global variable, rand_number. \n",
    "Create another function display() that will display the generated random number which is available in\n",
    "the global variable, rand_number. Create two threads each one for generate() and display()\n",
    "functions. Start threads and observe each thread performing their tasks"
   ]
  },
  {
   "cell_type": "code",
   "execution_count": 39,
   "metadata": {},
   "outputs": [],
   "source": [
    "rand_num = 0\n",
    "import random as rm\n",
    "\n",
    "class Thread:\n",
    "    def _init_(self,rand_num):\n",
    "        self.num = rand_num\n",
    "        \n",
    "    def generate(self,rand_num):\n",
    "        self.index = rm.randint(1,100)\n",
    "        \n",
    "    def display(self):\n",
    "        print(self.index)\n",
    "    "
   ]
  },
  {
   "cell_type": "code",
   "execution_count": 40,
   "metadata": {},
   "outputs": [],
   "source": [
    "a = Thread() \n",
    "a.generate(rand_num)"
   ]
  },
  {
   "cell_type": "code",
   "execution_count": 41,
   "metadata": {},
   "outputs": [
    {
     "name": "stdout",
     "output_type": "stream",
     "text": [
      "57\n"
     ]
    }
   ],
   "source": [
    "a.display()\n"
   ]
  },
  {
   "cell_type": "markdown",
   "metadata": {},
   "source": [
    "2. Create a class SleepingThread which will sleep for a random period of time. It will\n",
    "print a message “Thread <<number>> sleeps <<time>> seconds”. Start 5 SleepingThread classes\n",
    "and observe the message."
   ]
  },
  {
   "cell_type": "code",
   "execution_count": 89,
   "metadata": {},
   "outputs": [],
   "source": [
    "rand_num = 0\n",
    "import random as rm\n",
    "class SleepingThread:\n",
    "    def _init_(Self,rand_num):\n",
    "        self.num = rand_num\n",
    "        \n",
    "    def count(self):\n",
    "        return self.count\n",
    "    \n",
    "    def display (self,rand_num):    \n",
    "        #self.count = self.count + 1\n",
    "        self.r=rm.randint(0,1000)\n",
    "        print(\"Thread\",self.count,\"sleeps\",self.r,\"seconds\")"
   ]
  },
  {
   "cell_type": "code",
   "execution_count": 90,
   "metadata": {},
   "outputs": [
    {
     "name": "stdout",
     "output_type": "stream",
     "text": [
      "Thread <bound method SleepingThread.count of <__main__.SleepingThread object at 0x000002A6DAAA3F70>> sleeps 819 seconds\n"
     ]
    }
   ],
   "source": [
    "s = SleepingThread()\n",
    "s.display(rand_num)"
   ]
  }
 ],
 "metadata": {
  "kernelspec": {
   "display_name": "Python 3",
   "language": "python",
   "name": "python3"
  },
  "language_info": {
   "codemirror_mode": {
    "name": "ipython",
    "version": 3
   },
   "file_extension": ".py",
   "mimetype": "text/x-python",
   "name": "python",
   "nbconvert_exporter": "python",
   "pygments_lexer": "ipython3",
   "version": "3.8.5"
  }
 },
 "nbformat": 4,
 "nbformat_minor": 4
}
