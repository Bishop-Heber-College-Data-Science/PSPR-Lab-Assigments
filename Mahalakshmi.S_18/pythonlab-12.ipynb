{
 "cells": [
  {
   "cell_type": "markdown",
   "metadata": {},
   "source": [
    "Mahalakshmi.S"
   ]
  },
  {
   "cell_type": "markdown",
   "metadata": {},
   "source": [
    "DS205229118"
   ]
  },
  {
   "cell_type": "markdown",
   "metadata": {},
   "source": [
    "1.Perform CRUD operations on Student Table as outlined in the reference\n",
    "(https://medium.com/analytics-vidhya/programming-with-databases-in-python-using-sqlite4cecbef51ab9 ). "
   ]
  },
  {
   "cell_type": "code",
   "execution_count": 21,
   "metadata": {},
   "outputs": [
    {
     "name": "stdout",
     "output_type": "stream",
     "text": [
      "Opened database successfully\n"
     ]
    }
   ],
   "source": [
    "import sqlite3\n",
    "conn = sqlite3.connect('mydatabase3.sqlite')\n",
    "cursor = conn.cursor()\n",
    "print(\"Opened database successfully\")"
   ]
  },
  {
   "cell_type": "markdown",
   "metadata": {},
   "source": [
    "Performing Create Operation"
   ]
  },
  {
   "cell_type": "code",
   "execution_count": 22,
   "metadata": {},
   "outputs": [],
   "source": [
    "cursor.execute('''CREATE TABLE SCHOOL3\n",
    "         (ID INT PRIMARY KEY     NOT NULL,\n",
    "         NAME           TEXT    NOT NULL,\n",
    "         AGE            INT     NOT NULL,\n",
    "         ADDRESS        CHAR(50),\n",
    "         MARKS          INT);''')\n",
    "cursor.close()"
   ]
  },
  {
   "cell_type": "code",
   "execution_count": 23,
   "metadata": {},
   "outputs": [],
   "source": [
    "import sqlite3\n",
    "conn = sqlite3.connect('mydatabase3.sqlite')\n",
    "cursor = conn.cursor()\n",
    "cursor.execute(\"INSERT INTO SCHOOL3 (ID,NAME,AGE,ADDRESS,MARKS) \\\n",
    "      VALUES (1, 'viveka', 16, 'Bangalore', 800)\");\n",
    "cursor.execute(\"INSERT INTO SCHOOL3 (ID,NAME,AGE,ADDRESS,MARKS) \\\n",
    "      VALUES (2, 'raji', 16, 'Delhi', 750 )\");\n",
    "cursor.execute(\"INSERT INTO SCHOOL3 (ID,NAME,AGE,ADDRESS,MARKS) \\\n",
    "      VALUES (3, 'murugan', 16, 'TamilNadu', 500 )\");\n",
    "cursor.execute(\"INSERT INTO SCHOOL3 (ID,NAME,AGE,ADDRESS,MARKS) \\\n",
    "      VALUES (4, 'kavi', 16, 'Kerala', 550)\");\n",
    "conn.commit()\n",
    "conn.close()"
   ]
  },
  {
   "cell_type": "markdown",
   "metadata": {},
   "source": [
    "Performing Read operation"
   ]
  },
  {
   "cell_type": "code",
   "execution_count": 24,
   "metadata": {},
   "outputs": [
    {
     "name": "stdout",
     "output_type": "stream",
     "text": [
      "ID =  1\n",
      "NAME =  viveka\n",
      "MARKS =  800 \n",
      "\n",
      "ID =  2\n",
      "NAME =  raji\n",
      "MARKS =  750 \n",
      "\n",
      "ID =  3\n",
      "NAME =  murugan\n",
      "MARKS =  500 \n",
      "\n",
      "ID =  4\n",
      "NAME =  kavi\n",
      "MARKS =  550 \n",
      "\n"
     ]
    }
   ],
   "source": [
    "import sqlite3\n",
    "conn = sqlite3.connect('mydatabase3.sqlite')\n",
    "cursor = conn.cursor()\n",
    "for row in cursor.execute(\"SELECT ID, NAME, MARKS from SCHOOL3\"):\n",
    "    print(\"ID = \", row[0])\n",
    "    print(\"NAME = \", row[1])\n",
    "    print(\"MARKS = \", row[2], \"\\n\")\n",
    "conn.commit()\n",
    "conn.close()"
   ]
  },
  {
   "cell_type": "markdown",
   "metadata": {},
   "source": [
    "Performing Update operation"
   ]
  },
  {
   "cell_type": "code",
   "execution_count": 25,
   "metadata": {},
   "outputs": [
    {
     "name": "stdout",
     "output_type": "stream",
     "text": [
      "ID =  1\n",
      "NAME =  viveka\n",
      "MARKS =  800 \n",
      "\n",
      "ID =  2\n",
      "NAME =  raji\n",
      "MARKS =  750 \n",
      "\n",
      "ID =  3\n",
      "NAME =  murugan\n",
      "MARKS =  500 \n",
      "\n",
      "ID =  4\n",
      "NAME =  kavi\n",
      "MARKS =  440 \n",
      "\n"
     ]
    }
   ],
   "source": [
    "import sqlite3\n",
    "conn = sqlite3.connect('mydatabase3.sqlite')\n",
    "cursor = conn.cursor()\n",
    "conn.execute(\"UPDATE SCHOOL3 set MARKS = 440 where ID = 4\")\n",
    "conn.commit()\n",
    "for row in cursor.execute(\"SELECT ID, NAME, MARKS from SCHOOL3\"):\n",
    "    print(\"ID = \", row[0])\n",
    "    print(\"NAME = \", row[1])\n",
    "    print(\"MARKS = \", row[2], \"\\n\")\n",
    "conn.commit()\n",
    "conn.close()"
   ]
  },
  {
   "cell_type": "markdown",
   "metadata": {},
   "source": [
    "Performing Delete Operation"
   ]
  },
  {
   "cell_type": "code",
   "execution_count": 26,
   "metadata": {},
   "outputs": [
    {
     "name": "stdout",
     "output_type": "stream",
     "text": [
      "ID =  1\n",
      "NAME =  viveka\n",
      "ADDRESS =  Bangalore\n",
      "MARKS =  800 \n",
      "\n",
      "ID =  2\n",
      "NAME =  raji\n",
      "ADDRESS =  Delhi\n",
      "MARKS =  750 \n",
      "\n",
      "ID =  4\n",
      "NAME =  kavi\n",
      "ADDRESS =  Kerala\n",
      "MARKS =  440 \n",
      "\n"
     ]
    }
   ],
   "source": [
    "import sqlite3\n",
    "conn = sqlite3.connect('mydatabase3.sqlite')\n",
    "cursor = conn.cursor()\n",
    "conn.execute(\"DELETE from  SCHOOL3 where ID = 3\")\n",
    "conn.commit()\n",
    "for row in cursor.execute(\"SELECT ID, NAME, ADDRESS, MARKS from SCHOOL3\"):\n",
    "    print(\"ID = \", row[0])\n",
    "    print(\"NAME = \", row[1])\n",
    "    print(\"ADDRESS = \", row[2])\n",
    "    print(\"MARKS = \", row[3], \"\\n\")\n",
    "conn.commit()\n",
    "conn.close()"
   ]
  },
  {
   "cell_type": "markdown",
   "metadata": {},
   "source": [
    "In this program,we want to perform Cereate,Read,Update,Delete operations on Student Table as outlined in the reference website.First we want to connect the database sucessfully,then create the table,read the created table,update the table row in marks and delete one row in the table then print the output."
   ]
  },
  {
   "cell_type": "markdown",
   "metadata": {},
   "source": [
    "2.Open the table MyRestaurants.db that you have created for NoSQL course."
   ]
  },
  {
   "cell_type": "code",
   "execution_count": 9,
   "metadata": {},
   "outputs": [
    {
     "name": "stdout",
     "output_type": "stream",
     "text": [
      "Opened database successfully\n"
     ]
    }
   ],
   "source": [
    "import sqlite3\n",
    "conn = sqlite3.connect('my_database.sqlite')\n",
    "cursor = conn.cursor()\n",
    "print(\"Opened database successfully\")"
   ]
  },
  {
   "cell_type": "code",
   "execution_count": 10,
   "metadata": {},
   "outputs": [],
   "source": [
    "import sqlite3\n",
    "conn = sqlite3.connect('my_database.sqlite')\n",
    "cursor = conn.cursor()\n",
    "cursor.execute('''CREATE TABLE MYRESTAURANT\n",
    "         (NAME           TEXT,\n",
    "          FOODTYPE       TEXT,\n",
    "          DISTANCE       INT,\n",
    "          LASTVISIT      VARCHAR,\n",
    "          ILIKE          VARCHAR);''')\n",
    "cursor.close()"
   ]
  },
  {
   "cell_type": "code",
   "execution_count": 1,
   "metadata": {},
   "outputs": [],
   "source": [
    "import sqlite3\n",
    "conn = sqlite3.connect('my_database.sqlite')\n",
    "cursor = conn.cursor()\n",
    "cursor.execute(\"INSERT INTO MYRESTAURANT  (NAME,FOODTYPE,DISTANCE,LASTVISIT,ILIKE) \\\n",
    "      VALUES ('apple_leaf', 'nonveg', 15, '01-Jan-2020', 1)\");\n",
    "cursor.execute(\"INSERT INTO MYRESTAURANT  (NAME,FOODTYPE,DISTANCE,LASTVISIT,ILIKE) \\\n",
    "      VALUES ('sowmyas', 'veg', 18, '20-Mar-2020', 1)\");\n",
    "cursor.execute(\"INSERT INTO MYRESTAURANT  (NAME,FOODTYPE,DISTANCE,LASTVISIT,ILIKE) \\\n",
    "      VALUES ('thinnappa', 'nonveg', 25, '20-Nov-2019', 0)\");\n",
    "cursor.execute(\"INSERT INTO MYRESTAURANT  (NAME,FOODTYPE,DISTANCE,LASTVISIT,ILIKE) \\\n",
    "      VALUES ('sribhavan', 'veg', 18, '20-Dec-2019', 0)\");\n",
    "cursor.execute(\"INSERT INTO MYRESTAURANT  (NAME,FOODTYPE,DISTANCE,LASTVISIT,ILIKE) \\\n",
    "      VALUES ('chinaworld', 'chinese', 14, '05-Mar-2020', 0)\");\n",
    "cursor.execute(\"INSERT INTO MYRESTAURANT  (NAME,FOODTYPE,DISTANCE,LASTVISIT,ILIKE) \\\n",
    "      VALUES ('littlechina', 'chinese', 30, '10-Mar-2020', 0)\");\n",
    "cursor.execute(\"INSERT INTO MYRESTAURANT  (NAME,FOODTYPE,DISTANCE,LASTVISIT,ILIKE) \\\n",
    "      VALUES ('munivilas', 'nonveg', 20, '05-Dec-2019', 'null')\");\n",
    "cursor.execute(\"INSERT INTO MYRESTAURANT  (NAME,FOODTYPE,DISTANCE,LASTVISIT,ILIKE) \\\n",
    "      VALUES ('dosacorner', 'nonveg', 10, '05-Feb-2020', 1)\");\n",
    "conn.commit()\n",
    "conn.close()"
   ]
  },
  {
   "cell_type": "markdown",
   "metadata": {},
   "source": [
    "In this program,we want to open the table MyRestaurants.db that we have created for NoSQL course.First we want to connect the database sucessfully,then create the table and insert all the rows in it."
   ]
  },
  {
   "cell_type": "markdown",
   "metadata": {},
   "source": [
    "3.Write a SQL query that returns all restaurants in your table MyRestaurants.db. "
   ]
  },
  {
   "cell_type": "code",
   "execution_count": 12,
   "metadata": {},
   "outputs": [
    {
     "name": "stdout",
     "output_type": "stream",
     "text": [
      "NAME =  apple_leaf\n",
      "NAME =  sowmyas\n",
      "NAME =  thinnappa\n",
      "NAME =  sribhavan\n",
      "NAME =  chinaworld\n",
      "NAME =  littlechina\n",
      "NAME =  munivilas\n",
      "NAME =  dosacorner\n"
     ]
    }
   ],
   "source": [
    "import sqlite3\n",
    "conn = sqlite3.connect('my_database.sqlite')\n",
    "cursor = conn.cursor()\n",
    "for row in cursor.execute(\"SELECT NAME from MYRESTAURANT\"):\n",
    "    print(\"NAME = \", row[0])\n",
    "conn.commit()\n",
    "conn.close()"
   ]
  },
  {
   "cell_type": "markdown",
   "metadata": {},
   "source": [
    "In this program,we connect the database,then returns all restaurants in the table MyRestaurants.db."
   ]
  },
  {
   "cell_type": "markdown",
   "metadata": {},
   "source": [
    "4.Write a SQL query that returns the names of restaurants in descending order that\n",
    "makes Chinese foods. "
   ]
  },
  {
   "cell_type": "code",
   "execution_count": 13,
   "metadata": {},
   "outputs": [
    {
     "name": "stdout",
     "output_type": "stream",
     "text": [
      "NAME =  chinaworld\n",
      "FOODTYPE=  chinese\n",
      "NAME =  littlechina\n",
      "FOODTYPE=  chinese\n"
     ]
    }
   ],
   "source": [
    "import sqlite3\n",
    "conn = sqlite3.connect('my_database.sqlite')\n",
    "cursor = conn.cursor()\n",
    "for row in cursor.execute(\"SELECT NAME, FOODTYPE from MYRESTAURANT WHERE FOODTYPE = 'chinese' GROUP BY NAME, FOODTYPE ORDER BY NAME, FOODTYPE DESC\"):\n",
    "    print(\"NAME = \", row[0])\n",
    "    print(\"FOODTYPE= \", row[1])\n",
    "conn.commit()\n",
    "conn.close()"
   ]
  },
  {
   "cell_type": "markdown",
   "metadata": {},
   "source": [
    "In this program,we want to connect the database first,then returns the names of restaurants in descending order that makes Chinese foods in the table MyRestaurants.db and print the output. "
   ]
  }
 ],
 "metadata": {
  "kernelspec": {
   "display_name": "Python 3",
   "language": "python",
   "name": "python3"
  },
  "language_info": {
   "codemirror_mode": {
    "name": "ipython",
    "version": 3
   },
   "file_extension": ".py",
   "mimetype": "text/x-python",
   "name": "python",
   "nbconvert_exporter": "python",
   "pygments_lexer": "ipython3",
   "version": "3.8.5"
  }
 },
 "nbformat": 4,
 "nbformat_minor": 4
}
