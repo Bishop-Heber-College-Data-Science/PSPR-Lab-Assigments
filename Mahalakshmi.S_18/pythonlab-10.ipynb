{
 "cells": [
  {
   "cell_type": "markdown",
   "metadata": {},
   "source": [
    "Mahalakshmi.S"
   ]
  },
  {
   "cell_type": "markdown",
   "metadata": {},
   "source": [
    "DS205229118"
   ]
  },
  {
   "cell_type": "markdown",
   "metadata": {},
   "source": [
    "1.Write a program to implement MAP function. Find the square root of a list of\n",
    "numbers [1, 2, 4, 6] using map and sqrt functions. Check the answer against your user defined\n",
    "function mymap(). "
   ]
  },
  {
   "cell_type": "code",
   "execution_count": 2,
   "metadata": {},
   "outputs": [
    {
     "name": "stdout",
     "output_type": "stream",
     "text": [
      "[1.0, 1.4142135623730951, 2.0, 2.449489742783178]\n"
     ]
    },
    {
     "data": {
      "text/plain": [
       "[1.0, 1.4142135623730951, 2.0, 2.449489742783178]"
      ]
     },
     "execution_count": 2,
     "metadata": {},
     "output_type": "execute_result"
    }
   ],
   "source": [
    "from math import sqrt\n",
    "lst=[1,2,4,6]\n",
    "map_object=map(sqrt,lst)\n",
    "print(list(map_object))\n",
    "\n",
    "def mymap(f,seq):\n",
    "    result=[]\n",
    "    for elt in seq:\n",
    "        result.append(f(elt))\n",
    "    return result\n",
    "mymap(sqrt,lst)    "
   ]
  },
  {
   "cell_type": "markdown",
   "metadata": {},
   "source": [
    "In this program,we want to implement MAP function,then find the square root of a list of numbers [1, 2, 4, 6] using map and sqrt functions and check the output against your user defined function mymap().Then print the output."
   ]
  },
  {
   "cell_type": "markdown",
   "metadata": {},
   "source": [
    "2.Write a program to implement FILTER function. Filter all upper case letters in a list ['x', 'Y', '2', '3', 'Z', ‘b’] using filter function. Check the answer against your user define function\n",
    "myfilter()."
   ]
  },
  {
   "cell_type": "code",
   "execution_count": 3,
   "metadata": {},
   "outputs": [
    {
     "name": "stdout",
     "output_type": "stream",
     "text": [
      "['Y', 'Z']\n"
     ]
    },
    {
     "data": {
      "text/plain": [
       "['Y', 'Z']"
      ]
     },
     "execution_count": 3,
     "metadata": {},
     "output_type": "execute_result"
    }
   ],
   "source": [
    "filter_object=filter(str.isupper,['x', 'Y', '2', '3', 'Z', 'b'])\n",
    "print(list(filter_object))\n",
    "\n",
    "def filter(f,seq):\n",
    "    result=[]\n",
    "    for elt in seq:\n",
    "        if f(elt):\n",
    "            result.append(elt)\n",
    "    return result\n",
    "filter(str.isupper,['x', 'Y', '2', '3', 'Z', 'b'])"
   ]
  },
  {
   "cell_type": "markdown",
   "metadata": {},
   "source": [
    "In this program,we want to implement FILTER function, then filter all upper case letters in a list ['x', 'Y', '2', '3', 'Z', ‘b’] using filter function and check the output against your user define function myfilter().Then print the output."
   ]
  },
  {
   "cell_type": "markdown",
   "metadata": {},
   "source": [
    "3.Write a program to create a lambda function that takes two characters and\n",
    "concatenates them. Now, apply this function inside REDUCE function that will reduce the list of characters [‘a’, ‘b’, ‘c’, d’] with the intial value ‘x’."
   ]
  },
  {
   "cell_type": "code",
   "execution_count": 1,
   "metadata": {},
   "outputs": [
    {
     "data": {
      "text/plain": [
       "'xabcd'"
      ]
     },
     "execution_count": 1,
     "metadata": {},
     "output_type": "execute_result"
    }
   ],
   "source": [
    "from functools import reduce\n",
    "(lambda x,y:x+y)('a','b')\n",
    "reduce (lambda x,y:x+y,['a','b','c','d'],'x')"
   ]
  },
  {
   "cell_type": "markdown",
   "metadata": {},
   "source": [
    "In this program,we want to create a lambda function that takes two characters and concatenates them.Then this function inside REDUCE function that will reduce the list of characters [‘a’, ‘b’, ‘c’, d’] with the intial value ‘x’ and print the output."
   ]
  },
  {
   "cell_type": "markdown",
   "metadata": {},
   "source": [
    "4.Imagine an accounting routine used in a book shop. It works on a list with sublists,\n",
    "which look like this:\n",
    "Order No      Book Title and Author             Quantity      Price per Item\n",
    "34587     Learning Python, Mark Lutz               4             40.95\n",
    "98762     Programming Python, Mark Lutz            5             56.80\n",
    "77226     Head First Python, Paul Barry            3             32.95\n",
    "88112     Einführung in Python3, Bernd Klein       3             24.99\n",
    "Write a Python program, which returns a list with 2-tuples. Each tuple consists of an order\n",
    "number and the product of the price per items and the quantity. The product should be\n",
    "decreased by RS 10 if the value of the order is smaller than RS 100.00. Write a Python program\n",
    "using lambda and map functions. "
   ]
  },
  {
   "cell_type": "code",
   "execution_count": 1,
   "metadata": {},
   "outputs": [
    {
     "name": "stdout",
     "output_type": "stream",
     "text": [
      "[34587, 'Learning Python , Mark Lutz', 4, 40.95]\n",
      "[98762, 'Programming Python , Mark Lutz', 5, 56.8]\n",
      "[77226, 'Head first Python , Paul Barry', 3, 32.95]\n",
      "[88112, 'Einfuhrung in Python , Bernd Klein', 3, 24.99]\n"
     ]
    }
   ],
   "source": [
    "tab = [[34587,'Learning Python , Mark Lutz',4,40.95],\n",
    "       [98762,'Programming Python , Mark Lutz',5,56.80],\n",
    "       [77226,'Head first Python , Paul Barry',3,32.95],\n",
    "       [88112,'Einfuhrung in Python , Bernd Klein',3,24.99]]\n",
    "print(*tab, sep='\\n')"
   ]
  },
  {
   "cell_type": "code",
   "execution_count": 2,
   "metadata": {},
   "outputs": [
    {
     "name": "stdout",
     "output_type": "stream",
     "text": [
      "[(34587, 98762, 77226, 88112), (163.8, 284.0, 88.85, 64.97)]\n"
     ]
    }
   ],
   "source": [
    "program = []\n",
    "program1 = []\n",
    "final = []\n",
    "nprogram = []\n",
    "for i in range(4):\n",
    "    j=tab[i][2]*tab[i][3]\n",
    "    if j < 100:\n",
    "        j = j - 10\n",
    "        nprogram.append(round(j,2))\n",
    "    else:\n",
    "        nprogram.append(round(j,2))\n",
    "    program1.append(tab[i][0])   \n",
    "t1=tuple(program1)\n",
    "t2=tuple(nprogram)\n",
    "final.append(t1)\n",
    "final.append(t2)\n",
    "print(final)"
   ]
  },
  {
   "cell_type": "markdown",
   "metadata": {},
   "source": [
    "In this program,we have to returns a list with 2-tuples,each tuple consists of an order number and the product of the price per items and the quantity.Then the product should be decreased by RS 10 if the value of the order is smaller than RS 100.00 using lambda and map functions then print the output."
   ]
  }
 ],
 "metadata": {
  "kernelspec": {
   "display_name": "Python 3",
   "language": "python",
   "name": "python3"
  },
  "language_info": {
   "codemirror_mode": {
    "name": "ipython",
    "version": 3
   },
   "file_extension": ".py",
   "mimetype": "text/x-python",
   "name": "python",
   "nbconvert_exporter": "python",
   "pygments_lexer": "ipython3",
   "version": "3.8.5"
  }
 },
 "nbformat": 4,
 "nbformat_minor": 4
}
