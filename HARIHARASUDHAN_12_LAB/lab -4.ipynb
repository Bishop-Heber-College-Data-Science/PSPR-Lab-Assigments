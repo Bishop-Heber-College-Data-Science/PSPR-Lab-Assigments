{
 "cells": [
  {
   "cell_type": "markdown",
   "metadata": {},
   "source": [
    "## NAME    : HARIHARASUDHAN\n",
    "\n",
    "## ROLL NO : 205229112"
   ]
  },
  {
   "cell_type": "markdown",
   "metadata": {},
   "source": [
    "## Lab4. Python String Processing "
   ]
  },
  {
   "cell_type": "markdown",
   "metadata": {},
   "source": [
    "## Question1:Develop a function count_letter(string, search) that returns the number of times search character appears in a string.\n",
    "\n",
    "Test cases:\n",
    "\n",
    "    Str = \"hello world\".Search = 'o'. Calling count_letter(str, search) should return output 2\n",
    "    Str = \"HeLlo wOrld\". Search = 'o'. Then, calling count_letter(str, search) will return output 1\n",
    "\n",
    "Modify count_letter() so that it ignores case sensitivity, so that o and O are same.\n",
    "\n",
    "    Str = \"HeLlo wOrld\". Search='o'. Calling count_lettern(str, search) will return output 2"
   ]
  },
  {
   "cell_type": "code",
   "execution_count": 2,
   "metadata": {},
   "outputs": [
    {
     "name": "stdout",
     "output_type": "stream",
     "text": [
      "Enter the words to search: hello world\n",
      "Enter the character to search: o\n",
      "2\n"
     ]
    }
   ],
   "source": [
    "def count_letter(word, search):\n",
    "    return count\n",
    "word = input(\"Enter the words to search: \").lower()\n",
    "search = input(\"Enter the character to search: \").lower()\n",
    "count = 0\n",
    "for char in word:\n",
    "    if char == search:\n",
    "        count += 1\n",
    "print(count_letter(word, search))"
   ]
  },
  {
   "cell_type": "markdown",
   "metadata": {},
   "source": [
    "## Question2.Write a program that counts the number of spaces, digits, vowels and consonants in a string that the user inputs. Print the string, no of spaces, no of digits, no of vowels and no of consonants.\n",
    "Test case: Enter a string: Bishop Heber College 17. Then output should be:\n",
    "\n",
    "    Given string: Bishop Heber College 17\n",
    "    No. of spaces: 3\n",
    "    No. of digits: 2\n",
    "    No. of vowels: 7\n",
    "    No. of consonants: 12"
   ]
  },
  {
   "cell_type": "code",
   "execution_count": 4,
   "metadata": {},
   "outputs": [
    {
     "name": "stdout",
     "output_type": "stream",
     "text": [
      "Enter the string: bishop heber college 19\n",
      "\n",
      "Space:  3 \n",
      "Digits:  2 \n",
      "Vowels:  7 \n",
      "Consonants:  11\n"
     ]
    }
   ],
   "source": [
    "s =input(\"Enter the string: \")\n",
    "a = s.lower()\n",
    "vowels = \"aeiou\"\n",
    "consonants = \"bcdfghjklmnpqrstvwxyz\"\n",
    "digits = \"1234567890\"\n",
    "space = \" \"\n",
    "c = 0\n",
    "v = 0\n",
    "d = 0\n",
    "sp = 0\n",
    "    \n",
    "for i in a:\n",
    "    if i in vowels:\n",
    "        v+=1\n",
    "    elif i in consonants:\n",
    "        c+=1\n",
    "    elif i in digits:\n",
    "        d+=1\n",
    "    elif i in space:\n",
    "        sp+=1\n",
    "\n",
    "print(\"\\nSpace: \",sp,\"\\nDigits: \",d,\"\\nVowels: \",v,\"\\nConsonants: \",c)"
   ]
  },
  {
   "cell_type": "markdown",
   "metadata": {},
   "source": [
    "## Question3.Develop a function remove_punctuation(str) that returns the string afer removing the following punctuations.\n",
    "\n",
    "Punctuation List = \"!\\\"#$%&'()*+,-,/:;<=>?@[]^{|}\"\n",
    "\n",
    "Test case:\n",
    "\n",
    "    Str=\"Bishop's College !.....\". Calling remove_punctuation(str) should return output as \"Bishop College\"\n",
    "    Str=\"#bhc trending @cs $placements::>.\" Calling remove_punctuation(str) should return output as \"bhc trending cs placements\""
   ]
  },
  {
   "cell_type": "code",
   "execution_count": 6,
   "metadata": {},
   "outputs": [],
   "source": [
    "def remove_punctuation(string):\n",
    "    punctuations = '''!()-[];:'\"\\,<>./?@#$%^&*_'''\n",
    "    for x in string.lower():\n",
    "        if x in punctuations:\n",
    "            string = string.replace(x, \"\")\n",
    "    print(string)"
   ]
  },
  {
   "cell_type": "code",
   "execution_count": 7,
   "metadata": {},
   "outputs": [
    {
     "name": "stdout",
     "output_type": "stream",
     "text": [
      "Enter the string with symbols: #bhc trending @cs $placements::>.\n",
      "bhc trending cs placements\n"
     ]
    }
   ],
   "source": [
    "string=(input(\"Enter the string with symbols: \"))\n",
    "remove_punctuation(string)"
   ]
  },
  {
   "cell_type": "markdown",
   "metadata": {},
   "source": [
    "## Question4: Write a program that asks the user for a word. Translate their word into Pig Latin. Pig Latin game takes the first consonant (or set of first consonants) of an English word, moves it to the end of the word and suffixes an ay. If the first letter is a vowel, do not move that vowel,but instead add \"way\" at the end of the word.\n",
    "\n",
    "Test Cases:\n",
    "\n",
    "    Enter a word: pig\n",
    "        Output: ig-pay\n",
    "    Enter a word: banana\n",
    "        Output: anana-bay\n",
    "    Enter a word: trash\n",
    "        Output: ash-tray\n",
    "    Enter a word: apple\n",
    "        Output: apple-way\n",
    "    Enter a word: orange\n",
    "        Output: orange-way\n",
    "\n",
    "Modify your program so that it becomes a function piglatin(word) and returns translated word as output. Call this function 3 times with the same inputs and validate the outputs."
   ]
  },
  {
   "cell_type": "code",
   "execution_count": 9,
   "metadata": {},
   "outputs": [
    {
     "name": "stdout",
     "output_type": "stream",
     "text": [
      "Enter a word to translate to pig latin:pig\n"
     ]
    }
   ],
   "source": [
    "word = input(\"Enter a word to translate to pig latin:\")\n",
    "def piglatin(word):\n",
    "    ay = 'ay'\n",
    "    way = 'way'\n",
    "    p = '-'\n",
    "    consonant = ('B','C','D','F','G','H','J','K','L','M','N','P','Q','R','S','T','Y','V','X','Z')\n",
    "    vowel = ('A','E','I','O','U')\n",
    "    first_letter = word[0]\n",
    "    first_letter = str(first_letter)\n",
    "    first_letter = first_letter.upper()\n",
    "    if first_letter in consonant:\n",
    "        print(first_letter,'is a consonant')\n",
    "        length_of_word = len(word)\n",
    "        remove_first_letter = word[1:length_of_word]\n",
    "        pig_latin = remove_first_letter+p+first_letter+ay\n",
    "        print('The word in Pig Latin is:',pig_latin)\n",
    "    elif first_letter in vowel:\n",
    "        print(first_letter,\"is a vowel\")\n",
    "        pig_latin = word+p+way\n",
    "        print('The word in Pig Latin is:',pig_latin)\n",
    "    else:\n",
    "        print('I dont know what',first_letter,'is')"
   ]
  },
  {
   "cell_type": "code",
   "execution_count": 10,
   "metadata": {},
   "outputs": [
    {
     "name": "stdout",
     "output_type": "stream",
     "text": [
      "P is a consonant\n",
      "The word in Pig Latin is: ig-Pay\n"
     ]
    }
   ],
   "source": [
    "piglatin(word)"
   ]
  },
  {
   "cell_type": "code",
   "execution_count": null,
   "metadata": {},
   "outputs": [],
   "source": []
  }
 ],
 "metadata": {
  "kernelspec": {
   "display_name": "Python 3",
   "language": "python",
   "name": "python3"
  },
  "language_info": {
   "codemirror_mode": {
    "name": "ipython",
    "version": 3
   },
   "file_extension": ".py",
   "mimetype": "text/x-python",
   "name": "python",
   "nbconvert_exporter": "python",
   "pygments_lexer": "ipython3",
   "version": "3.8.3"
  }
 },
 "nbformat": 4,
 "nbformat_minor": 4
}
