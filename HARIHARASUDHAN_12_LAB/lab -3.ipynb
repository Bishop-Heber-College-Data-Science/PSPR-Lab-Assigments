{
 "cells": [
  {
   "cell_type": "markdown",
   "metadata": {},
   "source": [
    "## NAME    : HARIHARASUDHAN\n",
    "\n",
    "## ROLL NO : 205229112"
   ]
  },
  {
   "cell_type": "markdown",
   "metadata": {},
   "source": [
    "## Lab3. Python Functions and Modules"
   ]
  },
  {
   "cell_type": "markdown",
   "metadata": {},
   "source": [
    "## Question 1: create a function prime() that receives an integer and returns whether n is prime or not. Print all prime numbers from 1 to 100 by calling prime() function."
   ]
  },
  {
   "cell_type": "code",
   "execution_count": 1,
   "metadata": {},
   "outputs": [
    {
     "name": "stdout",
     "output_type": "stream",
     "text": [
      "Enter the number: 12\n",
      "12 is not prime number\n",
      "\n",
      "Enter the number: 3\n",
      "3 is prime number\n",
      "\n",
      "Enter the number: 17\n",
      "17 is prime number\n",
      "\n",
      "Enter the number: 6\n",
      "6 is not prime number\n",
      "\n",
      "Enter the number: 34\n",
      "34 is not prime number\n",
      "\n",
      "Enter the number: 31\n",
      "31 is prime number\n",
      "\n",
      "Enter the number: 0\n",
      "\n",
      "Loop ends here... \n",
      "\n",
      "\n",
      "\n",
      "Here we are printing all prime numbers from 1 to 100 using prime function: \n",
      "\n",
      "\n",
      "Prime 2\n",
      "Prime 3\n",
      "Prime 5\n",
      "Prime 7\n",
      "Prime 11\n",
      "Prime 13\n",
      "Prime 17\n",
      "Prime 19\n",
      "Prime 23\n",
      "Prime 29\n",
      "Prime 31\n",
      "Prime 37\n",
      "Prime 41\n",
      "Prime 43\n",
      "Prime 47\n",
      "Prime 53\n",
      "Prime 59\n",
      "Prime 61\n",
      "Prime 67\n",
      "Prime 71\n",
      "Prime 73\n",
      "Prime 79\n",
      "Prime 83\n",
      "Prime 89\n",
      "Prime 97\n"
     ]
    }
   ],
   "source": [
    "def prime(num):\n",
    "    for i in range(2,num):\n",
    "        if num%i == 0:\n",
    "            return 0\n",
    "    else:\n",
    "        return num\n",
    "\n",
    "while True:\n",
    "    n=int(input(\"Enter the number: \"))\n",
    "    if n==0:\n",
    "        print(\"\\nLoop ends here... \\n\\n\\n\\nHere we are printing all prime numbers from 1 to 100 using prime function: \\n\\n\")\n",
    "        break\n",
    "    a=prime(n)\n",
    "    if a!= 0:\n",
    "        print(n,\"is prime number\\n\")\n",
    "    else:\n",
    "        print(n,\"is not prime number\\n\")\n",
    "\n",
    "def prime(n):\n",
    "    status = True\n",
    "    if n < 2:\n",
    "        status = False\n",
    "    else:\n",
    "        for i in range(2,n):\n",
    "            if n % i == 0:\n",
    "                status = False\n",
    "    return status\n",
    "\n",
    "for n in range(1,100):\n",
    "    if prime(n):\n",
    "        if n==100:\n",
    "            print ('Prime',n)\n",
    "        else:\n",
    "            print ('Prime',n)\n",
    "\n"
   ]
  },
  {
   "cell_type": "markdown",
   "metadata": {},
   "source": [
    "## Question 2: Develop a simple arithmetic calculator for 4 operations. The program should continue calculation until user types 'q' to quit. A sample user interaction can be:\n",
    "\n",
    "Enter operator(q to quit): + Enter value 1: 10 Enter value 2: 20 Result = 30\n",
    "Create 4 functions add(), subtract(), multiply(), and divide() that receives two values and returns the result of the operation. Now, perform the following operations by calling the corresponding functions. Validate your outputs.\n",
    "\n",
    "    10+20\n",
    "    20-5\n",
    "    8*5\n",
    "    50/3"
   ]
  },
  {
   "cell_type": "code",
   "execution_count": 4,
   "metadata": {},
   "outputs": [
    {
     "name": "stdout",
     "output_type": "stream",
     "text": [
      "Enter the opertor: \n",
      "+\n",
      "\n",
      "Enter the value of 1: 12\n",
      "Enter the value of 2: 32\n",
      "Result is  44 \n",
      "\n",
      "Enter the opertor: \n",
      "-\n",
      "\n",
      "Enter the value of 1: 34\n",
      "Enter the value of 2: 2\n",
      "Result is  32 \n",
      "\n",
      "Enter the opertor: \n",
      "*\n",
      "\n",
      "Enter the value of 1: 12\n",
      "Enter the value of 2: 32\n",
      "Result is  384 \n",
      "\n",
      "Enter the opertor: \n",
      "/\n",
      "\n",
      "Enter the value of 1: 222213\n",
      "Enter the value of 2: 3\n",
      "Result is  74071.0 \n",
      "\n",
      "Enter the opertor: \n",
      "q\n",
      "Quit\n"
     ]
    }
   ],
   "source": [
    "def add(a,b):\n",
    "    return a+b\n",
    "def sub(a,b):\n",
    "    return a-b\n",
    "def mul(a,b):\n",
    "    return a*b\n",
    "def div(a,b):\n",
    "    if b==0:\n",
    "        print(\"division is not possible \")\n",
    "    else:\n",
    "        return a/b\n",
    "\n",
    "while True:\n",
    "    print(\"Enter the opertor: \")\n",
    "    operator=input()\n",
    "    if (operator=='q'):\n",
    "        break\n",
    "    a=int(input(\"\\nEnter the value of 1: \"))\n",
    "    b=int(input(\"Enter the value of 2: \"))\n",
    "\n",
    "    if (operator=='+'):\n",
    "        r=add(a,b)\n",
    "    elif (operator=='-'):\n",
    "        r=sub(a,b)\n",
    "    elif (operator =='*'):\n",
    "        r=mul(a,b)\n",
    "    elif (operator=='/'):\n",
    "        r=div(a,b)\n",
    "    print(\"Result is \",r,'\\n')\n",
    "print(\"Quit\")\n",
    "\n"
   ]
  },
  {
   "cell_type": "markdown",
   "metadata": {},
   "source": [
    "## Question3.Create a function factorial() that takes an integer and returns its factorial value.\n",
    "\n",
    "    You can create as a non-recursive version of factorial.\n",
    "    Also, check factorial of negative number does not exist.\n",
    "    Factorial of 0 is 1.\n",
    "    Save this Python file as factorial_definition.py.\n",
    "\n",
    "Now, open another file and can import factorial_definition.py as follows:\n",
    "\n",
    "    import factorial_definition\n",
    "    You can call function function as factorial_definition.factorial().\n",
    "\n",
    "Now, print the following factorial values:\n",
    "\n",
    "        factorial_definition.factorial(3)\n",
    "        factorial_definition.factorial(5)\n",
    "        factorial_definition.factorial(10)\n"
   ]
  },
  {
   "cell_type": "code",
   "execution_count": 10,
   "metadata": {},
   "outputs": [],
   "source": [
    "def factorial(n):\n",
    "   result = 1;\n",
    "   if(n < 0):\n",
    "       print(\"The factorial does not exist for negative numbers\")\n",
    "   elif(n==0):\n",
    "       print(\"The factorial of 0 is 1\")\n",
    "   elif(n==1):\n",
    "       return 1\n",
    "   else:\n",
    "       for i in range(2, n + 1):\n",
    "           result = result * i;\n",
    "       return result;\n"
   ]
  },
  {
   "cell_type": "markdown",
   "metadata": {},
   "source": [
    "## Create a non recursive function factorial() that takes an integer and returns its factorial value. Save the python file as .py and import the module and use the functions."
   ]
  },
  {
   "cell_type": "code",
   "execution_count": 20,
   "metadata": {},
   "outputs": [
    {
     "ename": "ModuleNotFoundError",
     "evalue": "No module named 'factorial_definition'",
     "output_type": "error",
     "traceback": [
      "\u001b[1;31m---------------------------------------------------------------------------\u001b[0m",
      "\u001b[1;31mModuleNotFoundError\u001b[0m                       Traceback (most recent call last)",
      "\u001b[1;32m<ipython-input-20-0943316a9cbb>\u001b[0m in \u001b[0;36m<module>\u001b[1;34m\u001b[0m\n\u001b[1;32m----> 1\u001b[1;33m \u001b[1;32mimport\u001b[0m \u001b[0mfactorial_definition\u001b[0m\u001b[1;33m\u001b[0m\u001b[1;33m\u001b[0m\u001b[0m\n\u001b[0m\u001b[0;32m      2\u001b[0m \u001b[1;33m\u001b[0m\u001b[0m\n\u001b[0;32m      3\u001b[0m \u001b[0mfactorial_definition\u001b[0m\u001b[1;33m.\u001b[0m\u001b[0mfactorial\u001b[0m\u001b[1;33m(\u001b[0m\u001b[1;36m3\u001b[0m\u001b[1;33m)\u001b[0m\u001b[1;33m\u001b[0m\u001b[1;33m\u001b[0m\u001b[0m\n",
      "\u001b[1;31mModuleNotFoundError\u001b[0m: No module named 'factorial_definition'"
     ]
    }
   ],
   "source": [
    "import factorial_definition\n",
    "\n",
    "factorial_definition.factorial(3)"
   ]
  },
  {
   "cell_type": "code",
   "execution_count": null,
   "metadata": {},
   "outputs": [],
   "source": []
  }
 ],
 "metadata": {
  "kernelspec": {
   "display_name": "Python 3",
   "language": "python",
   "name": "python3"
  },
  "language_info": {
   "codemirror_mode": {
    "name": "ipython",
    "version": 3
   },
   "file_extension": ".py",
   "mimetype": "text/x-python",
   "name": "python",
   "nbconvert_exporter": "python",
   "pygments_lexer": "ipython3",
   "version": "3.8.3"
  }
 },
 "nbformat": 4,
 "nbformat_minor": 4
}
