{
 "cells": [
  {
   "cell_type": "markdown",
   "metadata": {},
   "source": [
    "## NAME    : HARIHARASUDHAN\n",
    "\n",
    "## ROLL NO : 205229112"
   ]
  },
  {
   "cell_type": "markdown",
   "metadata": {},
   "source": [
    "## Lab1. Python Basics and Conditions"
   ]
  },
  {
   "cell_type": "markdown",
   "metadata": {},
   "source": [
    "# Question1. Write a program in Python to input length and breadth of a rectangle and print the area and perimeter of it.\n",
    "\n",
    "    * Test you code with atleast 2 test cases\n"
   ]
  },
  {
   "cell_type": "code",
   "execution_count": 1,
   "metadata": {},
   "outputs": [
    {
     "name": "stdout",
     "output_type": "stream",
     "text": [
      "Length : 12\n",
      "Breadth : 113\n",
      "Area of Rectangle :  1356\n",
      "Perimeter of Rectangle :  250\n"
     ]
    }
   ],
   "source": [
    "l=int(input(\"Length : \"))\n",
    "b=int(input(\"Breadth : \"))\n",
    "area=l*b\n",
    "perimeter=2*(l+b)\n",
    "print(\"Area of Rectangle : \",area)\n",
    "print(\"Perimeter of Rectangle : \",perimeter)"
   ]
  },
  {
   "cell_type": "markdown",
   "metadata": {},
   "source": [
    "# Question2. Write a program, which accepts annual basic salary of an employee and calculates and displays the Income tax as per the following rules.\n",
    "\n",
    "    If Basic is less than Rs. 1,50,000/-, then Tax = 0.\n",
    "    If Basic is from Rs.1,50,000/- to Rs. 3,00,000/-, then tax is 20%.\n",
    "    If Basic is greater than Rs.3,00,000/-, then tax is 30%.\n",
    "    Print name, annual income and tax.\n",
    "    Write test cases to validate all conditions\n",
    "\n"
   ]
  },
  {
   "cell_type": "code",
   "execution_count": 3,
   "metadata": {},
   "outputs": [
    {
     "name": "stdout",
     "output_type": "stream",
     "text": [
      "Employee Name: HARI\n",
      "Your Annual Basic Salary: 123456789\n",
      "Your Tax Amount:  37037036.699999996\n",
      "Your Annual Income:  86419752.30000001\n"
     ]
    }
   ],
   "source": [
    "e_name=input(\"Employee Name: \")\n",
    "salary=float(input(\"Your Annual Basic Salary: \"))\n",
    "if(salary<150000):\n",
    "    tax=0\n",
    "    netsalary=salary-tax\n",
    "    print(\"No taxable Amount\")\n",
    "    print(\"Your Annual Income: \",netsalary)\n",
    "elif(salary<300000):\n",
    "    tax=0.2*salary\n",
    "    netsalary=salary-tax\n",
    "    print(\"Your Tax Amount: \",tax)\n",
    "    print(\"Your Annual Income: \", netsalary)\n",
    "elif(salary>300000):\n",
    "    tax=0.3*salary\n",
    "    netsalary=salary-tax\n",
    "    print(\"Your Tax Amount: \",tax)\n",
    "    print(\"Your Annual Income: \", netsalary)"
   ]
  },
  {
   "cell_type": "markdown",
   "metadata": {},
   "source": [
    "# Question3. Write a program to accept quantity and rate for three (3) items. Compute the total sales amount. Also compute and print the discount as follows:\n",
    "\n",
    "    Amount > Rs. 2000/- : 20% discount\n",
    "    Amount between Rs. 1500/- to Rs.1999/- :15% discount\n",
    "    Amount between Rs. 1000/- to Rs.1499/- 8 % discount\n",
    "    Compute final amount to be paid.\n",
    "    Print name, rate and quantity of 3 items. Then print total sales amount, total discount and final amount to be paid to shop.\n",
    "    Write 3 test cases to validate all conditions\n",
    "\n"
   ]
  },
  {
   "cell_type": "code",
   "execution_count": 6,
   "metadata": {},
   "outputs": [
    {
     "name": "stdout",
     "output_type": "stream",
     "text": [
      "PR DEPARTMENT STORE\n",
      "enter the item1: ice cream\n",
      "enter the quantity1: 100\n",
      "enter the rate1: 10\n",
      "enter the item2: oil\n",
      "enter the quantity2: 10\n",
      "enter the rate2: 140\n",
      "enter the item3: sugar\n",
      "enter the quantity3: 19\n",
      "enter the rate3: 40\n",
      "DISCOUNT 20%.....||\n",
      "\n",
      "\n",
      "total amount:  3160\n",
      "\n",
      "total discount:  632.0\n",
      "\n",
      "final price to be paid by customer:  2528.0\n"
     ]
    }
   ],
   "source": [
    "print(\"PR DEPARTMENT STORE\")\n",
    "name_item1=str(input(\"enter the item1: \"))\n",
    "quantity_1=int(input(\"enter the quantity1: \"))\n",
    "rate_1=int(input(\"enter the rate1: \"))\n",
    "\n",
    "name_item2=str(input(\"enter the item2: \"))\n",
    "quantity_2=int(input(\"enter the quantity2: \"))\n",
    "rate_2=int(int(input(\"enter the rate2: \")))\n",
    "\n",
    "name_item3=str(input(\"enter the item3: \"))\n",
    "quantity_3=int(input(\"enter the quantity3: \"))\n",
    "rate_3=int(input(\"enter the rate3: \"))\n",
    "\n",
    "amount=(quantity_1*rate_1)+(quantity_2*rate_2)+(quantity_3*rate_3)\n",
    "price=amount\n",
    "\n",
    "if amount > 2000:\n",
    "    print(\"DISCOUNT 20%.....||\\n\")\n",
    "    discount=(amount*20)/100\n",
    "    price -= discount\n",
    "elif amount > 1500 and amount < 1999:\n",
    "    print(\"DISCOUNT 15%.....||\\n\")\n",
    "    discount=(amount*15)/100\n",
    "    price -= discount\n",
    "elif amount > 1000 and amount < 1499:\n",
    "    print(\"DISCOUNT 8%.....||\\n\")\n",
    "    discount=(amount*8)/100\n",
    "    price -= discount\n",
    "print(\"\\ntotal amount: \",amount)\n",
    "print(\"\\ntotal discount: \",discount)\n",
    "print(\"\\nfinal price to be paid by customer: \",price)"
   ]
  },
  {
   "cell_type": "markdown",
   "metadata": {},
   "source": [
    "# Question4. Evaluate the expressions using Pen and Paper first and then print the value.\n",
    "\n",
    "    X1=(11+31+23+8+7+5)/((1-(1/2)-(1/20)))\n",
    "    X2=(((10*8)+8-((7//5)%(5**4)))&3)|(2<<1)\n",
    "\n"
   ]
  },
  {
   "cell_type": "code",
   "execution_count": 7,
   "metadata": {},
   "outputs": [
    {
     "name": "stdout",
     "output_type": "stream",
     "text": [
      "188.88888888888889\n",
      "7\n"
     ]
    }
   ],
   "source": [
    "x1=(11+31+23+8+7+5)/((1-(1/2)-(1/20)))\n",
    "print(x1)\n",
    "x2=(((10*8)+8-((7//5)%(5**4)))&3)|(2<<1)\n",
    "print(x2)"
   ]
  },
  {
   "cell_type": "markdown",
   "metadata": {},
   "source": [
    "## Question5. Write a program to accept name, marks for three subjects and find the total marks secured, average and also display the class obtained.\n",
    "\n",
    "    Class I – above 80%\n",
    "    Class II – 60% to 80%\n",
    "    Pass class – 40% to 59% and\n",
    "    Fail otherwise #### Print a message as “Congratulations << your name>>, you secured a total of <total>\n",
    "\n"
   ]
  },
  {
   "cell_type": "code",
   "execution_count": 8,
   "metadata": {},
   "outputs": [
    {
     "name": "stdout",
     "output_type": "stream",
     "text": [
      "Enter your name: hari\n",
      "Please enter Subject 1 Mark: 100\n",
      "Please enter Subject 2 Mark: 99\n",
      "Please enter Subject 3 Mark: 97\n",
      "\n",
      "Congratulation! hari you secured a total of 296 and your class is: 1st Class\n"
     ]
    }
   ],
   "source": [
    "name = str(input(\"Enter your name: \"))\n",
    "subject_1 = float(input(\"Please enter Subject 1 Mark: \"))\n",
    "subject_2 = float(input(\"Please enter Subject 2 Mark: \"))\n",
    "subject_3 = float(input(\"Please enter Subject 3 Mark: \"))\n",
    "\n",
    "total = int(subject_1+subject_2+subject_3)\n",
    "average = total / 3\n",
    "percentage = (total / 300) * 100\n",
    "\n",
    "if(percentage>=80):\n",
    "    print(\"\\nCongratulation!\", name, \"you secured a total of\", total, \"and your class is: 1st Class\")\n",
    "elif(percentage>=60 and percentage<=80):\n",
    "    print(\"\\nCongratulation!\", name, \"you secured a total of\", total, \"and your class is: 2nd Class\")\n",
    "elif(percentage>=40 and percentage<=59):\n",
    "    print(\"\\nCongratulation!\", name, \"you secured a total of\", total, \"and your class is: Pass Class\")\n",
    "else:\n",
    "    print(\"you are fail\")"
   ]
  },
  {
   "cell_type": "markdown",
   "metadata": {},
   "source": [
    "## Question6. Read a number from keyboard. Print whether it is odd number, even number, positive number, negative number or zero. Also, print if its ASCII value represents a lower case or upper case letter or digit.\n",
    "Write 8 test cases to validate odd, even, positive, negative, zero, lower case, upper case and digit input types"
   ]
  },
  {
   "cell_type": "code",
   "execution_count": 9,
   "metadata": {},
   "outputs": [
    {
     "name": "stdout",
     "output_type": "stream",
     "text": [
      "Enter the number to check ODD or EVEN:  \n",
      "1234\n",
      "number is POSITIVE \n",
      "\n",
      "number is even  \n",
      "\n",
      "ASCII values   \n",
      "\n",
      "the value Ӓ\n",
      "Enter ASCII values \n",
      "m\n",
      "109\n",
      "Enter a single number or a letter \n",
      "o\n",
      "IT IS AN LOWERCASE LETTERS\n"
     ]
    }
   ],
   "source": [
    "n=int(input(\"Enter the number to check ODD or EVEN:  \\n\"))\n",
    "if n>0:\n",
    "    print(\"number is POSITIVE \\n\")\n",
    "    if n%2==0:\n",
    "        print(\"number is even  \\n\")\n",
    "    else:\n",
    "        print(\"number is odd   \\n\")     \n",
    "elif n<0:\n",
    "    print(\"number is NEGETIVE   \\n\")\n",
    "    if n%2==0:\n",
    "        print(\"number is even   \\n\")\n",
    "    else:\n",
    "        print(\"number is odd     \\n\")\n",
    "else:\n",
    "    print(\"number is ZERO   \\n\")\n",
    "    \n",
    "    \n",
    "print(\"ASCII values   \\n\")\n",
    "if n>=65 and n<=91:\n",
    "    print(\"represents UPPERCASE LETTER   \\n\")\n",
    "elif n>=97 and n<=122:\n",
    "    print(\"represents LOWERCASE LETTER   \\n\")\n",
    "elif n>=48 and n<=57:\n",
    "    print(\"represents DIGIT   \\n\")\n",
    "    \n",
    "val=chr(n)\n",
    "print(\"the value\" ,val)\n",
    "char=str(input(\"Enter ASCII values \\n\"))\n",
    "print(ord(char))\n",
    "n=100\n",
    "chr(n)\n",
    "\n",
    "char=str(input(\"Enter a single number or a letter \\n\"))\n",
    "if(ord(char)>=65 and ord(char)<=90):\n",
    "    print(\"IT IS AN UPPERCASE LETTERS\")\n",
    "elif(ord(char)>=97 and ord(char)<=122):\n",
    "    print(\"IT IS AN LOWERCASE LETTERS\")\n",
    "else:\n",
    "    (ord(char)>=48 and ord(char)<=57)\n",
    "    print(\"IT IS A DIGIT\")"
   ]
  },
  {
   "cell_type": "code",
   "execution_count": null,
   "metadata": {},
   "outputs": [],
   "source": []
  }
 ],
 "metadata": {
  "kernelspec": {
   "display_name": "Python 3",
   "language": "python",
   "name": "python3"
  },
  "language_info": {
   "codemirror_mode": {
    "name": "ipython",
    "version": 3
   },
   "file_extension": ".py",
   "mimetype": "text/x-python",
   "name": "python",
   "nbconvert_exporter": "python",
   "pygments_lexer": "ipython3",
   "version": "3.8.3"
  }
 },
 "nbformat": 4,
 "nbformat_minor": 4
}
