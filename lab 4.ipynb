{
 "cells": [
  {
   "cell_type": "markdown",
   "metadata": {},
   "source": [
    "# 1- develop a function COUNT_LETTER(STRING , SEARCH) that returns the number of times search character appears in a string"
   ]
  },
  {
   "cell_type": "code",
   "execution_count": 5,
   "metadata": {},
   "outputs": [],
   "source": [
    "def countlet(strg,sea):\n",
    "    c=0 \n",
    "    for i in strg:\n",
    "        if (i.lower()==sea.lower()):\n",
    "            c += 1\n",
    "    print(\"number of\",sea, \"in the sentence = \",c)       \n",
    "    return c        "
   ]
  },
  {
   "cell_type": "code",
   "execution_count": 6,
   "metadata": {},
   "outputs": [
    {
     "name": "stdout",
     "output_type": "stream",
     "text": [
      "number of a in the sentence =  2\n"
     ]
    },
    {
     "data": {
      "text/plain": [
       "2"
      ]
     },
     "execution_count": 6,
     "metadata": {},
     "output_type": "execute_result"
    }
   ],
   "source": [
    "countlet('apple pay','a')"
   ]
  },
  {
   "cell_type": "markdown",
   "metadata": {},
   "source": [
    "# 2-write a prgm that counts number of spaces , digits,vowels and consonent in a string that the user inputs"
   ]
  },
  {
   "cell_type": "code",
   "execution_count": 2,
   "metadata": {},
   "outputs": [
    {
     "name": "stdout",
     "output_type": "stream",
     "text": [
      "enter the string   Bishop Heber College 620017\n",
      "no. of spaces : 3\n",
      "no. of digits : 6\n",
      "no. of vowels : 7\n",
      "no. of consonents : 11\n"
     ]
    }
   ],
   "source": [
    "word=str(input(\"enter the string   \"))\n",
    "di = 0\n",
    "vo = 0\n",
    "sp = 0\n",
    "con = 0\n",
    "vow=\"aioue\"\n",
    "for i in word:\n",
    "    if i.isdigit():\n",
    "        di += 1\n",
    "    elif i in vow:\n",
    "        vo += 1\n",
    "    elif i not in vow and i not in \" \":\n",
    "        con += 1\n",
    "    else:\n",
    "        sp += 1\n",
    "print(\"no. of spaces :\",sp)\n",
    "print(\"no. of digits :\",di)\n",
    "print(\"no. of vowels :\",vo)\n",
    "print(\"no. of consonents :\",con)"
   ]
  },
  {
   "cell_type": "markdown",
   "metadata": {},
   "source": [
    "#first take input from user as a string tyoe \n",
    "#declare di , vo , sp , con as 0 and vow=\"aioue\" an vowels\n",
    "#use for loop variable i in string word \n",
    "#if i is digit then increment di by 1\n",
    "#elif i is among vowels{a i o u e} then increment vo by 1\n",
    "#elif i is not among vowels as well as not a empty space then increment con by 1\n",
    "#else increment sp by 1 which gives no. of spaces in string\n",
    "#come out of for loop\n",
    "#display number of spaces,digit,vowels,consonent "
   ]
  },
  {
   "cell_type": "markdown",
   "metadata": {},
   "source": [
    "# 3 - develop function REMOVE_PUNCTUATION(str) that returns the string after the following punctuations\n",
    "# list=\"/.,';[]\\|<>:\"?{}_-=+/-*!~#!%^&(@)`\""
   ]
  },
  {
   "cell_type": "code",
   "execution_count": 5,
   "metadata": {},
   "outputs": [
    {
     "name": "stdout",
     "output_type": "stream",
     "text": [
      "enter the string  #bhc trending& @ds $*placement:;'][\\+*!\n",
      "NEW WORD   bhc trending ds placement\\\n"
     ]
    }
   ],
   "source": [
    "def remove_punctuation(word):\n",
    "    sp= \"!\\\"#$%&^*@(){}[]-'/~.,>|<;:`=+\"\n",
    "    rem=\" \"\n",
    "    for i in word:\n",
    "        if i not in sp:\n",
    "            rem=rem+i\n",
    "    print(\"NEW WORD \",rem)\n",
    "\n",
    "word=str(input(\"enter the string  \"))\n",
    "remove_punctuation(word)"
   ]
  },
  {
   "cell_type": "markdown",
   "metadata": {},
   "source": [
    "#take a input from user as string type for word \n",
    "#call function REMOVE_PUNCTUATION(WORD)\n",
    "#define a function remove_punctuation \n",
    "#declare sp =\"!@#%^&* ()_+}{\":|?><,./;'[]\\=-~}\"\n",
    "#declare rem=\" \"\n",
    "#use for loop i in word str\n",
    "#rem=rem+i  this make the empty string rem a non-empty one\n",
    "#come out of for loop\n",
    "#display new formed string rem"
   ]
  },
  {
   "cell_type": "markdown",
   "metadata": {},
   "source": [
    "# 4-write prgm that asks user for word .translate the word into pig latin.\n",
    "#if first letter is vowel , do not move that vowel and \"way\" at the end of word\n",
    "#else move first letter to the end of word and suffixes \"ay\"."
   ]
  },
  {
   "cell_type": "code",
   "execution_count": 7,
   "metadata": {},
   "outputs": [
    {
     "name": "stdout",
     "output_type": "stream",
     "text": [
      "enter the string  purple\n",
      "urple - pay\n"
     ]
    }
   ],
   "source": [
    "def piglatin(word):\n",
    "    vow=\"aioue\"\n",
    "    new=\"\"\n",
    "    if word[0] not in vow:\n",
    "        for i in range(1,len(word)):\n",
    "                new=new+word[i]\n",
    "        print(new,\"-\",word[0]+\"ay\")           \n",
    "    else:\n",
    "        print(word,\"-\",\"way\")\n",
    "        \n",
    "word=str(input(\"enter the string  \"))\n",
    "piglatin(word)"
   ]
  },
  {
   "cell_type": "markdown",
   "metadata": {},
   "source": [
    "#explaination of prgm 1\n",
    "#define a function with a single PIGLATIN(WORD)\n",
    "#decalre vow = \"aoiue\" , new=\" \"\n",
    "#if first letter is vowel then display as word-\"way\"\n",
    "#else print word except its first letter - first\"ay\""
   ]
  }
 ],
 "metadata": {
  "kernelspec": {
   "display_name": "Python 3",
   "language": "python",
   "name": "python3"
  },
  "language_info": {
   "codemirror_mode": {
    "name": "ipython",
    "version": 3
   },
   "file_extension": ".py",
   "mimetype": "text/x-python",
   "name": "python",
   "nbconvert_exporter": "python",
   "pygments_lexer": "ipython3",
   "version": "3.8.3"
  }
 },
 "nbformat": 4,
 "nbformat_minor": 4
}
